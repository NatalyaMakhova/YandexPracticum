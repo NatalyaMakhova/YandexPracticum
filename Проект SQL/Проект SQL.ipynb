{
 "cells": [
  {
   "cell_type": "markdown",
   "id": "c5b78025",
   "metadata": {},
   "source": [
    "# Проект SQL"
   ]
  },
  {
   "cell_type": "markdown",
   "id": "9dc9b36c",
   "metadata": {},
   "source": [
    "Компания купила крупный сервис для чтения книг по подписке. В базе данных хранится информация о книгах, издательствах, авторах, а также пользовательские обзоры книг. Наша задача как аналитика — проанализировать базу данных.\n",
    "\n",
    "Для этого необходимо:\n",
    "- Посчитать, сколько книг вышло после 1 января 2000 года;\n",
    "- Для каждой книги посчитать количество обзоров и среднюю оценку;\n",
    "- Определить издательство, которое выпустило наибольшее число книг толще 50 страниц — для того, чтобы исключить из анализа брошюры;\n",
    "- Определить автора с самой высокой средней оценкой книг — учитывайть только книги с 50 и более оценками;\n",
    "- Посчитайть среднее количество обзоров от пользователей, которые поставили больше 50 оценок.\n"
   ]
  },
  {
   "cell_type": "code",
   "execution_count": 1,
   "id": "a0f2bbfe",
   "metadata": {},
   "outputs": [],
   "source": [
    "# импортируем библиотеки\n",
    "import pandas as pd\n",
    "from sqlalchemy import create_engine\n",
    "#sudo apt-get install build-dep python-psycopg2\n",
    "#pip install psycopg2-binary"
   ]
  },
  {
   "cell_type": "code",
   "execution_count": 2,
   "id": "ab11bbe6",
   "metadata": {},
   "outputs": [],
   "source": [
    "# устанавливаем параметры\n",
    "db_config = {'user': 'praktikum_student', # имя пользователя\n",
    "'pwd': 'Sdf4$2;d-d30pp', # пароль\n",
    "'host': 'rc1b-wcoijxj3yxfsf3fs.mdb.yandexcloud.net',\n",
    "'port': 6432, # порт подключения\n",
    "'db': 'data-analyst-final-project-db'} # название базы данных"
   ]
  },
  {
   "cell_type": "code",
   "execution_count": 3,
   "id": "5e459001",
   "metadata": {},
   "outputs": [],
   "source": [
    "# формируем строку соединения с базой данных\n",
    "connection_string = 'postgresql://{}:{}@{}:{}/{}'.format(db_config['user'],\n",
    " db_config['pwd'],\n",
    " db_config['host'],\n",
    " db_config['port'],\n",
    " db_config['db'])"
   ]
  },
  {
   "cell_type": "code",
   "execution_count": 4,
   "id": "83964584",
   "metadata": {},
   "outputs": [],
   "source": [
    "# сохраняем коннектор\n",
    "engine = create_engine(connection_string, connect_args={'sslmode':'require'}) "
   ]
  },
  {
   "cell_type": "markdown",
   "id": "7352dded",
   "metadata": {},
   "source": [
    "## Описание данных"
   ]
  },
  {
   "cell_type": "markdown",
   "id": "e5954549",
   "metadata": {},
   "source": [
    "### Таблица books"
   ]
  },
  {
   "cell_type": "code",
   "execution_count": 5,
   "id": "5c485f38",
   "metadata": {},
   "outputs": [],
   "source": [
    "query_books = '''SELECT * \n",
    "                 FROM books\n",
    "                 LIMIT 1;\n",
    "'''"
   ]
  },
  {
   "cell_type": "code",
   "execution_count": 6,
   "id": "f3996e54",
   "metadata": {},
   "outputs": [
    {
     "data": {
      "text/html": [
       "<div>\n",
       "<style scoped>\n",
       "    .dataframe tbody tr th:only-of-type {\n",
       "        vertical-align: middle;\n",
       "    }\n",
       "\n",
       "    .dataframe tbody tr th {\n",
       "        vertical-align: top;\n",
       "    }\n",
       "\n",
       "    .dataframe thead th {\n",
       "        text-align: right;\n",
       "    }\n",
       "</style>\n",
       "<table border=\"1\" class=\"dataframe\">\n",
       "  <thead>\n",
       "    <tr style=\"text-align: right;\">\n",
       "      <th></th>\n",
       "      <th>book_id</th>\n",
       "      <th>author_id</th>\n",
       "      <th>title</th>\n",
       "      <th>num_pages</th>\n",
       "      <th>publication_date</th>\n",
       "      <th>publisher_id</th>\n",
       "    </tr>\n",
       "  </thead>\n",
       "  <tbody>\n",
       "    <tr>\n",
       "      <th>0</th>\n",
       "      <td>1</td>\n",
       "      <td>546</td>\n",
       "      <td>'Salem's Lot</td>\n",
       "      <td>594</td>\n",
       "      <td>2005-11-01</td>\n",
       "      <td>93</td>\n",
       "    </tr>\n",
       "  </tbody>\n",
       "</table>\n",
       "</div>"
      ],
      "text/plain": [
       "   book_id  author_id         title  num_pages publication_date  publisher_id\n",
       "0        1        546  'Salem's Lot        594       2005-11-01            93"
      ]
     },
     "execution_count": 6,
     "metadata": {},
     "output_type": "execute_result"
    }
   ],
   "source": [
    "books = pd.io.sql.read_sql(query_books, con = engine) \n",
    "books"
   ]
  },
  {
   "cell_type": "markdown",
   "id": "f0c49e11",
   "metadata": {},
   "source": [
    "Таблица `books` cодержит данные о книгах:\n",
    "\n",
    "- `book_id` — идентификатор книги;\n",
    "- `author_id` — идентификатор автора;\n",
    "- `title` — название книги;\n",
    "- `num_pages` — количество страниц;\n",
    "- `publication_date` — дата публикации книги;\n",
    "- `publisher_id` — идентификатор издателя."
   ]
  },
  {
   "cell_type": "markdown",
   "id": "af48cbe1",
   "metadata": {},
   "source": [
    "### Таблица authors"
   ]
  },
  {
   "cell_type": "code",
   "execution_count": 7,
   "id": "3b5c9334",
   "metadata": {},
   "outputs": [],
   "source": [
    "query_authors = '''SELECT *\n",
    "                   FROM authors\n",
    "                   LIMIT 1;\n",
    "'''"
   ]
  },
  {
   "cell_type": "code",
   "execution_count": 8,
   "id": "f1dd2049",
   "metadata": {},
   "outputs": [
    {
     "data": {
      "text/html": [
       "<div>\n",
       "<style scoped>\n",
       "    .dataframe tbody tr th:only-of-type {\n",
       "        vertical-align: middle;\n",
       "    }\n",
       "\n",
       "    .dataframe tbody tr th {\n",
       "        vertical-align: top;\n",
       "    }\n",
       "\n",
       "    .dataframe thead th {\n",
       "        text-align: right;\n",
       "    }\n",
       "</style>\n",
       "<table border=\"1\" class=\"dataframe\">\n",
       "  <thead>\n",
       "    <tr style=\"text-align: right;\">\n",
       "      <th></th>\n",
       "      <th>author_id</th>\n",
       "      <th>author</th>\n",
       "    </tr>\n",
       "  </thead>\n",
       "  <tbody>\n",
       "    <tr>\n",
       "      <th>0</th>\n",
       "      <td>1</td>\n",
       "      <td>A.S. Byatt</td>\n",
       "    </tr>\n",
       "  </tbody>\n",
       "</table>\n",
       "</div>"
      ],
      "text/plain": [
       "   author_id      author\n",
       "0          1  A.S. Byatt"
      ]
     },
     "execution_count": 8,
     "metadata": {},
     "output_type": "execute_result"
    }
   ],
   "source": [
    "authors = pd.io.sql.read_sql(query_authors, con = engine) \n",
    "authors"
   ]
  },
  {
   "cell_type": "markdown",
   "id": "de1e8957",
   "metadata": {},
   "source": [
    "Таблица `authors` cодержит данные об авторах:\n",
    "\n",
    "- `author_id` — идентификатор автора;\n",
    "- `author` — имя автора."
   ]
  },
  {
   "cell_type": "markdown",
   "id": "eabe8112",
   "metadata": {},
   "source": [
    "### Таблица publishers"
   ]
  },
  {
   "cell_type": "code",
   "execution_count": 9,
   "id": "4156dc1f",
   "metadata": {},
   "outputs": [],
   "source": [
    "query_publishers = '''SELECT *\n",
    "                      FROM publishers\n",
    "                      LIMIT 1;\n",
    "'''"
   ]
  },
  {
   "cell_type": "code",
   "execution_count": 10,
   "id": "f1d9048b",
   "metadata": {},
   "outputs": [
    {
     "data": {
      "text/html": [
       "<div>\n",
       "<style scoped>\n",
       "    .dataframe tbody tr th:only-of-type {\n",
       "        vertical-align: middle;\n",
       "    }\n",
       "\n",
       "    .dataframe tbody tr th {\n",
       "        vertical-align: top;\n",
       "    }\n",
       "\n",
       "    .dataframe thead th {\n",
       "        text-align: right;\n",
       "    }\n",
       "</style>\n",
       "<table border=\"1\" class=\"dataframe\">\n",
       "  <thead>\n",
       "    <tr style=\"text-align: right;\">\n",
       "      <th></th>\n",
       "      <th>publisher_id</th>\n",
       "      <th>publisher</th>\n",
       "    </tr>\n",
       "  </thead>\n",
       "  <tbody>\n",
       "    <tr>\n",
       "      <th>0</th>\n",
       "      <td>1</td>\n",
       "      <td>Ace</td>\n",
       "    </tr>\n",
       "  </tbody>\n",
       "</table>\n",
       "</div>"
      ],
      "text/plain": [
       "   publisher_id publisher\n",
       "0             1       Ace"
      ]
     },
     "execution_count": 10,
     "metadata": {},
     "output_type": "execute_result"
    }
   ],
   "source": [
    "publishers = pd.io.sql.read_sql(query_publishers, con = engine) \n",
    "publishers"
   ]
  },
  {
   "cell_type": "markdown",
   "id": "6f218bb9",
   "metadata": {},
   "source": [
    "Таблица `publishers` cодержит данные об издательствах:\n",
    "\n",
    "- `publisher_id` — идентификатор издательства;\n",
    "- `publisher` — название издательства;"
   ]
  },
  {
   "cell_type": "markdown",
   "id": "a99a6677",
   "metadata": {},
   "source": [
    "### Таблица ratings"
   ]
  },
  {
   "cell_type": "code",
   "execution_count": 11,
   "id": "7b44c6b0",
   "metadata": {},
   "outputs": [],
   "source": [
    "query_ratings = '''SELECT *\n",
    "                   FROM ratings\n",
    "                   LIMIT 1;\n",
    "'''"
   ]
  },
  {
   "cell_type": "code",
   "execution_count": 12,
   "id": "d7dc5f1b",
   "metadata": {},
   "outputs": [
    {
     "data": {
      "text/html": [
       "<div>\n",
       "<style scoped>\n",
       "    .dataframe tbody tr th:only-of-type {\n",
       "        vertical-align: middle;\n",
       "    }\n",
       "\n",
       "    .dataframe tbody tr th {\n",
       "        vertical-align: top;\n",
       "    }\n",
       "\n",
       "    .dataframe thead th {\n",
       "        text-align: right;\n",
       "    }\n",
       "</style>\n",
       "<table border=\"1\" class=\"dataframe\">\n",
       "  <thead>\n",
       "    <tr style=\"text-align: right;\">\n",
       "      <th></th>\n",
       "      <th>rating_id</th>\n",
       "      <th>book_id</th>\n",
       "      <th>username</th>\n",
       "      <th>rating</th>\n",
       "    </tr>\n",
       "  </thead>\n",
       "  <tbody>\n",
       "    <tr>\n",
       "      <th>0</th>\n",
       "      <td>1</td>\n",
       "      <td>1</td>\n",
       "      <td>ryanfranco</td>\n",
       "      <td>4</td>\n",
       "    </tr>\n",
       "  </tbody>\n",
       "</table>\n",
       "</div>"
      ],
      "text/plain": [
       "   rating_id  book_id    username  rating\n",
       "0          1        1  ryanfranco       4"
      ]
     },
     "execution_count": 12,
     "metadata": {},
     "output_type": "execute_result"
    }
   ],
   "source": [
    "ratings = pd.io.sql.read_sql(query_ratings, con = engine) \n",
    "ratings"
   ]
  },
  {
   "cell_type": "markdown",
   "id": "6e52b9c3",
   "metadata": {},
   "source": [
    "Таблица `ratings` cодержит данные о пользовательских оценках книг:\n",
    "\n",
    "- `rating_id` — идентификатор оценки;\n",
    "- `book_id` — идентификатор книги;\n",
    "- `username` — имя пользователя, оставившего оценку;\n",
    "- `rating` — оценка книги."
   ]
  },
  {
   "cell_type": "markdown",
   "id": "0b76cb47",
   "metadata": {},
   "source": [
    "### Таблица reviews"
   ]
  },
  {
   "cell_type": "code",
   "execution_count": 13,
   "id": "fde81e0f",
   "metadata": {},
   "outputs": [],
   "source": [
    "query_reviews = '''SELECT *\n",
    "                   FROM reviews\n",
    "                   LIMIT 1;\n",
    "'''"
   ]
  },
  {
   "cell_type": "code",
   "execution_count": 14,
   "id": "15548750",
   "metadata": {},
   "outputs": [
    {
     "data": {
      "text/html": [
       "<div>\n",
       "<style scoped>\n",
       "    .dataframe tbody tr th:only-of-type {\n",
       "        vertical-align: middle;\n",
       "    }\n",
       "\n",
       "    .dataframe tbody tr th {\n",
       "        vertical-align: top;\n",
       "    }\n",
       "\n",
       "    .dataframe thead th {\n",
       "        text-align: right;\n",
       "    }\n",
       "</style>\n",
       "<table border=\"1\" class=\"dataframe\">\n",
       "  <thead>\n",
       "    <tr style=\"text-align: right;\">\n",
       "      <th></th>\n",
       "      <th>review_id</th>\n",
       "      <th>book_id</th>\n",
       "      <th>username</th>\n",
       "      <th>text</th>\n",
       "    </tr>\n",
       "  </thead>\n",
       "  <tbody>\n",
       "    <tr>\n",
       "      <th>0</th>\n",
       "      <td>1</td>\n",
       "      <td>1</td>\n",
       "      <td>brandtandrea</td>\n",
       "      <td>Mention society tell send professor analysis. ...</td>\n",
       "    </tr>\n",
       "  </tbody>\n",
       "</table>\n",
       "</div>"
      ],
      "text/plain": [
       "   review_id  book_id      username  \\\n",
       "0          1        1  brandtandrea   \n",
       "\n",
       "                                                text  \n",
       "0  Mention society tell send professor analysis. ...  "
      ]
     },
     "execution_count": 14,
     "metadata": {},
     "output_type": "execute_result"
    }
   ],
   "source": [
    "reviews = pd.io.sql.read_sql(query_reviews, con = engine) \n",
    "reviews"
   ]
  },
  {
   "cell_type": "markdown",
   "id": "801ea601",
   "metadata": {},
   "source": [
    "Таблица `reviews` содержит данные о пользовательских обзорах на книги:\n",
    "\n",
    "- `review_id` — идентификатор обзора;\n",
    "- `book_id` — идентификатор книги;\n",
    "- `username` — имя пользователя, написавшего обзор;\n",
    "- `text` — текст обзора."
   ]
  },
  {
   "cell_type": "markdown",
   "id": "bc5c3e0e",
   "metadata": {},
   "source": [
    "## Задача 1"
   ]
  },
  {
   "cell_type": "markdown",
   "id": "942b370f",
   "metadata": {},
   "source": [
    "Посчитать, сколько книг вышло после 1 января 2000 года."
   ]
  },
  {
   "cell_type": "code",
   "execution_count": 15,
   "id": "19223db6",
   "metadata": {},
   "outputs": [],
   "source": [
    "query_1 = '''SELECT COUNT(book_id) \n",
    "             FROM books\n",
    "             WHERE CAST(publication_date as date) > '2000-01-01';\n",
    "'''"
   ]
  },
  {
   "cell_type": "code",
   "execution_count": 16,
   "id": "e52d295d",
   "metadata": {},
   "outputs": [
    {
     "data": {
      "text/html": [
       "<div>\n",
       "<style scoped>\n",
       "    .dataframe tbody tr th:only-of-type {\n",
       "        vertical-align: middle;\n",
       "    }\n",
       "\n",
       "    .dataframe tbody tr th {\n",
       "        vertical-align: top;\n",
       "    }\n",
       "\n",
       "    .dataframe thead th {\n",
       "        text-align: right;\n",
       "    }\n",
       "</style>\n",
       "<table border=\"1\" class=\"dataframe\">\n",
       "  <thead>\n",
       "    <tr style=\"text-align: right;\">\n",
       "      <th></th>\n",
       "      <th>count</th>\n",
       "    </tr>\n",
       "  </thead>\n",
       "  <tbody>\n",
       "    <tr>\n",
       "      <th>0</th>\n",
       "      <td>819</td>\n",
       "    </tr>\n",
       "  </tbody>\n",
       "</table>\n",
       "</div>"
      ],
      "text/plain": [
       "   count\n",
       "0    819"
      ]
     },
     "execution_count": 16,
     "metadata": {},
     "output_type": "execute_result"
    }
   ],
   "source": [
    "query_1 = pd.io.sql.read_sql(query_1, con = engine) \n",
    "query_1"
   ]
  },
  {
   "cell_type": "markdown",
   "id": "68ad791e",
   "metadata": {},
   "source": [
    "**Вывод:** После 01 января 2000 года вышло 819 книг."
   ]
  },
  {
   "cell_type": "markdown",
   "id": "53459a5f",
   "metadata": {},
   "source": [
    "## Задача 2"
   ]
  },
  {
   "cell_type": "markdown",
   "id": "ab79bb62",
   "metadata": {},
   "source": [
    "Для каждой книги посчитать количество обзоров и среднюю оценку."
   ]
  },
  {
   "cell_type": "code",
   "execution_count": 17,
   "id": "49daa62e",
   "metadata": {},
   "outputs": [],
   "source": [
    "query_2 = '''SELECT b.book_id, b.title, COUNT(DISTINCT rev.review_id) as review_count, ROUND(AVG(rat.rating),1) as rating_avg\n",
    "             FROM books as b\n",
    "             LEFT JOIN reviews as rev ON b.book_id=rev.book_id\n",
    "             LEFT JOIN ratings as rat ON b.book_id=rat.book_id\n",
    "             GROUP BY b.book_id\n",
    "             ORDER BY review_count DESC, rating_avg DESC;\n",
    "'''"
   ]
  },
  {
   "cell_type": "code",
   "execution_count": 18,
   "id": "bdffc01a",
   "metadata": {},
   "outputs": [
    {
     "data": {
      "text/html": [
       "<div>\n",
       "<style scoped>\n",
       "    .dataframe tbody tr th:only-of-type {\n",
       "        vertical-align: middle;\n",
       "    }\n",
       "\n",
       "    .dataframe tbody tr th {\n",
       "        vertical-align: top;\n",
       "    }\n",
       "\n",
       "    .dataframe thead th {\n",
       "        text-align: right;\n",
       "    }\n",
       "</style>\n",
       "<table border=\"1\" class=\"dataframe\">\n",
       "  <thead>\n",
       "    <tr style=\"text-align: right;\">\n",
       "      <th></th>\n",
       "      <th>book_id</th>\n",
       "      <th>title</th>\n",
       "      <th>review_count</th>\n",
       "      <th>rating_avg</th>\n",
       "    </tr>\n",
       "  </thead>\n",
       "  <tbody>\n",
       "    <tr>\n",
       "      <th>0</th>\n",
       "      <td>948</td>\n",
       "      <td>Twilight (Twilight  #1)</td>\n",
       "      <td>7</td>\n",
       "      <td>3.7</td>\n",
       "    </tr>\n",
       "    <tr>\n",
       "      <th>1</th>\n",
       "      <td>302</td>\n",
       "      <td>Harry Potter and the Prisoner of Azkaban (Harr...</td>\n",
       "      <td>6</td>\n",
       "      <td>4.4</td>\n",
       "    </tr>\n",
       "    <tr>\n",
       "      <th>2</th>\n",
       "      <td>656</td>\n",
       "      <td>The Book Thief</td>\n",
       "      <td>6</td>\n",
       "      <td>4.3</td>\n",
       "    </tr>\n",
       "    <tr>\n",
       "      <th>3</th>\n",
       "      <td>299</td>\n",
       "      <td>Harry Potter and the Chamber of Secrets (Harry...</td>\n",
       "      <td>6</td>\n",
       "      <td>4.3</td>\n",
       "    </tr>\n",
       "    <tr>\n",
       "      <th>4</th>\n",
       "      <td>734</td>\n",
       "      <td>The Glass Castle</td>\n",
       "      <td>6</td>\n",
       "      <td>4.2</td>\n",
       "    </tr>\n",
       "  </tbody>\n",
       "</table>\n",
       "</div>"
      ],
      "text/plain": [
       "   book_id                                              title  review_count  \\\n",
       "0      948                            Twilight (Twilight  #1)             7   \n",
       "1      302  Harry Potter and the Prisoner of Azkaban (Harr...             6   \n",
       "2      656                                     The Book Thief             6   \n",
       "3      299  Harry Potter and the Chamber of Secrets (Harry...             6   \n",
       "4      734                                   The Glass Castle             6   \n",
       "\n",
       "   rating_avg  \n",
       "0         3.7  \n",
       "1         4.4  \n",
       "2         4.3  \n",
       "3         4.3  \n",
       "4         4.2  "
      ]
     },
     "execution_count": 18,
     "metadata": {},
     "output_type": "execute_result"
    }
   ],
   "source": [
    "query_2 = pd.io.sql.read_sql(query_2, con = engine) \n",
    "query_2.head()"
   ]
  },
  {
   "cell_type": "markdown",
   "id": "6d3b2ddd",
   "metadata": {},
   "source": [
    "\n",
    "**Вывод:** Максимальное количество обзоров 7 на книгу 'Twilight(Twilight #1)' со средней оценкой 3.7"
   ]
  },
  {
   "cell_type": "markdown",
   "id": "e9929111",
   "metadata": {},
   "source": [
    "## Задача 3"
   ]
  },
  {
   "cell_type": "markdown",
   "id": "86652b37",
   "metadata": {},
   "source": [
    "Определить издательство, которое выпустило наибольшее число книг толще 50 страниц — для того, чтобы исключить из анализа брошюры"
   ]
  },
  {
   "cell_type": "code",
   "execution_count": 19,
   "id": "635c6f63",
   "metadata": {},
   "outputs": [],
   "source": [
    "query_3 = '''SELECT p.publisher, COUNT(b.book_id) as book_count\n",
    "             FROM publishers as p\n",
    "             JOIN books as b ON p.publisher_id=b.publisher_id\n",
    "             WHERE b.num_pages > 50\n",
    "             GROUP BY p.publisher_id\n",
    "             ORDER BY book_count DESC\n",
    "             LIMIT 1;\n",
    "'''"
   ]
  },
  {
   "cell_type": "code",
   "execution_count": 20,
   "id": "ba680768",
   "metadata": {},
   "outputs": [
    {
     "data": {
      "text/html": [
       "<div>\n",
       "<style scoped>\n",
       "    .dataframe tbody tr th:only-of-type {\n",
       "        vertical-align: middle;\n",
       "    }\n",
       "\n",
       "    .dataframe tbody tr th {\n",
       "        vertical-align: top;\n",
       "    }\n",
       "\n",
       "    .dataframe thead th {\n",
       "        text-align: right;\n",
       "    }\n",
       "</style>\n",
       "<table border=\"1\" class=\"dataframe\">\n",
       "  <thead>\n",
       "    <tr style=\"text-align: right;\">\n",
       "      <th></th>\n",
       "      <th>publisher</th>\n",
       "      <th>book_count</th>\n",
       "    </tr>\n",
       "  </thead>\n",
       "  <tbody>\n",
       "    <tr>\n",
       "      <th>0</th>\n",
       "      <td>Penguin Books</td>\n",
       "      <td>42</td>\n",
       "    </tr>\n",
       "  </tbody>\n",
       "</table>\n",
       "</div>"
      ],
      "text/plain": [
       "       publisher  book_count\n",
       "0  Penguin Books          42"
      ]
     },
     "execution_count": 20,
     "metadata": {},
     "output_type": "execute_result"
    }
   ],
   "source": [
    "query_3 = pd.io.sql.read_sql(query_3, con = engine) \n",
    "query_3"
   ]
  },
  {
   "cell_type": "markdown",
   "id": "8fd718af",
   "metadata": {},
   "source": [
    "**Вывод:** Издательство 'Penguin Books' выпустило наибольшее число книг толще 50 страниц - 42шт"
   ]
  },
  {
   "cell_type": "markdown",
   "id": "bd7eb426",
   "metadata": {},
   "source": [
    "## Задача 4"
   ]
  },
  {
   "cell_type": "markdown",
   "id": "760b449a",
   "metadata": {},
   "source": [
    "Определить автора с самой высокой средней оценкой книг, учитывая только книги с 50 и более оценками."
   ]
  },
  {
   "cell_type": "code",
   "execution_count": 21,
   "id": "96462a00",
   "metadata": {},
   "outputs": [],
   "source": [
    "query_4 = '''WITH max_rating AS (SELECT b.author_id, ROUND(AVG(r.rating),2) as avg_rating\n",
    "                                 FROM books as b\n",
    "                                 JOIN ratings as r ON b.book_id=r.book_id\n",
    "                                 WHERE b.book_id IN (SELECT book_id\n",
    "                                                     FROM ratings\n",
    "                                                     GROUP BY book_id\n",
    "                                                     HAVING COUNT(rating) >= 50)\n",
    "                                 GROUP BY b.author_id\n",
    "                                 ORDER BY avg_rating DESC\n",
    "                                 LIMIT 1)\n",
    "             \n",
    "             SELECT a.author_id, a.author, mr.avg_rating\n",
    "             FROM max_rating as mr\n",
    "             JOIN authors as a ON mr.author_id=a.author_id;\n",
    "'''"
   ]
  },
  {
   "cell_type": "code",
   "execution_count": 22,
   "id": "640bad0c",
   "metadata": {},
   "outputs": [
    {
     "data": {
      "text/html": [
       "<div>\n",
       "<style scoped>\n",
       "    .dataframe tbody tr th:only-of-type {\n",
       "        vertical-align: middle;\n",
       "    }\n",
       "\n",
       "    .dataframe tbody tr th {\n",
       "        vertical-align: top;\n",
       "    }\n",
       "\n",
       "    .dataframe thead th {\n",
       "        text-align: right;\n",
       "    }\n",
       "</style>\n",
       "<table border=\"1\" class=\"dataframe\">\n",
       "  <thead>\n",
       "    <tr style=\"text-align: right;\">\n",
       "      <th></th>\n",
       "      <th>author_id</th>\n",
       "      <th>author</th>\n",
       "      <th>avg_rating</th>\n",
       "    </tr>\n",
       "  </thead>\n",
       "  <tbody>\n",
       "    <tr>\n",
       "      <th>0</th>\n",
       "      <td>236</td>\n",
       "      <td>J.K. Rowling/Mary GrandPré</td>\n",
       "      <td>4.29</td>\n",
       "    </tr>\n",
       "  </tbody>\n",
       "</table>\n",
       "</div>"
      ],
      "text/plain": [
       "   author_id                      author  avg_rating\n",
       "0        236  J.K. Rowling/Mary GrandPré        4.29"
      ]
     },
     "execution_count": 22,
     "metadata": {},
     "output_type": "execute_result"
    }
   ],
   "source": [
    "query_4 = pd.io.sql.read_sql(query_4, con = engine) \n",
    "query_4"
   ]
  },
  {
   "cell_type": "markdown",
   "id": "b474dfe6",
   "metadata": {},
   "source": [
    "**Вывод:** Автор с самой высокой средней оценкой книг 4.29 — J.K. Rowling/Mary GrandPré."
   ]
  },
  {
   "cell_type": "markdown",
   "id": "5b95108f",
   "metadata": {},
   "source": [
    "## Задача 5"
   ]
  },
  {
   "cell_type": "markdown",
   "id": "0dee0d23",
   "metadata": {},
   "source": [
    "Посчитайть среднее количество обзоров от пользователей, которые поставили больше 50 оценок."
   ]
  },
  {
   "cell_type": "code",
   "execution_count": 23,
   "id": "68b3fdc6",
   "metadata": {},
   "outputs": [],
   "source": [
    "query_5 = ''' WITH count_review AS (SELECT username , COUNT(DISTINCT review_id) as count\n",
    "                                    FROM reviews\n",
    "                                    WHERE username IN (SELECT username\n",
    "                                                       FROM ratings\n",
    "                                                       GROUP BY username\n",
    "                                                       HAVING COUNT(rating) >= 50)\n",
    "                                    GROUP BY username)\n",
    "                                    \n",
    "              SELECT ROUND(AVG(count)) as avg_review  \n",
    "              FROM count_review;\n",
    "'''"
   ]
  },
  {
   "cell_type": "code",
   "execution_count": 24,
   "id": "8e849c08",
   "metadata": {},
   "outputs": [
    {
     "data": {
      "text/html": [
       "<div>\n",
       "<style scoped>\n",
       "    .dataframe tbody tr th:only-of-type {\n",
       "        vertical-align: middle;\n",
       "    }\n",
       "\n",
       "    .dataframe tbody tr th {\n",
       "        vertical-align: top;\n",
       "    }\n",
       "\n",
       "    .dataframe thead th {\n",
       "        text-align: right;\n",
       "    }\n",
       "</style>\n",
       "<table border=\"1\" class=\"dataframe\">\n",
       "  <thead>\n",
       "    <tr style=\"text-align: right;\">\n",
       "      <th></th>\n",
       "      <th>avg_review</th>\n",
       "    </tr>\n",
       "  </thead>\n",
       "  <tbody>\n",
       "    <tr>\n",
       "      <th>0</th>\n",
       "      <td>24.0</td>\n",
       "    </tr>\n",
       "  </tbody>\n",
       "</table>\n",
       "</div>"
      ],
      "text/plain": [
       "   avg_review\n",
       "0        24.0"
      ]
     },
     "execution_count": 24,
     "metadata": {},
     "output_type": "execute_result"
    }
   ],
   "source": [
    "query_5 = pd.io.sql.read_sql(query_5, con = engine) \n",
    "query_5"
   ]
  },
  {
   "cell_type": "markdown",
   "id": "f2b86b81",
   "metadata": {},
   "source": [
    "**Вывод:** Всреднем пользователи, которые поставили больше 50 оценок, делают 24 обзора."
   ]
  },
  {
   "cell_type": "markdown",
   "id": "36b6c06c",
   "metadata": {},
   "source": [
    "<div class=\"alert alert-info\">\n",
    "    \n",
    "Проанализировав базу данных, можно сказать что:\n",
    "- С 1 января 2000 года вышло 819 книг.\n",
    "- Наибольшее число книг, толще 50 страниц, выпустило издательство **Penguin Books** - 42шт,\n",
    "- Книга **Twilight(Twilight #1)** получила максимальное количество обзоров - 7 и среднюю оценку - 3.7,\n",
    "- **J.K. Rowling/Mary GrandPré** - автор с самой высокой средней оценкой книг 4.29,\n",
    "- Пользователи, которые поставили больше 50 оценок, всреднем делают 24 обзора.\n",
    "    \n",
    "Эти данные помогут сформулировать ценностное предложение для нового продукта.    "
   ]
  },
  {
   "cell_type": "code",
   "execution_count": null,
   "id": "9c075e61",
   "metadata": {},
   "outputs": [],
   "source": []
  }
 ],
 "metadata": {
  "ExecuteTimeLog": [
   {
    "duration": 8,
    "start_time": "2022-12-22T17:48:46.475Z"
   },
   {
    "duration": 51,
    "start_time": "2022-12-22T17:49:14.577Z"
   },
   {
    "duration": 516,
    "start_time": "2022-12-22T17:49:18.024Z"
   },
   {
    "duration": 3,
    "start_time": "2022-12-22T17:49:18.542Z"
   },
   {
    "duration": 10,
    "start_time": "2022-12-22T17:49:18.546Z"
   },
   {
    "duration": 5239,
    "start_time": "2022-12-22T17:49:18.558Z"
   },
   {
    "duration": 3,
    "start_time": "2022-12-22T17:49:23.798Z"
   },
   {
    "duration": 340,
    "start_time": "2022-12-22T17:49:23.802Z"
   },
   {
    "duration": 3,
    "start_time": "2022-12-22T17:49:24.144Z"
   },
   {
    "duration": 181,
    "start_time": "2022-12-22T17:49:24.148Z"
   },
   {
    "duration": 0,
    "start_time": "2022-12-22T17:49:24.332Z"
   },
   {
    "duration": 0,
    "start_time": "2022-12-22T17:49:24.334Z"
   },
   {
    "duration": 0,
    "start_time": "2022-12-22T17:49:24.335Z"
   },
   {
    "duration": 0,
    "start_time": "2022-12-22T17:49:24.336Z"
   },
   {
    "duration": 0,
    "start_time": "2022-12-22T17:49:24.337Z"
   },
   {
    "duration": 0,
    "start_time": "2022-12-22T17:49:24.338Z"
   },
   {
    "duration": 0,
    "start_time": "2022-12-22T17:49:24.339Z"
   },
   {
    "duration": 0,
    "start_time": "2022-12-22T17:49:24.340Z"
   },
   {
    "duration": 0,
    "start_time": "2022-12-22T17:49:24.340Z"
   },
   {
    "duration": 0,
    "start_time": "2022-12-22T17:49:24.341Z"
   },
   {
    "duration": 0,
    "start_time": "2022-12-22T17:49:24.343Z"
   },
   {
    "duration": 0,
    "start_time": "2022-12-22T17:49:24.344Z"
   },
   {
    "duration": 0,
    "start_time": "2022-12-22T17:49:24.345Z"
   },
   {
    "duration": 0,
    "start_time": "2022-12-22T17:49:24.346Z"
   },
   {
    "duration": 0,
    "start_time": "2022-12-22T17:49:24.347Z"
   },
   {
    "duration": 0,
    "start_time": "2022-12-22T17:49:24.349Z"
   },
   {
    "duration": 3,
    "start_time": "2022-12-22T17:49:44.867Z"
   },
   {
    "duration": 80,
    "start_time": "2022-12-22T17:49:46.828Z"
   },
   {
    "duration": 79,
    "start_time": "2022-12-22T17:49:50.666Z"
   },
   {
    "duration": 4,
    "start_time": "2022-12-22T17:50:16.284Z"
   },
   {
    "duration": 136,
    "start_time": "2022-12-22T17:50:17.071Z"
   },
   {
    "duration": 3,
    "start_time": "2022-12-22T17:50:27.363Z"
   },
   {
    "duration": 75,
    "start_time": "2022-12-22T17:50:28.332Z"
   },
   {
    "duration": 2,
    "start_time": "2022-12-22T17:53:59.079Z"
   },
   {
    "duration": 78,
    "start_time": "2022-12-22T17:54:03.076Z"
   },
   {
    "duration": 3,
    "start_time": "2022-12-22T17:54:23.726Z"
   },
   {
    "duration": 76,
    "start_time": "2022-12-22T17:54:27.936Z"
   },
   {
    "duration": 2,
    "start_time": "2022-12-22T17:55:17.096Z"
   },
   {
    "duration": 82,
    "start_time": "2022-12-22T17:55:17.776Z"
   },
   {
    "duration": 3,
    "start_time": "2022-12-22T17:55:34.061Z"
   },
   {
    "duration": 21,
    "start_time": "2022-12-22T17:55:34.066Z"
   },
   {
    "duration": 8,
    "start_time": "2022-12-22T17:55:34.088Z"
   },
   {
    "duration": 6,
    "start_time": "2022-12-22T17:55:34.097Z"
   },
   {
    "duration": 2,
    "start_time": "2022-12-22T17:55:34.112Z"
   },
   {
    "duration": 265,
    "start_time": "2022-12-22T17:55:34.116Z"
   },
   {
    "duration": 2,
    "start_time": "2022-12-22T17:55:34.382Z"
   },
   {
    "duration": 79,
    "start_time": "2022-12-22T17:55:34.386Z"
   },
   {
    "duration": 2,
    "start_time": "2022-12-22T17:55:34.467Z"
   },
   {
    "duration": 83,
    "start_time": "2022-12-22T17:55:34.470Z"
   },
   {
    "duration": 4,
    "start_time": "2022-12-22T17:55:34.555Z"
   },
   {
    "duration": 85,
    "start_time": "2022-12-22T17:55:34.560Z"
   },
   {
    "duration": 2,
    "start_time": "2022-12-22T17:55:34.647Z"
   },
   {
    "duration": 83,
    "start_time": "2022-12-22T17:55:34.651Z"
   },
   {
    "duration": 3,
    "start_time": "2022-12-22T17:55:34.735Z"
   },
   {
    "duration": 73,
    "start_time": "2022-12-22T17:55:34.739Z"
   },
   {
    "duration": 13,
    "start_time": "2022-12-22T17:55:34.814Z"
   },
   {
    "duration": 114,
    "start_time": "2022-12-22T17:55:34.829Z"
   },
   {
    "duration": 3,
    "start_time": "2022-12-22T17:55:34.945Z"
   },
   {
    "duration": 76,
    "start_time": "2022-12-22T17:55:34.949Z"
   },
   {
    "duration": 2,
    "start_time": "2022-12-22T17:55:35.027Z"
   },
   {
    "duration": 79,
    "start_time": "2022-12-22T17:55:35.031Z"
   },
   {
    "duration": 3,
    "start_time": "2022-12-22T17:55:35.111Z"
   },
   {
    "duration": 82,
    "start_time": "2022-12-22T17:55:35.116Z"
   },
   {
    "duration": 2,
    "start_time": "2022-12-22T18:14:10.592Z"
   },
   {
    "duration": 6,
    "start_time": "2022-12-22T18:14:10.596Z"
   },
   {
    "duration": 6,
    "start_time": "2022-12-22T18:14:10.604Z"
   },
   {
    "duration": 7,
    "start_time": "2022-12-22T18:14:10.612Z"
   },
   {
    "duration": 6,
    "start_time": "2022-12-22T18:14:10.621Z"
   },
   {
    "duration": 249,
    "start_time": "2022-12-22T18:14:10.629Z"
   },
   {
    "duration": 2,
    "start_time": "2022-12-22T18:14:10.880Z"
   },
   {
    "duration": 73,
    "start_time": "2022-12-22T18:14:10.883Z"
   },
   {
    "duration": 3,
    "start_time": "2022-12-22T18:14:10.957Z"
   },
   {
    "duration": 73,
    "start_time": "2022-12-22T18:14:10.962Z"
   },
   {
    "duration": 3,
    "start_time": "2022-12-22T18:14:11.036Z"
   },
   {
    "duration": 79,
    "start_time": "2022-12-22T18:14:11.040Z"
   },
   {
    "duration": 3,
    "start_time": "2022-12-22T18:14:11.120Z"
   },
   {
    "duration": 74,
    "start_time": "2022-12-22T18:14:11.124Z"
   },
   {
    "duration": 2,
    "start_time": "2022-12-22T18:14:11.199Z"
   },
   {
    "duration": 73,
    "start_time": "2022-12-22T18:14:11.203Z"
   },
   {
    "duration": 3,
    "start_time": "2022-12-22T18:14:11.277Z"
   },
   {
    "duration": 109,
    "start_time": "2022-12-22T18:14:11.281Z"
   },
   {
    "duration": 2,
    "start_time": "2022-12-22T18:14:11.392Z"
   },
   {
    "duration": 73,
    "start_time": "2022-12-22T18:14:11.395Z"
   },
   {
    "duration": 2,
    "start_time": "2022-12-22T18:14:11.470Z"
   },
   {
    "duration": 78,
    "start_time": "2022-12-22T18:14:11.474Z"
   },
   {
    "duration": 3,
    "start_time": "2022-12-22T18:14:11.554Z"
   },
   {
    "duration": 74,
    "start_time": "2022-12-22T18:14:11.558Z"
   },
   {
    "duration": 536,
    "start_time": "2022-12-22T18:35:24.297Z"
   },
   {
    "duration": 2,
    "start_time": "2022-12-22T18:35:24.835Z"
   },
   {
    "duration": 7,
    "start_time": "2022-12-22T18:35:24.839Z"
   },
   {
    "duration": 5530,
    "start_time": "2022-12-22T18:35:24.847Z"
   },
   {
    "duration": 3,
    "start_time": "2022-12-22T18:35:30.379Z"
   },
   {
    "duration": 307,
    "start_time": "2022-12-22T18:35:30.383Z"
   },
   {
    "duration": 3,
    "start_time": "2022-12-22T18:35:30.692Z"
   },
   {
    "duration": 105,
    "start_time": "2022-12-22T18:35:30.697Z"
   },
   {
    "duration": 2,
    "start_time": "2022-12-22T18:35:30.804Z"
   },
   {
    "duration": 100,
    "start_time": "2022-12-22T18:35:30.808Z"
   },
   {
    "duration": 3,
    "start_time": "2022-12-22T18:35:30.910Z"
   },
   {
    "duration": 132,
    "start_time": "2022-12-22T18:35:30.914Z"
   },
   {
    "duration": 3,
    "start_time": "2022-12-22T18:35:31.047Z"
   },
   {
    "duration": 122,
    "start_time": "2022-12-22T18:35:31.052Z"
   },
   {
    "duration": 3,
    "start_time": "2022-12-22T18:35:31.176Z"
   },
   {
    "duration": 126,
    "start_time": "2022-12-22T18:35:31.180Z"
   },
   {
    "duration": 3,
    "start_time": "2022-12-22T18:35:31.308Z"
   },
   {
    "duration": 161,
    "start_time": "2022-12-22T18:35:31.313Z"
   },
   {
    "duration": 3,
    "start_time": "2022-12-22T18:35:31.476Z"
   },
   {
    "duration": 108,
    "start_time": "2022-12-22T18:35:31.481Z"
   },
   {
    "duration": 3,
    "start_time": "2022-12-22T18:35:31.591Z"
   },
   {
    "duration": 112,
    "start_time": "2022-12-22T18:35:31.595Z"
   },
   {
    "duration": 5,
    "start_time": "2022-12-22T18:35:31.708Z"
   },
   {
    "duration": 111,
    "start_time": "2022-12-22T18:35:31.715Z"
   },
   {
    "duration": 518,
    "start_time": "2022-12-23T06:47:23.100Z"
   },
   {
    "duration": 3,
    "start_time": "2022-12-23T06:47:23.620Z"
   },
   {
    "duration": 11,
    "start_time": "2022-12-23T06:47:23.624Z"
   },
   {
    "duration": 8193,
    "start_time": "2022-12-23T06:47:23.637Z"
   },
   {
    "duration": 3,
    "start_time": "2022-12-23T06:47:31.832Z"
   },
   {
    "duration": 75,
    "start_time": "2022-12-23T06:47:31.840Z"
   },
   {
    "duration": 3,
    "start_time": "2022-12-23T06:47:31.917Z"
   },
   {
    "duration": 17,
    "start_time": "2022-12-23T06:47:31.921Z"
   },
   {
    "duration": 3,
    "start_time": "2022-12-23T06:47:31.940Z"
   },
   {
    "duration": 15,
    "start_time": "2022-12-23T06:47:31.946Z"
   },
   {
    "duration": 2,
    "start_time": "2022-12-23T06:47:31.963Z"
   },
   {
    "duration": 45,
    "start_time": "2022-12-23T06:47:31.967Z"
   },
   {
    "duration": 3,
    "start_time": "2022-12-23T06:47:32.014Z"
   },
   {
    "duration": 26,
    "start_time": "2022-12-23T06:47:32.018Z"
   },
   {
    "duration": 2,
    "start_time": "2022-12-23T06:47:32.046Z"
   },
   {
    "duration": 30,
    "start_time": "2022-12-23T06:47:32.050Z"
   },
   {
    "duration": 3,
    "start_time": "2022-12-23T06:47:32.085Z"
   },
   {
    "duration": 50,
    "start_time": "2022-12-23T06:47:32.090Z"
   },
   {
    "duration": 3,
    "start_time": "2022-12-23T06:47:32.143Z"
   },
   {
    "duration": 29,
    "start_time": "2022-12-23T06:47:32.148Z"
   },
   {
    "duration": 14,
    "start_time": "2022-12-23T06:47:32.179Z"
   },
   {
    "duration": 23,
    "start_time": "2022-12-23T06:47:32.195Z"
   },
   {
    "duration": 4,
    "start_time": "2022-12-23T06:47:32.220Z"
   },
   {
    "duration": 36,
    "start_time": "2022-12-23T06:47:32.226Z"
   }
  ],
  "kernelspec": {
   "display_name": "Python 3 (ipykernel)",
   "language": "python",
   "name": "python3"
  },
  "language_info": {
   "codemirror_mode": {
    "name": "ipython",
    "version": 3
   },
   "file_extension": ".py",
   "mimetype": "text/x-python",
   "name": "python",
   "nbconvert_exporter": "python",
   "pygments_lexer": "ipython3",
   "version": "3.9.13"
  },
  "toc": {
   "base_numbering": 1,
   "nav_menu": {},
   "number_sections": true,
   "sideBar": true,
   "skip_h1_title": true,
   "title_cell": "Table of Contents",
   "title_sidebar": "Contents",
   "toc_cell": false,
   "toc_position": {},
   "toc_section_display": true,
   "toc_window_display": false
  }
 },
 "nbformat": 4,
 "nbformat_minor": 5
}
