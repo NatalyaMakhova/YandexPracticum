{
 "cells": [
  {
   "cell_type": "markdown",
   "metadata": {},
   "source": [
    "# Принятие решений в бизнесе\n",
    "\n",
    "Для крупного интернет-магазина вместе с отделом маркетинга подготовлен список гипотез для увеличения выручки. Необходимо приоритизировать гипотезы, запустить A/B-тест и проанализировать результаты.\n",
    "    \n",
    "Задачи:\n",
    "* приоритизировать гипотезы\n",
    "* проанализировать метрики: конверсию и средний чек по «сырым» данным \n",
    "* выявить аномалии и выбросы в данных, очистить данные\n",
    "* проанализировать метрики: конверсию и средний чек по «очищенным» данным\n",
    "* принять решение по результатам теста: \n",
    "    * Остановить тест, зафиксировать победу одной из групп или отсутствие различий между группами. \n",
    "    * Продолжить тест.\n"
   ]
  },
  {
   "cell_type": "markdown",
   "metadata": {},
   "source": [
    "# Чтение данных"
   ]
  },
  {
   "cell_type": "code",
   "execution_count": 47,
   "metadata": {},
   "outputs": [],
   "source": [
    "import pandas as pd\n",
    "import datetime as dt \n",
    "import numpy as np\n",
    "from scipy import stats as st\n",
    "import matplotlib.pyplot as plt\n",
    "pd.set_option(\"max_colwidth\", 200)"
   ]
  },
  {
   "cell_type": "markdown",
   "metadata": {},
   "source": [
    "## Часть 1. Приоритизация гипотез."
   ]
  },
  {
   "cell_type": "code",
   "execution_count": 48,
   "metadata": {},
   "outputs": [
    {
     "data": {
      "text/html": [
       "<div>\n",
       "<style scoped>\n",
       "    .dataframe tbody tr th:only-of-type {\n",
       "        vertical-align: middle;\n",
       "    }\n",
       "\n",
       "    .dataframe tbody tr th {\n",
       "        vertical-align: top;\n",
       "    }\n",
       "\n",
       "    .dataframe thead th {\n",
       "        text-align: right;\n",
       "    }\n",
       "</style>\n",
       "<table border=\"1\" class=\"dataframe\">\n",
       "  <thead>\n",
       "    <tr style=\"text-align: right;\">\n",
       "      <th></th>\n",
       "      <th>Hypothesis</th>\n",
       "      <th>Reach</th>\n",
       "      <th>Impact</th>\n",
       "      <th>Confidence</th>\n",
       "      <th>Efforts</th>\n",
       "    </tr>\n",
       "  </thead>\n",
       "  <tbody>\n",
       "    <tr>\n",
       "      <th>0</th>\n",
       "      <td>Добавить два новых канала привлечения трафика, что позволит привлекать на 30% больше пользователей</td>\n",
       "      <td>3</td>\n",
       "      <td>10</td>\n",
       "      <td>8</td>\n",
       "      <td>6</td>\n",
       "    </tr>\n",
       "    <tr>\n",
       "      <th>1</th>\n",
       "      <td>Запустить собственную службу доставки, что сократит срок доставки заказов</td>\n",
       "      <td>2</td>\n",
       "      <td>5</td>\n",
       "      <td>4</td>\n",
       "      <td>10</td>\n",
       "    </tr>\n",
       "    <tr>\n",
       "      <th>2</th>\n",
       "      <td>Добавить блоки рекомендаций товаров на сайт интернет магазина, чтобы повысить конверсию и средний чек заказа</td>\n",
       "      <td>8</td>\n",
       "      <td>3</td>\n",
       "      <td>7</td>\n",
       "      <td>3</td>\n",
       "    </tr>\n",
       "    <tr>\n",
       "      <th>3</th>\n",
       "      <td>Изменить структура категорий, что увеличит конверсию, т.к. пользователи быстрее найдут нужный товар</td>\n",
       "      <td>8</td>\n",
       "      <td>3</td>\n",
       "      <td>3</td>\n",
       "      <td>8</td>\n",
       "    </tr>\n",
       "    <tr>\n",
       "      <th>4</th>\n",
       "      <td>Изменить цвет фона главной страницы, чтобы увеличить вовлеченность пользователей</td>\n",
       "      <td>3</td>\n",
       "      <td>1</td>\n",
       "      <td>1</td>\n",
       "      <td>1</td>\n",
       "    </tr>\n",
       "    <tr>\n",
       "      <th>5</th>\n",
       "      <td>Добавить страницу отзывов клиентов о магазине, что позволит увеличить количество заказов</td>\n",
       "      <td>3</td>\n",
       "      <td>2</td>\n",
       "      <td>2</td>\n",
       "      <td>3</td>\n",
       "    </tr>\n",
       "    <tr>\n",
       "      <th>6</th>\n",
       "      <td>Показать на главной странице баннеры с актуальными акциями и распродажами, чтобы увеличить конверсию</td>\n",
       "      <td>5</td>\n",
       "      <td>3</td>\n",
       "      <td>8</td>\n",
       "      <td>3</td>\n",
       "    </tr>\n",
       "    <tr>\n",
       "      <th>7</th>\n",
       "      <td>Добавить форму подписки на все основные страницы, чтобы собрать базу клиентов для email-рассылок</td>\n",
       "      <td>10</td>\n",
       "      <td>7</td>\n",
       "      <td>8</td>\n",
       "      <td>5</td>\n",
       "    </tr>\n",
       "    <tr>\n",
       "      <th>8</th>\n",
       "      <td>Запустить акцию, дающую скидку на товар в день рождения</td>\n",
       "      <td>1</td>\n",
       "      <td>9</td>\n",
       "      <td>9</td>\n",
       "      <td>5</td>\n",
       "    </tr>\n",
       "  </tbody>\n",
       "</table>\n",
       "</div>"
      ],
      "text/plain": [
       "                                                                                                     Hypothesis  \\\n",
       "0            Добавить два новых канала привлечения трафика, что позволит привлекать на 30% больше пользователей   \n",
       "1                                     Запустить собственную службу доставки, что сократит срок доставки заказов   \n",
       "2  Добавить блоки рекомендаций товаров на сайт интернет магазина, чтобы повысить конверсию и средний чек заказа   \n",
       "3           Изменить структура категорий, что увеличит конверсию, т.к. пользователи быстрее найдут нужный товар   \n",
       "4                              Изменить цвет фона главной страницы, чтобы увеличить вовлеченность пользователей   \n",
       "5                      Добавить страницу отзывов клиентов о магазине, что позволит увеличить количество заказов   \n",
       "6          Показать на главной странице баннеры с актуальными акциями и распродажами, чтобы увеличить конверсию   \n",
       "7              Добавить форму подписки на все основные страницы, чтобы собрать базу клиентов для email-рассылок   \n",
       "8                                                       Запустить акцию, дающую скидку на товар в день рождения   \n",
       "\n",
       "   Reach  Impact  Confidence  Efforts  \n",
       "0      3      10           8        6  \n",
       "1      2       5           4       10  \n",
       "2      8       3           7        3  \n",
       "3      8       3           3        8  \n",
       "4      3       1           1        1  \n",
       "5      3       2           2        3  \n",
       "6      5       3           8        3  \n",
       "7     10       7           8        5  \n",
       "8      1       9           9        5  "
      ]
     },
     "execution_count": 48,
     "metadata": {},
     "output_type": "execute_result"
    }
   ],
   "source": [
    "try:\n",
    "    hypothesis = pd.read_csv('/datasets/hypothesis.csv')\n",
    "except:\n",
    "    hypothesis = pd.read_csv('C:/Users/1/Desktop/Аналитик данных/Яндек курс/МОДУЛЬ 2 SQL/Принятие решений в бизнесе АВ тест/проект/hypothesis.csv')\n",
    "hypothesis"
   ]
  },
  {
   "cell_type": "markdown",
   "metadata": {},
   "source": [
    "В файле `hypothesis` 9 гипотез по увеличению выручки интернет-магазина\n",
    "* Hypothesis — краткое описание гипотезы;\n",
    "* Reach — охват пользователей по 10-балльной шкале;\n",
    "* Impact — влияние на пользователей по 10-балльной шкале;\n",
    "* Confidence — уверенность в гипотезе по 10-балльной шкале;\n",
    "* Efforts — затраты ресурсов на проверку гипотезы по 10-балльной шкале."
   ]
  },
  {
   "cell_type": "markdown",
   "metadata": {},
   "source": [
    "### Фреймворк ICE"
   ]
  },
  {
   "cell_type": "markdown",
   "metadata": {},
   "source": [
    "$$ICE = \\frac{Impact * Confidence}{Efforts}$$"
   ]
  },
  {
   "cell_type": "code",
   "execution_count": 49,
   "metadata": {},
   "outputs": [
    {
     "data": {
      "text/html": [
       "<div>\n",
       "<style scoped>\n",
       "    .dataframe tbody tr th:only-of-type {\n",
       "        vertical-align: middle;\n",
       "    }\n",
       "\n",
       "    .dataframe tbody tr th {\n",
       "        vertical-align: top;\n",
       "    }\n",
       "\n",
       "    .dataframe thead th {\n",
       "        text-align: right;\n",
       "    }\n",
       "</style>\n",
       "<table border=\"1\" class=\"dataframe\">\n",
       "  <thead>\n",
       "    <tr style=\"text-align: right;\">\n",
       "      <th></th>\n",
       "      <th>Hypothesis</th>\n",
       "      <th>ICE</th>\n",
       "    </tr>\n",
       "  </thead>\n",
       "  <tbody>\n",
       "    <tr>\n",
       "      <th>8</th>\n",
       "      <td>Запустить акцию, дающую скидку на товар в день рождения</td>\n",
       "      <td>16.2</td>\n",
       "    </tr>\n",
       "    <tr>\n",
       "      <th>0</th>\n",
       "      <td>Добавить два новых канала привлечения трафика, что позволит привлекать на 30% больше пользователей</td>\n",
       "      <td>13.3</td>\n",
       "    </tr>\n",
       "    <tr>\n",
       "      <th>7</th>\n",
       "      <td>Добавить форму подписки на все основные страницы, чтобы собрать базу клиентов для email-рассылок</td>\n",
       "      <td>11.2</td>\n",
       "    </tr>\n",
       "    <tr>\n",
       "      <th>6</th>\n",
       "      <td>Показать на главной странице баннеры с актуальными акциями и распродажами, чтобы увеличить конверсию</td>\n",
       "      <td>8.0</td>\n",
       "    </tr>\n",
       "    <tr>\n",
       "      <th>2</th>\n",
       "      <td>Добавить блоки рекомендаций товаров на сайт интернет магазина, чтобы повысить конверсию и средний чек заказа</td>\n",
       "      <td>7.0</td>\n",
       "    </tr>\n",
       "    <tr>\n",
       "      <th>1</th>\n",
       "      <td>Запустить собственную службу доставки, что сократит срок доставки заказов</td>\n",
       "      <td>2.0</td>\n",
       "    </tr>\n",
       "    <tr>\n",
       "      <th>5</th>\n",
       "      <td>Добавить страницу отзывов клиентов о магазине, что позволит увеличить количество заказов</td>\n",
       "      <td>1.3</td>\n",
       "    </tr>\n",
       "    <tr>\n",
       "      <th>3</th>\n",
       "      <td>Изменить структура категорий, что увеличит конверсию, т.к. пользователи быстрее найдут нужный товар</td>\n",
       "      <td>1.1</td>\n",
       "    </tr>\n",
       "    <tr>\n",
       "      <th>4</th>\n",
       "      <td>Изменить цвет фона главной страницы, чтобы увеличить вовлеченность пользователей</td>\n",
       "      <td>1.0</td>\n",
       "    </tr>\n",
       "  </tbody>\n",
       "</table>\n",
       "</div>"
      ],
      "text/plain": [
       "                                                                                                     Hypothesis  \\\n",
       "8                                                       Запустить акцию, дающую скидку на товар в день рождения   \n",
       "0            Добавить два новых канала привлечения трафика, что позволит привлекать на 30% больше пользователей   \n",
       "7              Добавить форму подписки на все основные страницы, чтобы собрать базу клиентов для email-рассылок   \n",
       "6          Показать на главной странице баннеры с актуальными акциями и распродажами, чтобы увеличить конверсию   \n",
       "2  Добавить блоки рекомендаций товаров на сайт интернет магазина, чтобы повысить конверсию и средний чек заказа   \n",
       "1                                     Запустить собственную службу доставки, что сократит срок доставки заказов   \n",
       "5                      Добавить страницу отзывов клиентов о магазине, что позволит увеличить количество заказов   \n",
       "3           Изменить структура категорий, что увеличит конверсию, т.к. пользователи быстрее найдут нужный товар   \n",
       "4                              Изменить цвет фона главной страницы, чтобы увеличить вовлеченность пользователей   \n",
       "\n",
       "    ICE  \n",
       "8  16.2  \n",
       "0  13.3  \n",
       "7  11.2  \n",
       "6   8.0  \n",
       "2   7.0  \n",
       "1   2.0  \n",
       "5   1.3  \n",
       "3   1.1  \n",
       "4   1.0  "
      ]
     },
     "execution_count": 49,
     "metadata": {},
     "output_type": "execute_result"
    }
   ],
   "source": [
    "hypothesis['ICE'] = round((hypothesis['Impact'] * hypothesis['Confidence']) / hypothesis['Efforts'],1)\n",
    "hypothesis[['Hypothesis','ICE']].sort_values(by='ICE',ascending=False)"
   ]
  },
  {
   "cell_type": "markdown",
   "metadata": {},
   "source": [
    " Приоритизация гипотез:\n",
    " * **8**: Запустить акцию, дающую скидку на товар в день рождения\n",
    " * **0**: Добавить два новых канала привлечения трафика, что позволит привлекать на 30% больше пользователей\n",
    " * **7**: Добавить форму подписки на все основные страницы, чтобы собрать базу клиентов для email-рассылок"
   ]
  },
  {
   "cell_type": "markdown",
   "metadata": {},
   "source": [
    "### Фреймворк RICE"
   ]
  },
  {
   "cell_type": "markdown",
   "metadata": {},
   "source": [
    "$$RICE = \\frac{Rearch * Impact * Confidence}{Efforts}$$"
   ]
  },
  {
   "cell_type": "code",
   "execution_count": 50,
   "metadata": {},
   "outputs": [
    {
     "data": {
      "text/html": [
       "<div>\n",
       "<style scoped>\n",
       "    .dataframe tbody tr th:only-of-type {\n",
       "        vertical-align: middle;\n",
       "    }\n",
       "\n",
       "    .dataframe tbody tr th {\n",
       "        vertical-align: top;\n",
       "    }\n",
       "\n",
       "    .dataframe thead th {\n",
       "        text-align: right;\n",
       "    }\n",
       "</style>\n",
       "<table border=\"1\" class=\"dataframe\">\n",
       "  <thead>\n",
       "    <tr style=\"text-align: right;\">\n",
       "      <th></th>\n",
       "      <th>Hypothesis</th>\n",
       "      <th>RICE</th>\n",
       "    </tr>\n",
       "  </thead>\n",
       "  <tbody>\n",
       "    <tr>\n",
       "      <th>7</th>\n",
       "      <td>Добавить форму подписки на все основные страницы, чтобы собрать базу клиентов для email-рассылок</td>\n",
       "      <td>112.0</td>\n",
       "    </tr>\n",
       "    <tr>\n",
       "      <th>2</th>\n",
       "      <td>Добавить блоки рекомендаций товаров на сайт интернет магазина, чтобы повысить конверсию и средний чек заказа</td>\n",
       "      <td>56.0</td>\n",
       "    </tr>\n",
       "    <tr>\n",
       "      <th>0</th>\n",
       "      <td>Добавить два новых канала привлечения трафика, что позволит привлекать на 30% больше пользователей</td>\n",
       "      <td>40.0</td>\n",
       "    </tr>\n",
       "    <tr>\n",
       "      <th>6</th>\n",
       "      <td>Показать на главной странице баннеры с актуальными акциями и распродажами, чтобы увеличить конверсию</td>\n",
       "      <td>40.0</td>\n",
       "    </tr>\n",
       "    <tr>\n",
       "      <th>8</th>\n",
       "      <td>Запустить акцию, дающую скидку на товар в день рождения</td>\n",
       "      <td>16.2</td>\n",
       "    </tr>\n",
       "    <tr>\n",
       "      <th>3</th>\n",
       "      <td>Изменить структура категорий, что увеличит конверсию, т.к. пользователи быстрее найдут нужный товар</td>\n",
       "      <td>9.0</td>\n",
       "    </tr>\n",
       "    <tr>\n",
       "      <th>1</th>\n",
       "      <td>Запустить собственную службу доставки, что сократит срок доставки заказов</td>\n",
       "      <td>4.0</td>\n",
       "    </tr>\n",
       "    <tr>\n",
       "      <th>5</th>\n",
       "      <td>Добавить страницу отзывов клиентов о магазине, что позволит увеличить количество заказов</td>\n",
       "      <td>4.0</td>\n",
       "    </tr>\n",
       "    <tr>\n",
       "      <th>4</th>\n",
       "      <td>Изменить цвет фона главной страницы, чтобы увеличить вовлеченность пользователей</td>\n",
       "      <td>3.0</td>\n",
       "    </tr>\n",
       "  </tbody>\n",
       "</table>\n",
       "</div>"
      ],
      "text/plain": [
       "                                                                                                     Hypothesis  \\\n",
       "7              Добавить форму подписки на все основные страницы, чтобы собрать базу клиентов для email-рассылок   \n",
       "2  Добавить блоки рекомендаций товаров на сайт интернет магазина, чтобы повысить конверсию и средний чек заказа   \n",
       "0            Добавить два новых канала привлечения трафика, что позволит привлекать на 30% больше пользователей   \n",
       "6          Показать на главной странице баннеры с актуальными акциями и распродажами, чтобы увеличить конверсию   \n",
       "8                                                       Запустить акцию, дающую скидку на товар в день рождения   \n",
       "3           Изменить структура категорий, что увеличит конверсию, т.к. пользователи быстрее найдут нужный товар   \n",
       "1                                     Запустить собственную службу доставки, что сократит срок доставки заказов   \n",
       "5                      Добавить страницу отзывов клиентов о магазине, что позволит увеличить количество заказов   \n",
       "4                              Изменить цвет фона главной страницы, чтобы увеличить вовлеченность пользователей   \n",
       "\n",
       "    RICE  \n",
       "7  112.0  \n",
       "2   56.0  \n",
       "0   40.0  \n",
       "6   40.0  \n",
       "8   16.2  \n",
       "3    9.0  \n",
       "1    4.0  \n",
       "5    4.0  \n",
       "4    3.0  "
      ]
     },
     "execution_count": 50,
     "metadata": {},
     "output_type": "execute_result"
    }
   ],
   "source": [
    "hypothesis['RICE'] = (hypothesis['Reach'] * hypothesis['Impact'] * hypothesis['Confidence']) / hypothesis['Efforts']\n",
    "hypothesis[['Hypothesis','RICE']].sort_values(by='RICE',ascending=False)"
   ]
  },
  {
   "cell_type": "markdown",
   "metadata": {},
   "source": [
    "Приоритизация гипотез:\n",
    "* **7**: Добавить форму подписки на все основные страницы, чтобы собрать базу клиентов для email-рассылок\n",
    "* **2**: Добавить блоки рекомендаций товаров на сайт интернет магазина, чтобы повысить конверсию и средний чек заказа\n",
    "* **0**: Добавить два новых канала привлечения трафика, что позволит привлекать на 30% больше пользователей\n",
    "* **6**: Показать на главной странице баннеры с актуальными акциями и распродажами, чтобы увеличить конверсию"
   ]
  },
  {
   "cell_type": "code",
   "execution_count": 51,
   "metadata": {},
   "outputs": [
    {
     "data": {
      "text/html": [
       "<div>\n",
       "<style scoped>\n",
       "    .dataframe tbody tr th:only-of-type {\n",
       "        vertical-align: middle;\n",
       "    }\n",
       "\n",
       "    .dataframe tbody tr th {\n",
       "        vertical-align: top;\n",
       "    }\n",
       "\n",
       "    .dataframe thead th {\n",
       "        text-align: right;\n",
       "    }\n",
       "</style>\n",
       "<table border=\"1\" class=\"dataframe\">\n",
       "  <thead>\n",
       "    <tr style=\"text-align: right;\">\n",
       "      <th></th>\n",
       "      <th>Hypothesis</th>\n",
       "      <th>ICE</th>\n",
       "      <th>RICE</th>\n",
       "    </tr>\n",
       "  </thead>\n",
       "  <tbody>\n",
       "    <tr>\n",
       "      <th>7</th>\n",
       "      <td>Добавить форму подписки на все основные страницы, чтобы собрать базу клиентов для email-рассылок</td>\n",
       "      <td>11.2</td>\n",
       "      <td>112.0</td>\n",
       "    </tr>\n",
       "    <tr>\n",
       "      <th>2</th>\n",
       "      <td>Добавить блоки рекомендаций товаров на сайт интернет магазина, чтобы повысить конверсию и средний чек заказа</td>\n",
       "      <td>7.0</td>\n",
       "      <td>56.0</td>\n",
       "    </tr>\n",
       "    <tr>\n",
       "      <th>0</th>\n",
       "      <td>Добавить два новых канала привлечения трафика, что позволит привлекать на 30% больше пользователей</td>\n",
       "      <td>13.3</td>\n",
       "      <td>40.0</td>\n",
       "    </tr>\n",
       "    <tr>\n",
       "      <th>6</th>\n",
       "      <td>Показать на главной странице баннеры с актуальными акциями и распродажами, чтобы увеличить конверсию</td>\n",
       "      <td>8.0</td>\n",
       "      <td>40.0</td>\n",
       "    </tr>\n",
       "    <tr>\n",
       "      <th>8</th>\n",
       "      <td>Запустить акцию, дающую скидку на товар в день рождения</td>\n",
       "      <td>16.2</td>\n",
       "      <td>16.2</td>\n",
       "    </tr>\n",
       "    <tr>\n",
       "      <th>3</th>\n",
       "      <td>Изменить структура категорий, что увеличит конверсию, т.к. пользователи быстрее найдут нужный товар</td>\n",
       "      <td>1.1</td>\n",
       "      <td>9.0</td>\n",
       "    </tr>\n",
       "    <tr>\n",
       "      <th>1</th>\n",
       "      <td>Запустить собственную службу доставки, что сократит срок доставки заказов</td>\n",
       "      <td>2.0</td>\n",
       "      <td>4.0</td>\n",
       "    </tr>\n",
       "    <tr>\n",
       "      <th>5</th>\n",
       "      <td>Добавить страницу отзывов клиентов о магазине, что позволит увеличить количество заказов</td>\n",
       "      <td>1.3</td>\n",
       "      <td>4.0</td>\n",
       "    </tr>\n",
       "    <tr>\n",
       "      <th>4</th>\n",
       "      <td>Изменить цвет фона главной страницы, чтобы увеличить вовлеченность пользователей</td>\n",
       "      <td>1.0</td>\n",
       "      <td>3.0</td>\n",
       "    </tr>\n",
       "  </tbody>\n",
       "</table>\n",
       "</div>"
      ],
      "text/plain": [
       "                                                                                                     Hypothesis  \\\n",
       "7              Добавить форму подписки на все основные страницы, чтобы собрать базу клиентов для email-рассылок   \n",
       "2  Добавить блоки рекомендаций товаров на сайт интернет магазина, чтобы повысить конверсию и средний чек заказа   \n",
       "0            Добавить два новых канала привлечения трафика, что позволит привлекать на 30% больше пользователей   \n",
       "6          Показать на главной странице баннеры с актуальными акциями и распродажами, чтобы увеличить конверсию   \n",
       "8                                                       Запустить акцию, дающую скидку на товар в день рождения   \n",
       "3           Изменить структура категорий, что увеличит конверсию, т.к. пользователи быстрее найдут нужный товар   \n",
       "1                                     Запустить собственную службу доставки, что сократит срок доставки заказов   \n",
       "5                      Добавить страницу отзывов клиентов о магазине, что позволит увеличить количество заказов   \n",
       "4                              Изменить цвет фона главной страницы, чтобы увеличить вовлеченность пользователей   \n",
       "\n",
       "    ICE   RICE  \n",
       "7  11.2  112.0  \n",
       "2   7.0   56.0  \n",
       "0  13.3   40.0  \n",
       "6   8.0   40.0  \n",
       "8  16.2   16.2  \n",
       "3   1.1    9.0  \n",
       "1   2.0    4.0  \n",
       "5   1.3    4.0  \n",
       "4   1.0    3.0  "
      ]
     },
     "execution_count": 51,
     "metadata": {},
     "output_type": "execute_result"
    }
   ],
   "source": [
    "hypothesis = hypothesis[['Hypothesis','ICE','RICE']].sort_values(by='RICE',ascending=False)\n",
    "hypothesis"
   ]
  },
  {
   "cell_type": "markdown",
   "metadata": {},
   "source": [
    "### Вывод\n",
    "* При использовании фреймворка **ICE** лидерами стали гипотезы:\n",
    "   * **Запустить акцию, дающую скидку на товар в день рождения**\n",
    "   * Добавить два новых канала привлечения трафика, что позволит привлекать на 30% больше пользователей\n",
    "   * Добавить форму подписки на все основные страницы, чтобы собрать базу клиентов для email-рассылок\n",
    "* При использовании фреймворка **RICE** лидерами стали гипотезы:\n",
    "   * **Добавить форму подписки на все основные страницы, чтобы собрать базу клиентов для email-рассылок**\n",
    "   * Добавить блоки рекомендаций товаров на сайт интернет магазина, чтобы повысить конверсию и средний чек заказа\n",
    "   * Добавить два новых канала привлечения трафика, что позволит привлекать на 30% больше пользователей\n",
    "   * Показать на главной странице баннеры с актуальными акциями и распродажами, чтобы увеличить конверсию\n",
    "\n",
    "* При использовании фреймворка RICE приоритизация гипотез изменилась. Это связано с тем, что ICE не учитывает охват пользователей в отличие от RICE. Для приоритизации гипотез предпочтительнее использовать RICE если есть такая возможность."
   ]
  },
  {
   "cell_type": "markdown",
   "metadata": {},
   "source": [
    "### Изучение данных"
   ]
  },
  {
   "cell_type": "markdown",
   "metadata": {},
   "source": [
    "**Visitors**"
   ]
  },
  {
   "cell_type": "code",
   "execution_count": 52,
   "metadata": {},
   "outputs": [
    {
     "data": {
      "text/html": [
       "<div>\n",
       "<style scoped>\n",
       "    .dataframe tbody tr th:only-of-type {\n",
       "        vertical-align: middle;\n",
       "    }\n",
       "\n",
       "    .dataframe tbody tr th {\n",
       "        vertical-align: top;\n",
       "    }\n",
       "\n",
       "    .dataframe thead th {\n",
       "        text-align: right;\n",
       "    }\n",
       "</style>\n",
       "<table border=\"1\" class=\"dataframe\">\n",
       "  <thead>\n",
       "    <tr style=\"text-align: right;\">\n",
       "      <th></th>\n",
       "      <th>date</th>\n",
       "      <th>group</th>\n",
       "      <th>visitors</th>\n",
       "    </tr>\n",
       "  </thead>\n",
       "  <tbody>\n",
       "    <tr>\n",
       "      <th>0</th>\n",
       "      <td>2019-08-01</td>\n",
       "      <td>A</td>\n",
       "      <td>719</td>\n",
       "    </tr>\n",
       "    <tr>\n",
       "      <th>1</th>\n",
       "      <td>2019-08-02</td>\n",
       "      <td>A</td>\n",
       "      <td>619</td>\n",
       "    </tr>\n",
       "    <tr>\n",
       "      <th>2</th>\n",
       "      <td>2019-08-03</td>\n",
       "      <td>A</td>\n",
       "      <td>507</td>\n",
       "    </tr>\n",
       "    <tr>\n",
       "      <th>3</th>\n",
       "      <td>2019-08-04</td>\n",
       "      <td>A</td>\n",
       "      <td>717</td>\n",
       "    </tr>\n",
       "    <tr>\n",
       "      <th>4</th>\n",
       "      <td>2019-08-05</td>\n",
       "      <td>A</td>\n",
       "      <td>756</td>\n",
       "    </tr>\n",
       "  </tbody>\n",
       "</table>\n",
       "</div>"
      ],
      "text/plain": [
       "        date group  visitors\n",
       "0 2019-08-01     A       719\n",
       "1 2019-08-02     A       619\n",
       "2 2019-08-03     A       507\n",
       "3 2019-08-04     A       717\n",
       "4 2019-08-05     A       756"
      ]
     },
     "execution_count": 52,
     "metadata": {},
     "output_type": "execute_result"
    }
   ],
   "source": [
    "try:\n",
    "    visitors = pd.read_csv('/datasets/visitors.csv')\n",
    "except:\n",
    "    visitors = pd.read_csv('C:/Users/1/Desktop/Аналитик данных/Яндек курс/МОДУЛЬ 2 SQL/Принятие решений в бизнесе АВ тест/проект/visitors.csv')\n",
    "visitors['date'] = visitors['date'].map(\n",
    "    lambda x: dt.datetime.strptime(x, '%Y-%m-%d')\n",
    ")\n",
    "visitors.head()"
   ]
  },
  {
   "cell_type": "code",
   "execution_count": 53,
   "metadata": {},
   "outputs": [
    {
     "name": "stdout",
     "output_type": "stream",
     "text": [
      "<class 'pandas.core.frame.DataFrame'>\n",
      "RangeIndex: 62 entries, 0 to 61\n",
      "Data columns (total 3 columns):\n",
      " #   Column    Non-Null Count  Dtype         \n",
      "---  ------    --------------  -----         \n",
      " 0   date      62 non-null     datetime64[ns]\n",
      " 1   group     62 non-null     object        \n",
      " 2   visitors  62 non-null     int64         \n",
      "dtypes: datetime64[ns](1), int64(1), object(1)\n",
      "memory usage: 1.6+ KB\n"
     ]
    }
   ],
   "source": [
    "visitors.info()"
   ]
  },
  {
   "cell_type": "code",
   "execution_count": 54,
   "metadata": {},
   "outputs": [
    {
     "name": "stdout",
     "output_type": "stream",
     "text": [
      "Количество дубликатов: 0\n"
     ]
    }
   ],
   "source": [
    "print('Количество дубликатов:',visitors.duplicated().sum())"
   ]
  },
  {
   "cell_type": "code",
   "execution_count": 55,
   "metadata": {},
   "outputs": [
    {
     "name": "stdout",
     "output_type": "stream",
     "text": [
      "Данные о визитах с 2019-08-01 по 2019-08-31\n"
     ]
    }
   ],
   "source": [
    "print('Данные о визитах с', visitors['date'].dt.date.min(),'по', visitors['date'].dt.date.max())"
   ]
  },
  {
   "cell_type": "markdown",
   "metadata": {},
   "source": [
    "**Orders**"
   ]
  },
  {
   "cell_type": "code",
   "execution_count": 56,
   "metadata": {},
   "outputs": [
    {
     "data": {
      "text/html": [
       "<div>\n",
       "<style scoped>\n",
       "    .dataframe tbody tr th:only-of-type {\n",
       "        vertical-align: middle;\n",
       "    }\n",
       "\n",
       "    .dataframe tbody tr th {\n",
       "        vertical-align: top;\n",
       "    }\n",
       "\n",
       "    .dataframe thead th {\n",
       "        text-align: right;\n",
       "    }\n",
       "</style>\n",
       "<table border=\"1\" class=\"dataframe\">\n",
       "  <thead>\n",
       "    <tr style=\"text-align: right;\">\n",
       "      <th></th>\n",
       "      <th>transactionId</th>\n",
       "      <th>visitorId</th>\n",
       "      <th>date</th>\n",
       "      <th>revenue</th>\n",
       "      <th>group</th>\n",
       "    </tr>\n",
       "  </thead>\n",
       "  <tbody>\n",
       "    <tr>\n",
       "      <th>0</th>\n",
       "      <td>3667963787</td>\n",
       "      <td>3312258926</td>\n",
       "      <td>2019-08-15</td>\n",
       "      <td>1650</td>\n",
       "      <td>B</td>\n",
       "    </tr>\n",
       "    <tr>\n",
       "      <th>1</th>\n",
       "      <td>2804400009</td>\n",
       "      <td>3642806036</td>\n",
       "      <td>2019-08-15</td>\n",
       "      <td>730</td>\n",
       "      <td>B</td>\n",
       "    </tr>\n",
       "    <tr>\n",
       "      <th>2</th>\n",
       "      <td>2961555356</td>\n",
       "      <td>4069496402</td>\n",
       "      <td>2019-08-15</td>\n",
       "      <td>400</td>\n",
       "      <td>A</td>\n",
       "    </tr>\n",
       "    <tr>\n",
       "      <th>3</th>\n",
       "      <td>3797467345</td>\n",
       "      <td>1196621759</td>\n",
       "      <td>2019-08-15</td>\n",
       "      <td>9759</td>\n",
       "      <td>B</td>\n",
       "    </tr>\n",
       "    <tr>\n",
       "      <th>4</th>\n",
       "      <td>2282983706</td>\n",
       "      <td>2322279887</td>\n",
       "      <td>2019-08-15</td>\n",
       "      <td>2308</td>\n",
       "      <td>B</td>\n",
       "    </tr>\n",
       "  </tbody>\n",
       "</table>\n",
       "</div>"
      ],
      "text/plain": [
       "   transactionId   visitorId       date  revenue group\n",
       "0     3667963787  3312258926 2019-08-15     1650     B\n",
       "1     2804400009  3642806036 2019-08-15      730     B\n",
       "2     2961555356  4069496402 2019-08-15      400     A\n",
       "3     3797467345  1196621759 2019-08-15     9759     B\n",
       "4     2282983706  2322279887 2019-08-15     2308     B"
      ]
     },
     "execution_count": 56,
     "metadata": {},
     "output_type": "execute_result"
    }
   ],
   "source": [
    "try:\n",
    "    orders = pd.read_csv('/datasets/orders.csv')\n",
    "except: \n",
    "    orders = pd.read_csv('C:/Users/1/Desktop/Аналитик данных/Яндек курс/МОДУЛЬ 2 SQL/Принятие решений в бизнесе АВ тест/проект/orders.csv')\n",
    "orders['date'] = orders['date'].map(\n",
    "    lambda x: dt.datetime.strptime(x, '%Y-%m-%d')\n",
    ")\n",
    "orders.head()"
   ]
  },
  {
   "cell_type": "code",
   "execution_count": 57,
   "metadata": {},
   "outputs": [
    {
     "name": "stdout",
     "output_type": "stream",
     "text": [
      "<class 'pandas.core.frame.DataFrame'>\n",
      "RangeIndex: 1197 entries, 0 to 1196\n",
      "Data columns (total 5 columns):\n",
      " #   Column         Non-Null Count  Dtype         \n",
      "---  ------         --------------  -----         \n",
      " 0   transactionId  1197 non-null   int64         \n",
      " 1   visitorId      1197 non-null   int64         \n",
      " 2   date           1197 non-null   datetime64[ns]\n",
      " 3   revenue        1197 non-null   int64         \n",
      " 4   group          1197 non-null   object        \n",
      "dtypes: datetime64[ns](1), int64(3), object(1)\n",
      "memory usage: 46.9+ KB\n"
     ]
    }
   ],
   "source": [
    "orders.info()"
   ]
  },
  {
   "cell_type": "code",
   "execution_count": 58,
   "metadata": {},
   "outputs": [
    {
     "name": "stdout",
     "output_type": "stream",
     "text": [
      "Количество дубликатов: 0\n"
     ]
    }
   ],
   "source": [
    "print('Количество дубликатов:',orders.duplicated().sum())"
   ]
  },
  {
   "cell_type": "code",
   "execution_count": 59,
   "metadata": {},
   "outputs": [
    {
     "name": "stdout",
     "output_type": "stream",
     "text": [
      "Данные о заказах с 2019-08-01 по 2019-08-31\n"
     ]
    }
   ],
   "source": [
    "print('Данные о заказах с', orders['date'].dt.date.min(),'по', orders['date'].dt.date.max())"
   ]
  },
  {
   "cell_type": "markdown",
   "metadata": {},
   "source": [
    "Количество пользователей по группам"
   ]
  },
  {
   "cell_type": "code",
   "execution_count": 60,
   "metadata": {},
   "outputs": [
    {
     "data": {
      "text/html": [
       "<div>\n",
       "<style scoped>\n",
       "    .dataframe tbody tr th:only-of-type {\n",
       "        vertical-align: middle;\n",
       "    }\n",
       "\n",
       "    .dataframe tbody tr th {\n",
       "        vertical-align: top;\n",
       "    }\n",
       "\n",
       "    .dataframe thead th {\n",
       "        text-align: right;\n",
       "    }\n",
       "</style>\n",
       "<table border=\"1\" class=\"dataframe\">\n",
       "  <thead>\n",
       "    <tr style=\"text-align: right;\">\n",
       "      <th></th>\n",
       "      <th>visitorId</th>\n",
       "    </tr>\n",
       "    <tr>\n",
       "      <th>group</th>\n",
       "      <th></th>\n",
       "    </tr>\n",
       "  </thead>\n",
       "  <tbody>\n",
       "    <tr>\n",
       "      <th>A</th>\n",
       "      <td>503</td>\n",
       "    </tr>\n",
       "    <tr>\n",
       "      <th>B</th>\n",
       "      <td>586</td>\n",
       "    </tr>\n",
       "  </tbody>\n",
       "</table>\n",
       "</div>"
      ],
      "text/plain": [
       "       visitorId\n",
       "group           \n",
       "A            503\n",
       "B            586"
      ]
     },
     "execution_count": 60,
     "metadata": {},
     "output_type": "execute_result"
    }
   ],
   "source": [
    "visitorId_count = orders.groupby('group').agg({'visitorId':'nunique'})\n",
    "visitorId_count"
   ]
  },
  {
   "cell_type": "markdown",
   "metadata": {},
   "source": [
    "В группе A-503 пользователя, в группе B-586 пользователя. Проверим есть ли пользователи которые попали в обе группы. "
   ]
  },
  {
   "cell_type": "code",
   "execution_count": 61,
   "metadata": {},
   "outputs": [
    {
     "data": {
      "text/plain": [
       "visitorId\n",
       "5114589       1\n",
       "6958315       1\n",
       "8300375       2\n",
       "11685486      1\n",
       "39475350      1\n",
       "             ..\n",
       "4266935830    2\n",
       "4278982564    1\n",
       "4279090005    1\n",
       "4281247801    1\n",
       "4283872382    1\n",
       "Name: group, Length: 1031, dtype: int64"
      ]
     },
     "execution_count": 61,
     "metadata": {},
     "output_type": "execute_result"
    }
   ],
   "source": [
    "countGroups = orders.groupby('visitorId')['group'].nunique()\n",
    "countGroups"
   ]
  },
  {
   "cell_type": "code",
   "execution_count": 62,
   "metadata": {},
   "outputs": [
    {
     "data": {
      "text/html": [
       "<div>\n",
       "<style scoped>\n",
       "    .dataframe tbody tr th:only-of-type {\n",
       "        vertical-align: middle;\n",
       "    }\n",
       "\n",
       "    .dataframe tbody tr th {\n",
       "        vertical-align: top;\n",
       "    }\n",
       "\n",
       "    .dataframe thead th {\n",
       "        text-align: right;\n",
       "    }\n",
       "</style>\n",
       "<table border=\"1\" class=\"dataframe\">\n",
       "  <thead>\n",
       "    <tr style=\"text-align: right;\">\n",
       "      <th></th>\n",
       "      <th>transactionId</th>\n",
       "      <th>visitorId</th>\n",
       "      <th>date</th>\n",
       "      <th>revenue</th>\n",
       "      <th>group_x</th>\n",
       "      <th>group_y</th>\n",
       "    </tr>\n",
       "  </thead>\n",
       "  <tbody>\n",
       "    <tr>\n",
       "      <th>0</th>\n",
       "      <td>3667963787</td>\n",
       "      <td>3312258926</td>\n",
       "      <td>2019-08-15</td>\n",
       "      <td>1650</td>\n",
       "      <td>B</td>\n",
       "      <td>1</td>\n",
       "    </tr>\n",
       "    <tr>\n",
       "      <th>1</th>\n",
       "      <td>2804400009</td>\n",
       "      <td>3642806036</td>\n",
       "      <td>2019-08-15</td>\n",
       "      <td>730</td>\n",
       "      <td>B</td>\n",
       "      <td>1</td>\n",
       "    </tr>\n",
       "    <tr>\n",
       "      <th>2</th>\n",
       "      <td>2961555356</td>\n",
       "      <td>4069496402</td>\n",
       "      <td>2019-08-15</td>\n",
       "      <td>400</td>\n",
       "      <td>A</td>\n",
       "      <td>2</td>\n",
       "    </tr>\n",
       "    <tr>\n",
       "      <th>3</th>\n",
       "      <td>1473132782</td>\n",
       "      <td>4069496402</td>\n",
       "      <td>2019-08-12</td>\n",
       "      <td>640</td>\n",
       "      <td>B</td>\n",
       "      <td>2</td>\n",
       "    </tr>\n",
       "    <tr>\n",
       "      <th>4</th>\n",
       "      <td>3797467345</td>\n",
       "      <td>1196621759</td>\n",
       "      <td>2019-08-15</td>\n",
       "      <td>9759</td>\n",
       "      <td>B</td>\n",
       "      <td>1</td>\n",
       "    </tr>\n",
       "  </tbody>\n",
       "</table>\n",
       "</div>"
      ],
      "text/plain": [
       "   transactionId   visitorId       date  revenue group_x  group_y\n",
       "0     3667963787  3312258926 2019-08-15     1650       B        1\n",
       "1     2804400009  3642806036 2019-08-15      730       B        1\n",
       "2     2961555356  4069496402 2019-08-15      400       A        2\n",
       "3     1473132782  4069496402 2019-08-12      640       B        2\n",
       "4     3797467345  1196621759 2019-08-15     9759       B        1"
      ]
     },
     "execution_count": 62,
     "metadata": {},
     "output_type": "execute_result"
    }
   ],
   "source": [
    "orders = orders.merge(countGroups, on=['visitorId', 'visitorId'])\n",
    "orders.head()"
   ]
  },
  {
   "cell_type": "code",
   "execution_count": 63,
   "metadata": {},
   "outputs": [
    {
     "data": {
      "text/html": [
       "<div>\n",
       "<style scoped>\n",
       "    .dataframe tbody tr th:only-of-type {\n",
       "        vertical-align: middle;\n",
       "    }\n",
       "\n",
       "    .dataframe tbody tr th {\n",
       "        vertical-align: top;\n",
       "    }\n",
       "\n",
       "    .dataframe thead th {\n",
       "        text-align: right;\n",
       "    }\n",
       "</style>\n",
       "<table border=\"1\" class=\"dataframe\">\n",
       "  <thead>\n",
       "    <tr style=\"text-align: right;\">\n",
       "      <th></th>\n",
       "      <th>group</th>\n",
       "      <th>visitorId</th>\n",
       "      <th>duplicated</th>\n",
       "      <th>share</th>\n",
       "    </tr>\n",
       "  </thead>\n",
       "  <tbody>\n",
       "    <tr>\n",
       "      <th>0</th>\n",
       "      <td>A</td>\n",
       "      <td>503</td>\n",
       "      <td>58</td>\n",
       "      <td>11.53</td>\n",
       "    </tr>\n",
       "    <tr>\n",
       "      <th>1</th>\n",
       "      <td>B</td>\n",
       "      <td>586</td>\n",
       "      <td>58</td>\n",
       "      <td>9.90</td>\n",
       "    </tr>\n",
       "  </tbody>\n",
       "</table>\n",
       "</div>"
      ],
      "text/plain": [
       "  group  visitorId  duplicated  share\n",
       "0     A        503          58  11.53\n",
       "1     B        586          58   9.90"
      ]
     },
     "execution_count": 63,
     "metadata": {},
     "output_type": "execute_result"
    }
   ],
   "source": [
    "visitorId_duplicated = orders[orders['group_y'] == 2].groupby('group_x', as_index=False)['visitorId'].nunique()\n",
    "visitorId_duplicated.columns = ['group','duplicated']\n",
    "visitorId_count = visitorId_count.merge(visitorId_duplicated, on=['group'])\n",
    "visitorId_count['share'] = round(visitorId_count['duplicated']/visitorId_count['visitorId']*100,2)\n",
    "visitorId_count"
   ]
  },
  {
   "cell_type": "markdown",
   "metadata": {},
   "source": [
    "    58 пользователей попали в обе группы, при удалении этих пользователей из обеих групп мы потеряем для группы А 11.5% событий, для группы В - 9.9% событий."
   ]
  },
  {
   "cell_type": "markdown",
   "metadata": {},
   "source": [
    "Удалим дубликаты пользователей в обеих группах."
   ]
  },
  {
   "cell_type": "code",
   "execution_count": 64,
   "metadata": {},
   "outputs": [
    {
     "data": {
      "text/html": [
       "<div>\n",
       "<style scoped>\n",
       "    .dataframe tbody tr th:only-of-type {\n",
       "        vertical-align: middle;\n",
       "    }\n",
       "\n",
       "    .dataframe tbody tr th {\n",
       "        vertical-align: top;\n",
       "    }\n",
       "\n",
       "    .dataframe thead th {\n",
       "        text-align: right;\n",
       "    }\n",
       "</style>\n",
       "<table border=\"1\" class=\"dataframe\">\n",
       "  <thead>\n",
       "    <tr style=\"text-align: right;\">\n",
       "      <th></th>\n",
       "      <th>transactionId</th>\n",
       "      <th>visitorId</th>\n",
       "      <th>date</th>\n",
       "      <th>revenue</th>\n",
       "      <th>group</th>\n",
       "      <th>group_y</th>\n",
       "    </tr>\n",
       "  </thead>\n",
       "  <tbody>\n",
       "    <tr>\n",
       "      <th>0</th>\n",
       "      <td>3667963787</td>\n",
       "      <td>3312258926</td>\n",
       "      <td>2019-08-15</td>\n",
       "      <td>1650</td>\n",
       "      <td>B</td>\n",
       "      <td>1</td>\n",
       "    </tr>\n",
       "    <tr>\n",
       "      <th>1</th>\n",
       "      <td>2804400009</td>\n",
       "      <td>3642806036</td>\n",
       "      <td>2019-08-15</td>\n",
       "      <td>730</td>\n",
       "      <td>B</td>\n",
       "      <td>1</td>\n",
       "    </tr>\n",
       "    <tr>\n",
       "      <th>4</th>\n",
       "      <td>3797467345</td>\n",
       "      <td>1196621759</td>\n",
       "      <td>2019-08-15</td>\n",
       "      <td>9759</td>\n",
       "      <td>B</td>\n",
       "      <td>1</td>\n",
       "    </tr>\n",
       "    <tr>\n",
       "      <th>5</th>\n",
       "      <td>2282983706</td>\n",
       "      <td>2322279887</td>\n",
       "      <td>2019-08-15</td>\n",
       "      <td>2308</td>\n",
       "      <td>B</td>\n",
       "      <td>1</td>\n",
       "    </tr>\n",
       "    <tr>\n",
       "      <th>6</th>\n",
       "      <td>182168103</td>\n",
       "      <td>935554773</td>\n",
       "      <td>2019-08-15</td>\n",
       "      <td>2210</td>\n",
       "      <td>B</td>\n",
       "      <td>1</td>\n",
       "    </tr>\n",
       "  </tbody>\n",
       "</table>\n",
       "</div>"
      ],
      "text/plain": [
       "   transactionId   visitorId       date  revenue group  group_y\n",
       "0     3667963787  3312258926 2019-08-15     1650     B        1\n",
       "1     2804400009  3642806036 2019-08-15      730     B        1\n",
       "4     3797467345  1196621759 2019-08-15     9759     B        1\n",
       "5     2282983706  2322279887 2019-08-15     2308     B        1\n",
       "6      182168103   935554773 2019-08-15     2210     B        1"
      ]
     },
     "execution_count": 64,
     "metadata": {},
     "output_type": "execute_result"
    }
   ],
   "source": [
    "orders = orders[orders['group_y'] == 1]\n",
    "orders = orders.rename(columns={'group_x':'group'})\n",
    "orders.head()"
   ]
  },
  {
   "cell_type": "markdown",
   "metadata": {},
   "source": [
    "Проверим сколько уникальных пользователей осталось в обеих группах."
   ]
  },
  {
   "cell_type": "code",
   "execution_count": 65,
   "metadata": {},
   "outputs": [
    {
     "data": {
      "text/html": [
       "<div>\n",
       "<style scoped>\n",
       "    .dataframe tbody tr th:only-of-type {\n",
       "        vertical-align: middle;\n",
       "    }\n",
       "\n",
       "    .dataframe tbody tr th {\n",
       "        vertical-align: top;\n",
       "    }\n",
       "\n",
       "    .dataframe thead th {\n",
       "        text-align: right;\n",
       "    }\n",
       "</style>\n",
       "<table border=\"1\" class=\"dataframe\">\n",
       "  <thead>\n",
       "    <tr style=\"text-align: right;\">\n",
       "      <th></th>\n",
       "      <th>visitorId</th>\n",
       "    </tr>\n",
       "    <tr>\n",
       "      <th>group</th>\n",
       "      <th></th>\n",
       "    </tr>\n",
       "  </thead>\n",
       "  <tbody>\n",
       "    <tr>\n",
       "      <th>A</th>\n",
       "      <td>445</td>\n",
       "    </tr>\n",
       "    <tr>\n",
       "      <th>B</th>\n",
       "      <td>528</td>\n",
       "    </tr>\n",
       "  </tbody>\n",
       "</table>\n",
       "</div>"
      ],
      "text/plain": [
       "       visitorId\n",
       "group           \n",
       "A            445\n",
       "B            528"
      ]
     },
     "execution_count": 65,
     "metadata": {},
     "output_type": "execute_result"
    }
   ],
   "source": [
    "ordrers_group = orders.groupby('group').agg({'visitorId':'nunique'})\n",
    "ordrers_group"
   ]
  },
  {
   "cell_type": "markdown",
   "metadata": {},
   "source": [
    "После удаления пользователей которые попали в обе группы мы потеряли 58 пользователей.В группе A-445 уникальных пользователей, в группе B-528 уникальных пользователей. Разница между покупателями легко объясняется воздействием на группу В - возможно, причина просто в лучшей конверсии. Если бы это разница была значительной - например, многократной - это было бы признаком проблем. Но в данном проекте разница между покупателями не сигнализирует об ошибках в сборе данных."
   ]
  },
  {
   "cell_type": "markdown",
   "metadata": {},
   "source": [
    "### График кумулятивной выручки по группам. "
   ]
  },
  {
   "cell_type": "code",
   "execution_count": 66,
   "metadata": {},
   "outputs": [],
   "source": [
    "datesGroups = orders[['date','group']].drop_duplicates() # создаем массив уникальных пар значений дат и групп теста"
   ]
  },
  {
   "cell_type": "code",
   "execution_count": 67,
   "metadata": {},
   "outputs": [],
   "source": [
    "# получаем агрегированные кумулятивные по дням данные о заказах\n",
    "ordersAggregated = (datesGroups.apply(\n",
    "    lambda x: orders[np.logical_and(orders['date'] <= x['date'], \n",
    "                                    orders['group'] == x['group'])]\n",
    "    .agg({'date' : 'max', \n",
    "          'group' : 'max', \n",
    "          'transactionId' : 'nunique', \n",
    "          'visitorId' : 'nunique',\n",
    "          'revenue' : 'sum'}), axis=1)\n",
    "                    .sort_values(by=['date','group'])\n",
    "                   )"
   ]
  },
  {
   "cell_type": "code",
   "execution_count": 68,
   "metadata": {},
   "outputs": [],
   "source": [
    "# получаем агрегированные кумулятивные по дням данные о посетителях интернет-магазина \n",
    "visitorsAggregated = (datesGroups.apply(\n",
    "    lambda x: visitors[np.logical_and(visitors['date'] <= x['date'], \n",
    "                                    visitors['group'] == x['group'])]\n",
    "    .agg({'date' : 'max', \n",
    "          'group' : 'max', \n",
    "          'visitors' : 'sum'}), axis=1)\n",
    "                     .sort_values(by=['date','group'])\n",
    "                     )"
   ]
  },
  {
   "cell_type": "code",
   "execution_count": 69,
   "metadata": {},
   "outputs": [
    {
     "data": {
      "text/html": [
       "<div>\n",
       "<style scoped>\n",
       "    .dataframe tbody tr th:only-of-type {\n",
       "        vertical-align: middle;\n",
       "    }\n",
       "\n",
       "    .dataframe tbody tr th {\n",
       "        vertical-align: top;\n",
       "    }\n",
       "\n",
       "    .dataframe thead th {\n",
       "        text-align: right;\n",
       "    }\n",
       "</style>\n",
       "<table border=\"1\" class=\"dataframe\">\n",
       "  <thead>\n",
       "    <tr style=\"text-align: right;\">\n",
       "      <th></th>\n",
       "      <th>date</th>\n",
       "      <th>group</th>\n",
       "      <th>orders</th>\n",
       "      <th>buyers</th>\n",
       "      <th>revenue</th>\n",
       "      <th>visitors</th>\n",
       "    </tr>\n",
       "  </thead>\n",
       "  <tbody>\n",
       "    <tr>\n",
       "      <th>0</th>\n",
       "      <td>2019-08-01</td>\n",
       "      <td>A</td>\n",
       "      <td>23</td>\n",
       "      <td>19</td>\n",
       "      <td>142779</td>\n",
       "      <td>719</td>\n",
       "    </tr>\n",
       "    <tr>\n",
       "      <th>1</th>\n",
       "      <td>2019-08-01</td>\n",
       "      <td>B</td>\n",
       "      <td>17</td>\n",
       "      <td>17</td>\n",
       "      <td>59758</td>\n",
       "      <td>713</td>\n",
       "    </tr>\n",
       "    <tr>\n",
       "      <th>2</th>\n",
       "      <td>2019-08-02</td>\n",
       "      <td>A</td>\n",
       "      <td>42</td>\n",
       "      <td>36</td>\n",
       "      <td>234381</td>\n",
       "      <td>1338</td>\n",
       "    </tr>\n",
       "    <tr>\n",
       "      <th>3</th>\n",
       "      <td>2019-08-02</td>\n",
       "      <td>B</td>\n",
       "      <td>40</td>\n",
       "      <td>39</td>\n",
       "      <td>221801</td>\n",
       "      <td>1294</td>\n",
       "    </tr>\n",
       "    <tr>\n",
       "      <th>4</th>\n",
       "      <td>2019-08-03</td>\n",
       "      <td>A</td>\n",
       "      <td>66</td>\n",
       "      <td>60</td>\n",
       "      <td>346854</td>\n",
       "      <td>1845</td>\n",
       "    </tr>\n",
       "  </tbody>\n",
       "</table>\n",
       "</div>"
      ],
      "text/plain": [
       "        date group  orders  buyers  revenue  visitors\n",
       "0 2019-08-01     A      23      19   142779       719\n",
       "1 2019-08-01     B      17      17    59758       713\n",
       "2 2019-08-02     A      42      36   234381      1338\n",
       "3 2019-08-02     B      40      39   221801      1294\n",
       "4 2019-08-03     A      66      60   346854      1845"
      ]
     },
     "execution_count": 69,
     "metadata": {},
     "output_type": "execute_result"
    }
   ],
   "source": [
    "# объединяем кумулятивные данные в одной таблице и присваиваем ее столбцам понятные названия\n",
    "cumulativeData = ordersAggregated.merge(\n",
    "    visitorsAggregated,\n",
    "    left_on=['date', 'group'],\n",
    "    right_on=['date', 'group']\n",
    ")\n",
    "cumulativeData.columns = ['date', 'group', 'orders', 'buyers', 'revenue', 'visitors']\n",
    "cumulativeData.head(5)"
   ]
  },
  {
   "cell_type": "code",
   "execution_count": 70,
   "metadata": {},
   "outputs": [],
   "source": [
    "# датафрейм с кумулятивным количеством заказов и кумулятивной выручкой по дням в группе А\n",
    "cumulativeRevenueA = cumulativeData[cumulativeData['group']=='A'][['date','revenue', 'orders']]"
   ]
  },
  {
   "cell_type": "code",
   "execution_count": 71,
   "metadata": {},
   "outputs": [],
   "source": [
    "# датафрейм с кумулятивным количеством заказов и кумулятивной выручкой по дням в группе B\n",
    "cumulativeRevenueB = cumulativeData[cumulativeData['group']=='B'][['date','revenue', 'orders']]"
   ]
  },
  {
   "cell_type": "code",
   "execution_count": 72,
   "metadata": {},
   "outputs": [],
   "source": [
    "def plot (x1, y1, x2, y2, title):\n",
    "    plt.figure(figsize=(12,5))\n",
    "    plt.plot(x1, y1, label='A')\n",
    "    plt.plot(x2, y2, label='B')\n",
    "    plt.title(title)\n",
    "    plt.legend()\n",
    "    plt.xticks(rotation=45)"
   ]
  },
  {
   "cell_type": "code",
   "execution_count": 73,
   "metadata": {},
   "outputs": [
    {
     "data": {
      "image/png": "[encoded data removed]",
      "text/plain": [
       "<Figure size 1200x500 with 1 Axes>"
      ]
     },
     "metadata": {},
     "output_type": "display_data"
    }
   ],
   "source": [
    "plot(cumulativeRevenueA['date'],\n",
    "       cumulativeRevenueA['revenue'],\n",
    "       cumulativeRevenueB['date'],\n",
    "       cumulativeRevenueB['revenue'],\n",
    "       title='Кумулятивная выручка по группам')"
   ]
  },
  {
   "cell_type": "markdown",
   "metadata": {},
   "source": [
    "**Вывод**:\n",
    "* Выручка для группы А в течении всего периода увеличивается равномерно\n",
    "* Выручка для группы В в течении всего периода увеличивается. Есть всплеск суммы выручки 19 августа, это говорит о том в выборке присутсятвуют либо очень дорогие заказы, либо всплеск количества заказов.\n",
    "\n"
   ]
  },
  {
   "cell_type": "markdown",
   "metadata": {},
   "source": [
    "### График кумулятивного среднего чека по группам. "
   ]
  },
  {
   "cell_type": "code",
   "execution_count": 74,
   "metadata": {},
   "outputs": [
    {
     "data": {
      "image/png": "[encoded data removed]",
      "text/plain": [
       "<Figure size 1200x500 with 1 Axes>"
      ]
     },
     "metadata": {},
     "output_type": "display_data"
    }
   ],
   "source": [
    "plot(cumulativeRevenueA['date'],\n",
    "     cumulativeRevenueA['revenue']/cumulativeRevenueA['orders'],\n",
    "     cumulativeRevenueB['date'],\n",
    "     cumulativeRevenueB['revenue']/cumulativeRevenueB['orders'],\n",
    "     title='Кумулятивный средний чек по группам'\n",
    ")"
   ]
  },
  {
   "cell_type": "markdown",
   "metadata": {},
   "source": [
    "**Вывод**:\n",
    "- На графиках заметны колебания средних чеков обеих групп. Средний чек группы A стабилизируется после 14 августа.\n",
    "- Средний чек группы В резко возрастает 19 августа. Это может сигнализировать о появлении очень дорогих заказов."
   ]
  },
  {
   "cell_type": "markdown",
   "metadata": {},
   "source": [
    "### График относительного изменения кумулятивного среднего чека группы B к группе A. "
   ]
  },
  {
   "cell_type": "code",
   "execution_count": 75,
   "metadata": {},
   "outputs": [
    {
     "data": {
      "text/plain": [
       "(array([18109., 18113., 18117., 18121., 18125., 18129., 18133., 18137.,\n",
       "        18140.]),\n",
       " [Text(0, 0, ''),\n",
       "  Text(0, 0, ''),\n",
       "  Text(0, 0, ''),\n",
       "  Text(0, 0, ''),\n",
       "  Text(0, 0, ''),\n",
       "  Text(0, 0, ''),\n",
       "  Text(0, 0, ''),\n",
       "  Text(0, 0, ''),\n",
       "  Text(0, 0, '')])"
      ]
     },
     "execution_count": 75,
     "metadata": {},
     "output_type": "execute_result"
    },
    {
     "data": {
      "image/png": "[encoded data removed]",
      "text/plain": [
       "<Figure size 1200x500 with 1 Axes>"
      ]
     },
     "metadata": {},
     "output_type": "display_data"
    }
   ],
   "source": [
    "# собираем данные в одном датафрейме\n",
    "mergedCumulativeRevenue = cumulativeRevenueA.merge(cumulativeRevenueB, \n",
    "                                                   left_on='date',\n",
    "                                                   right_on='date',\n",
    "                                                   how='left', \n",
    "                                                   suffixes=['A', 'B'])\n",
    "\n",
    "# cтроим отношение средних чеков\n",
    "plt.figure(figsize=(12,5))\n",
    "plt.plot(mergedCumulativeRevenue['date'], \n",
    "         (mergedCumulativeRevenue['revenueB']/mergedCumulativeRevenue['ordersB'])\n",
    "         /(mergedCumulativeRevenue['revenueA']/mergedCumulativeRevenue['ordersA'])-1)\n",
    "\n",
    "# добавляем ось X\n",
    "plt.axhline(y=0, color='black', linestyle='--') \n",
    "plt.title('Относительное изменение кумулятивного среднего чека группы B к группе A')\n",
    "plt.xticks(rotation=45)"
   ]
  },
  {
   "cell_type": "markdown",
   "metadata": {},
   "source": [
    "**Вывод**: На графике мы видим колебания отношения средних чеков и резкий скачок 19 августа, что еще раз свидетельствует об аномальных значениях."
   ]
  },
  {
   "cell_type": "markdown",
   "metadata": {},
   "source": [
    "### График кумулятивной конверсии по группам. "
   ]
  },
  {
   "cell_type": "code",
   "execution_count": 76,
   "metadata": {},
   "outputs": [
    {
     "data": {
      "image/png": "[encoded data removed]",
      "text/plain": [
       "<Figure size 1200x500 with 1 Axes>"
      ]
     },
     "metadata": {},
     "output_type": "display_data"
    }
   ],
   "source": [
    "# считаем кумулятивную конверсию\n",
    "cumulativeData['conversion'] = cumulativeData['orders']/cumulativeData['visitors'] * 100\n",
    "\n",
    "# отделяем данные по группе A\n",
    "cumulativeDataA = cumulativeData[cumulativeData['group']=='A']\n",
    "\n",
    "# отделяем данные по группе B\n",
    "cumulativeDataB = cumulativeData[cumulativeData['group']=='B']\n",
    "\n",
    "# строим графики\n",
    "plot(cumulativeDataA['date'],\n",
    "     cumulativeDataA['conversion'],\n",
    "     cumulativeDataB['date'],\n",
    "     cumulativeDataB['conversion'],\n",
    "     title='Кумулятивная конверсия по группам'\n",
    ")"
   ]
  },
  {
   "cell_type": "markdown",
   "metadata": {},
   "source": [
    "**Вывод**: В самом начале теста группа A имела большую конверсию в сравнении с группой B, с 6 августа конверсия группы B выравнивается, и до конца теста конверсия группы B остается выше конверсии группы А."
   ]
  },
  {
   "cell_type": "markdown",
   "metadata": {},
   "source": [
    "### График относительного изменения кумулятивной конверсии группы B к группе A. "
   ]
  },
  {
   "cell_type": "code",
   "execution_count": 77,
   "metadata": {},
   "outputs": [
    {
     "data": {
      "text/plain": [
       "(18109.0, 18139.0, -0.3, 0.3)"
      ]
     },
     "execution_count": 77,
     "metadata": {},
     "output_type": "execute_result"
    },
    {
     "data": {
      "image/png": "[encoded data removed]",
      "text/plain": [
       "<Figure size 1200x500 with 1 Axes>"
      ]
     },
     "metadata": {},
     "output_type": "display_data"
    }
   ],
   "source": [
    "mergedCumulativeConversions = cumulativeDataA[['date','conversion']].merge(cumulativeDataB[['date','conversion']], \n",
    "                                                                           left_on='date', \n",
    "                                                                           right_on='date', \n",
    "                                                                           how='left', \n",
    "                                                                           suffixes=['A', 'B'])\n",
    "plt.figure(figsize=(12,5))\n",
    "plt.plot(mergedCumulativeConversions['date'],\n",
    "         mergedCumulativeConversions['conversionB']/mergedCumulativeConversions['conversionA']-1,\n",
    ")\n",
    "plt.title('Относительный прирост конверсии группы B относительно группы A')\n",
    "plt.xticks(rotation=45)\n",
    "\n",
    "plt.axhline(y=0.1, color='black', linestyle='--')\n",
    "plt.axhline(y=-0.1, color='grey', linestyle='--')\n",
    "plt.axis([mergedCumulativeConversions['date'].dt.date.min(),\n",
    "          mergedCumulativeConversions['date'].dt.date.max(), -0.3, 0.3])"
   ]
  },
  {
   "cell_type": "markdown",
   "metadata": {},
   "source": [
    "**Вывод**: Группа B лидирует в конверсии после 6 августа, и фиксируется около прироста примерно в 20%."
   ]
  },
  {
   "cell_type": "markdown",
   "metadata": {},
   "source": [
    "### Точечный график количества заказов по пользователям. "
   ]
  },
  {
   "cell_type": "code",
   "execution_count": 78,
   "metadata": {},
   "outputs": [
    {
     "data": {
      "text/html": [
       "<div>\n",
       "<style scoped>\n",
       "    .dataframe tbody tr th:only-of-type {\n",
       "        vertical-align: middle;\n",
       "    }\n",
       "\n",
       "    .dataframe tbody tr th {\n",
       "        vertical-align: top;\n",
       "    }\n",
       "\n",
       "    .dataframe thead th {\n",
       "        text-align: right;\n",
       "    }\n",
       "</style>\n",
       "<table border=\"1\" class=\"dataframe\">\n",
       "  <thead>\n",
       "    <tr style=\"text-align: right;\">\n",
       "      <th></th>\n",
       "      <th>visitorId</th>\n",
       "      <th>orders</th>\n",
       "    </tr>\n",
       "  </thead>\n",
       "  <tbody>\n",
       "    <tr>\n",
       "      <th>908</th>\n",
       "      <td>3967698036</td>\n",
       "      <td>3</td>\n",
       "    </tr>\n",
       "    <tr>\n",
       "      <th>55</th>\n",
       "      <td>249864742</td>\n",
       "      <td>3</td>\n",
       "    </tr>\n",
       "    <tr>\n",
       "      <th>478</th>\n",
       "      <td>2108163459</td>\n",
       "      <td>3</td>\n",
       "    </tr>\n",
       "    <tr>\n",
       "      <th>687</th>\n",
       "      <td>2988190573</td>\n",
       "      <td>3</td>\n",
       "    </tr>\n",
       "    <tr>\n",
       "      <th>890</th>\n",
       "      <td>3908431265</td>\n",
       "      <td>3</td>\n",
       "    </tr>\n",
       "  </tbody>\n",
       "</table>\n",
       "</div>"
      ],
      "text/plain": [
       "      visitorId  orders\n",
       "908  3967698036       3\n",
       "55    249864742       3\n",
       "478  2108163459       3\n",
       "687  2988190573       3\n",
       "890  3908431265       3"
      ]
     },
     "execution_count": 78,
     "metadata": {},
     "output_type": "execute_result"
    }
   ],
   "source": [
    "ordersByUsers = (orders.groupby('visitorId',as_index=False)\n",
    "                .agg({'transactionId':'nunique'}))\n",
    "ordersByUsers.columns=['visitorId','orders']\n",
    "ordersByUsers.sort_values(by='orders',ascending=False).head()"
   ]
  },
  {
   "cell_type": "code",
   "execution_count": 79,
   "metadata": {},
   "outputs": [
    {
     "data": {
      "text/plain": [
       "Text(0.5, 0, 'Количество наблюдений')"
      ]
     },
     "execution_count": 79,
     "metadata": {},
     "output_type": "execute_result"
    },
    {
     "data": {
      "image/png": "[encoded data removed]",
      "text/plain": [
       "<Figure size 640x480 with 1 Axes>"
      ]
     },
     "metadata": {},
     "output_type": "display_data"
    }
   ],
   "source": [
    "x_values = pd.Series(range(0,len(ordersByUsers)))\n",
    "plt.scatter(x_values,ordersByUsers['orders'])\n",
    "plt.title('Количество заказов по пользователям')\n",
    "plt.ylabel('Количество заказов')\n",
    "plt.xlabel('Количество наблюдений')"
   ]
  },
  {
   "cell_type": "markdown",
   "metadata": {},
   "source": [
    "Большинство покупателей заказывали только один раз. Однако есть пользователи с 2 и 3 заказами. Чтобы определить нижнюю границу числа заказов, и отсеять аномальных пользователей посчитаем 95-й и 99-й перцентили количества заказов на пользователя."
   ]
  },
  {
   "cell_type": "markdown",
   "metadata": {},
   "source": [
    "### Посчитаем 95-й и 99-й перцентили количества заказов на пользователя. Выберем границу для определения аномальных пользователей."
   ]
  },
  {
   "cell_type": "code",
   "execution_count": 80,
   "metadata": {},
   "outputs": [
    {
     "name": "stdout",
     "output_type": "stream",
     "text": [
      "[1. 2.]\n"
     ]
    }
   ],
   "source": [
    "print(np.percentile(ordersByUsers['orders'], [95, 99]))"
   ]
  },
  {
   "cell_type": "markdown",
   "metadata": {},
   "source": [
    "### Точечный график стоимостей заказов. "
   ]
  },
  {
   "cell_type": "markdown",
   "metadata": {},
   "source": [
    "**Вывод:**\n",
    "* Не более 5% пользователей оформляли больше чем 1 заказа. \n",
    "* 1% пользователей заказывали более 2 раз.\n",
    "* Разумно выбрать 2 заказа на одного пользователя за нижнюю границу числа заказов, и отсеять аномальных пользователей по ней."
   ]
  },
  {
   "cell_type": "code",
   "execution_count": 81,
   "metadata": {},
   "outputs": [
    {
     "data": {
      "text/plain": [
       "Text(0.5, 0, 'Количество наблюдений')"
      ]
     },
     "execution_count": 81,
     "metadata": {},
     "output_type": "execute_result"
    },
    {
     "data": {
      "image/png": "[encoded data removed]",
      "text/plain": [
       "<Figure size 640x480 with 1 Axes>"
      ]
     },
     "metadata": {},
     "output_type": "display_data"
    }
   ],
   "source": [
    "x_values = pd.Series(range(0,len(orders['revenue'])))\n",
    "plt.scatter(x_values,orders['revenue'])\n",
    "plt.title('Точечный график стоимостей заказов')\n",
    "plt.ylabel('Стоимость заказа')\n",
    "plt.xlabel('Количество наблюдений')"
   ]
  },
  {
   "cell_type": "markdown",
   "metadata": {},
   "source": [
    "**Вывод:**\n",
    "На графике виден один сильно выбивающийся аномально дорогой заказ более 1,2 млн.руб. и заказ в 200т.руб. Основная доля заказов менее 100т.руб. Чтобы определить нижнюю границу стоимости заказов, и отсеять аномальные заказы посчитаем 95-й и 99-й перцентили стоимости заказов."
   ]
  },
  {
   "cell_type": "markdown",
   "metadata": {},
   "source": [
    "Рассмотрим как распределяется стоимость основной части заказов."
   ]
  },
  {
   "cell_type": "code",
   "execution_count": 82,
   "metadata": {},
   "outputs": [
    {
     "data": {
      "text/plain": [
       "(0.0, 120000.0)"
      ]
     },
     "execution_count": 82,
     "metadata": {},
     "output_type": "execute_result"
    },
    {
     "data": {
      "image/png": "[encoded data removed]",
      "text/plain": [
       "<Figure size 640x480 with 1 Axes>"
      ]
     },
     "metadata": {},
     "output_type": "display_data"
    }
   ],
   "source": [
    "x_values = pd.Series(range(0,len(orders['revenue'])))\n",
    "plt.scatter(x_values,orders['revenue'])\n",
    "plt.title('Точечный график стоимостей заказов')\n",
    "plt.ylabel('Стоимость заказа')\n",
    "plt.xlabel('Количество наблюдений')\n",
    "plt.ylim(0, 120000)"
   ]
  },
  {
   "cell_type": "markdown",
   "metadata": {},
   "source": [
    "График показывает что больщая часть заказов менее 20тыс.руб. Посчитаем 95-й и 99-й перцентили стоимости заказов и выберем границу для определения аномальных заказов."
   ]
  },
  {
   "cell_type": "markdown",
   "metadata": {},
   "source": [
    "### Посчитаем 95-й и 99-й перцентили стоимости заказов. Выберем границу для определения аномальных заказов."
   ]
  },
  {
   "cell_type": "code",
   "execution_count": 83,
   "metadata": {},
   "outputs": [
    {
     "name": "stdout",
     "output_type": "stream",
     "text": [
      "[26785. 53904.]\n"
     ]
    }
   ],
   "source": [
    "print(np.percentile(orders['revenue'], [95,99]))"
   ]
  },
  {
   "cell_type": "markdown",
   "metadata": {},
   "source": [
    "**Вывод:**\n",
    "* Не более 5% заказов дороже 26 785 рублей\n",
    "* Не более 1% заказов дороже 53 904 рублей.\n",
    "* Разумно выбрать 26 785 за нижнюю границу стоимости заказов, и отсеять аномальные заказы по ней."
   ]
  },
  {
   "cell_type": "markdown",
   "metadata": {},
   "source": [
    "### Посчитаем статистическую значимость различий в конверсии между группами по «сырым» данным. "
   ]
  },
  {
   "cell_type": "code",
   "execution_count": 84,
   "metadata": {},
   "outputs": [
    {
     "name": "stdout",
     "output_type": "stream",
     "text": [
      "        date  ordersPerDateA  revenuePerDateA  ordersPerDateB  \\\n",
      "0 2019-08-01              23           142779              17   \n",
      "1 2019-08-02              19            91602              23   \n",
      "2 2019-08-03              24           112473              14   \n",
      "3 2019-08-04              11            41176              14   \n",
      "4 2019-08-05              22            86383              21   \n",
      "\n",
      "   revenuePerDateB  visitorsPerDateA  visitorsPerDateB  \n",
      "0            59758               719               713  \n",
      "1           162043               619               581  \n",
      "2            67049               507               509  \n",
      "3            96890               717               770  \n",
      "4            89908               756               707  \n"
     ]
    }
   ],
   "source": [
    "# Подготовим данные\n",
    "visitorsADaily = visitors[visitors['group'] == 'A'][['date', 'visitors']]\n",
    "visitorsADaily.columns = ['date', 'visitorsPerDateA']\n",
    "\n",
    "visitorsBDaily = visitors[visitors['group'] == 'B'][['date', 'visitors']]\n",
    "visitorsBDaily.columns = ['date', 'visitorsPerDateB']\n",
    "\n",
    "ordersADaily = (\n",
    "    orders[orders['group'] == 'A'][['date', 'transactionId', 'visitorId', 'revenue']]\n",
    "    .groupby('date', as_index=False)\n",
    "    .agg({'transactionId': pd.Series.nunique, 'revenue': 'sum'})\n",
    ")\n",
    "ordersADaily.columns = ['date', 'ordersPerDateA', 'revenuePerDateA']\n",
    "\n",
    "ordersBDaily = (\n",
    "    orders[orders['group'] == 'B'][['date', 'transactionId', 'visitorId', 'revenue']]\n",
    "    .groupby('date', as_index=False)\n",
    "    .agg({'transactionId': pd.Series.nunique, 'revenue': 'sum'})\n",
    ")\n",
    "ordersBDaily.columns = ['date', 'ordersPerDateB', 'revenuePerDateB']\n",
    "\n",
    "data = (\n",
    "    ordersADaily.merge(\n",
    "        ordersBDaily, left_on='date', right_on='date', how='left'\n",
    "    )\n",
    "    .merge(visitorsADaily, left_on='date', right_on='date', how='left')\n",
    "    .merge(visitorsBDaily, left_on='date', right_on='date', how='left')\n",
    ")\n",
    "\n",
    "print(data.head(5)) "
   ]
  },
  {
   "cell_type": "markdown",
   "metadata": {},
   "source": [
    "**Нулевая гипотеза:** различий в конверсии между группами нет. **Альтернативная:** различия в конверсии между группами есть.\n",
    "**Уровень значимости:** $\\alpha = 0.05$"
   ]
  },
  {
   "cell_type": "code",
   "execution_count": 85,
   "metadata": {},
   "outputs": [
    {
     "name": "stdout",
     "output_type": "stream",
     "text": [
      "p-value: 0.054\n",
      "Относительный прирост конверсии группы В к конверсии группы А в процентах: 0.175\n"
     ]
    }
   ],
   "source": [
    "sampleA = data['ordersPerDateA'] / data['visitorsPerDateA']\n",
    "sampleB = data['ordersPerDateB'] / data['visitorsPerDateB']\n",
    "print('p-value:',\"{0:.3f}\".format(st.mannwhitneyu(sampleA, sampleB)[1]))\n",
    "print('Относительный прирост конверсии группы В к конверсии группы А в процентах:',\n",
    "      \"{0:.3f}\".format(sampleB.mean() / sampleA.mean() - 1))"
   ]
  },
  {
   "cell_type": "markdown",
   "metadata": {},
   "source": [
    "На доступных «сырых» данных на 5% уровне значимости нет оснований отвергнуть нулевую гипотезу в пользу альтернативной (p-value: 0.054 равно уровню значимости 𝛼=0.05). Есть существенное различие в конверсиях пользователей групп A и B. Относительный прирост конверсии группы В к конверсии группы А равен 17,5%."
   ]
  },
  {
   "cell_type": "markdown",
   "metadata": {},
   "source": [
    "### Статистическая значимость различий в среднем чеке заказа между группами по «сырым» данным. "
   ]
  },
  {
   "cell_type": "markdown",
   "metadata": {},
   "source": [
    "**Нулевая гипотеза:** различий в среднем чеке между группами нет. **Альтернативная гипотеза:** различия в среднем чеке между группами есть."
   ]
  },
  {
   "cell_type": "code",
   "execution_count": 86,
   "metadata": {},
   "outputs": [
    {
     "name": "stdout",
     "output_type": "stream",
     "text": [
      "p-value: 0.829\n",
      "Относительный прирост среднего чека группы В к среднему чеку группы А в процентах: 0.287\n"
     ]
    }
   ],
   "source": [
    "print('p-value:','{0:.3f}'.format(st.mannwhitneyu(orders[orders['group']=='A']['revenue'], \n",
    "                                       orders[orders['group']=='B']['revenue'])[1]))\n",
    "print('Относительный прирост среднего чека группы В к среднему чеку группы А в процентах:',\n",
    "      '{0:.3f}'.format(orders[orders['group']=='B']['revenue'].mean()/\n",
    "                       orders[orders['group']=='A']['revenue'].mean()-1)) "
   ]
  },
  {
   "cell_type": "markdown",
   "metadata": {},
   "source": [
    "На доступных «сырых» данных на 5% уровне значимости нет оснований отвергать нулевую гипотезу\n",
    "(p-value = 0.83 больше уровня значимости 𝛼=0.05). Не обнаружено статистически значимых различий между группами. Однако группа B выигрывает на 28.7%. На данное значение могли повлиять выбросы, которые мы наблюдали на графиках ранее."
   ]
  },
  {
   "cell_type": "markdown",
   "metadata": {},
   "source": [
    "### Статистическая значимость различий в конверсии между группами по «очищенным» данным. "
   ]
  },
  {
   "cell_type": "code",
   "execution_count": 87,
   "metadata": {},
   "outputs": [
    {
     "name": "stdout",
     "output_type": "stream",
     "text": [
      "55      249864742\n",
      "138     611059232\n",
      "478    2108163459\n",
      "632    2742574263\n",
      "687    2988190573\n",
      "Name: visitorId, dtype: int64\n",
      "58\n"
     ]
    }
   ],
   "source": [
    "abnormalUsers = (\n",
    "    pd.concat([ordersByUsers[ordersByUsers['orders'] > np.percentile(ordersByUsers['orders'], 99)]['visitorId'],\n",
    "              orders[orders['revenue'] > np.percentile(orders['revenue'], 95)]['visitorId']], axis=0)\n",
    ")\n",
    "print(abnormalUsers.head(5))\n",
    "print(abnormalUsers.shape[0]) "
   ]
  },
  {
   "cell_type": "code",
   "execution_count": 88,
   "metadata": {},
   "outputs": [
    {
     "data": {
      "text/html": [
       "<div>\n",
       "<style scoped>\n",
       "    .dataframe tbody tr th:only-of-type {\n",
       "        vertical-align: middle;\n",
       "    }\n",
       "\n",
       "    .dataframe tbody tr th {\n",
       "        vertical-align: top;\n",
       "    }\n",
       "\n",
       "    .dataframe thead th {\n",
       "        text-align: right;\n",
       "    }\n",
       "</style>\n",
       "<table border=\"1\" class=\"dataframe\">\n",
       "  <thead>\n",
       "    <tr style=\"text-align: right;\">\n",
       "      <th></th>\n",
       "      <th>date</th>\n",
       "      <th>ordersPerDateA</th>\n",
       "      <th>revenuePerDateA</th>\n",
       "      <th>ordersPerDateB</th>\n",
       "      <th>revenuePerDateB</th>\n",
       "      <th>visitorsPerDateA</th>\n",
       "      <th>visitorsPerDateB</th>\n",
       "    </tr>\n",
       "  </thead>\n",
       "  <tbody>\n",
       "    <tr>\n",
       "      <th>0</th>\n",
       "      <td>2019-08-01</td>\n",
       "      <td>16</td>\n",
       "      <td>54351</td>\n",
       "      <td>17</td>\n",
       "      <td>59758</td>\n",
       "      <td>719</td>\n",
       "      <td>713</td>\n",
       "    </tr>\n",
       "    <tr>\n",
       "      <th>1</th>\n",
       "      <td>2019-08-02</td>\n",
       "      <td>18</td>\n",
       "      <td>89912</td>\n",
       "      <td>21</td>\n",
       "      <td>93234</td>\n",
       "      <td>619</td>\n",
       "      <td>581</td>\n",
       "    </tr>\n",
       "    <tr>\n",
       "      <th>2</th>\n",
       "      <td>2019-08-03</td>\n",
       "      <td>24</td>\n",
       "      <td>112473</td>\n",
       "      <td>14</td>\n",
       "      <td>67049</td>\n",
       "      <td>507</td>\n",
       "      <td>509</td>\n",
       "    </tr>\n",
       "    <tr>\n",
       "      <th>3</th>\n",
       "      <td>2019-08-04</td>\n",
       "      <td>11</td>\n",
       "      <td>41176</td>\n",
       "      <td>13</td>\n",
       "      <td>65540</td>\n",
       "      <td>717</td>\n",
       "      <td>770</td>\n",
       "    </tr>\n",
       "    <tr>\n",
       "      <th>4</th>\n",
       "      <td>2019-08-05</td>\n",
       "      <td>22</td>\n",
       "      <td>86383</td>\n",
       "      <td>20</td>\n",
       "      <td>61558</td>\n",
       "      <td>756</td>\n",
       "      <td>707</td>\n",
       "    </tr>\n",
       "  </tbody>\n",
       "</table>\n",
       "</div>"
      ],
      "text/plain": [
       "        date  ordersPerDateA  revenuePerDateA  ordersPerDateB  \\\n",
       "0 2019-08-01              16            54351              17   \n",
       "1 2019-08-02              18            89912              21   \n",
       "2 2019-08-03              24           112473              14   \n",
       "3 2019-08-04              11            41176              13   \n",
       "4 2019-08-05              22            86383              20   \n",
       "\n",
       "   revenuePerDateB  visitorsPerDateA  visitorsPerDateB  \n",
       "0            59758               719               713  \n",
       "1            93234               619               581  \n",
       "2            67049               507               509  \n",
       "3            65540               717               770  \n",
       "4            61558               756               707  "
      ]
     },
     "execution_count": 88,
     "metadata": {},
     "output_type": "execute_result"
    }
   ],
   "source": [
    "ordersADaily = (\n",
    "    orders[np.logical_and(\n",
    "                    orders['group'] == 'A',\n",
    "                    np.logical_not(orders['visitorId'].isin(abnormalUsers)))][['date', \n",
    "                                                                             'transactionId', \n",
    "                                                                             'visitorId', \n",
    "                                                                             'revenue']]\n",
    "    .groupby('date', as_index=False)\n",
    "    .agg({'transactionId': pd.Series.nunique, 'revenue': 'sum'})\n",
    ")\n",
    "ordersADaily.columns = ['date', 'ordersPerDateA', 'revenuePerDateA']\n",
    "\n",
    "ordersBDaily = (\n",
    "    orders[np.logical_and(\n",
    "                    orders['group'] == 'B',\n",
    "                    np.logical_not(orders['visitorId'].isin(abnormalUsers)))][['date', \n",
    "                                                                             'transactionId', \n",
    "                                                                             'visitorId', \n",
    "                                                                             'revenue']]\n",
    "    .groupby('date', as_index=False)\n",
    "    .agg({'transactionId': pd.Series.nunique, 'revenue': 'sum'})\n",
    ")\n",
    "ordersBDaily.columns = ['date', 'ordersPerDateB', 'revenuePerDateB']  \n",
    "\n",
    "data = (\n",
    "    ordersADaily.merge(\n",
    "        ordersBDaily, left_on='date', right_on='date', how='left'\n",
    "    )\n",
    "    .merge(visitorsADaily, left_on='date', right_on='date', how='left')\n",
    "    .merge(visitorsBDaily, left_on='date', right_on='date', how='left')\n",
    ")\n",
    "            \n",
    "data.head()"
   ]
  },
  {
   "cell_type": "markdown",
   "metadata": {},
   "source": [
    "**Нулевая гипотеза:** различий в конверсии между группами нет. **Альтернативная:** различия в конверсии между группами есть."
   ]
  },
  {
   "cell_type": "code",
   "execution_count": 89,
   "metadata": {},
   "outputs": [
    {
     "name": "stdout",
     "output_type": "stream",
     "text": [
      "p-value: 0.040\n",
      "Относительный прирост конверсии группы В к конверсии группы А в процентах: 0.194\n"
     ]
    }
   ],
   "source": [
    "print('p-value:',\"{0:.3f}\".format(st.mannwhitneyu(data['ordersPerDateA'] / data['visitorsPerDateA'],\n",
    "                                                  data['ordersPerDateB'] / data['visitorsPerDateB'])[1]))\n",
    "print('Относительный прирост конверсии группы В к конверсии группы А в процентах:',\n",
    "      \"{0:.3f}\".format((data['ordersPerDateB'] / data['visitorsPerDateB']).mean() \n",
    "                       / (data['ordersPerDateA'] / data['visitorsPerDateA']).mean() - 1))"
   ]
  },
  {
   "cell_type": "markdown",
   "metadata": {},
   "source": [
    "На доступных «очищенных» данных на 5% уровне значимости имеются основания отвергнуть нулевую гипотезу в пользу альтернативной (p-value: 0.04 меньше уровня значимости 𝛼=0.05). Значение равно значению, полученному на \"сырых\" данных. Относительный прирост конверсии группы В к конверсии группы А равен 19,4%. Конверсия не зависела от аномалий и выбросов."
   ]
  },
  {
   "cell_type": "markdown",
   "metadata": {},
   "source": [
    "### Статистическая значимость различий в среднем чеке заказа между группами по «очищенным» данным. "
   ]
  },
  {
   "cell_type": "code",
   "execution_count": 90,
   "metadata": {},
   "outputs": [
    {
     "name": "stdout",
     "output_type": "stream",
     "text": [
      "p-value: 0.646\n",
      "Относительный прирост среднего чека группы В к среднему чеку группы А в процентах: -0.048\n"
     ]
    }
   ],
   "source": [
    "print('p-value:',\n",
    "    '{0:.3f}'.format(\n",
    "        st.mannwhitneyu(\n",
    "            orders[\n",
    "                np.logical_and(\n",
    "                    orders['group'] == 'A',\n",
    "                    np.logical_not(orders['visitorId'].isin(abnormalUsers)),\n",
    "                )\n",
    "            ]['revenue'],\n",
    "            orders[\n",
    "                np.logical_and(\n",
    "                    orders['group'] == 'B',\n",
    "                    np.logical_not(orders['visitorId'].isin(abnormalUsers)),\n",
    "                )\n",
    "            ]['revenue'],\n",
    "        )[1]\n",
    "    )\n",
    ")\n",
    "\n",
    "print('Относительный прирост среднего чека группы В к среднему чеку группы А в процентах:',\n",
    "    \"{0:.3f}\".format(\n",
    "        orders[\n",
    "            np.logical_and(\n",
    "                orders['group'] == 'B',\n",
    "                np.logical_not(orders['visitorId'].isin(abnormalUsers)),\n",
    "            )\n",
    "        ]['revenue'].mean()\n",
    "        / orders[\n",
    "            np.logical_and(\n",
    "                orders['group'] == 'A',\n",
    "                np.logical_not(orders['visitorId'].isin(abnormalUsers)),\n",
    "            )\n",
    "        ]['revenue'].mean()\n",
    "        - 1\n",
    "    )\n",
    ") "
   ]
  },
  {
   "cell_type": "markdown",
   "metadata": {},
   "source": [
    "На доступных «очищенных» данных на 5% уровне значимости нет оснований отвергать нулевую гипотезу (p-value = 0.65 больше уровня значимости 𝛼=0.05). Не обнаружено статистически значимых различий между группами. Относительный прирост среднего чека группы B к среднему чеку группы А меньше 0. Различие со значением относительного прироста среднего чека группы В на \"сырых\" данных связано с наличием аномалий / выбросов."
   ]
  },
  {
   "cell_type": "markdown",
   "metadata": {},
   "source": [
    "## Решение по результатам теста. "
   ]
  },
  {
   "cell_type": "markdown",
   "metadata": {},
   "source": [
    "* По «сырым» и «очищенным» данным есть статистически значимые различия по конверсии между группами, относительный прирост конверсии группы В к конверсии группы А равен 19,4%. Конверсия не зависела от аномалий и выбросов. График различия конверсии между группами сообщает, что результаты группы B лучше группы A. Наблюдается тенденция к росту.\n",
    "* По «сырым» и «очищенным» данным нет статистически значимых различий в среднем чеке между группами. По «сырым» данным группа В выигрывала на 28.7%, после очистки от выбросов средний чек группы B не отличается от среднего чека группы A. График кумулятивного среднего чека по группам указал на аномальные значения. \n",
    "* Решение: Остановить тест, **зафиксировать победу группы В**. Средний чек не изменился, но возросла конверсия, следовательно, увеличилось количество покупателей."
   ]
  }
 ],
 "metadata": {
  "ExecuteTimeLog": [
   {
    "duration": 1259,
    "start_time": "2022-06-30T13:04:32.249Z"
   },
   {
    "duration": 99,
    "start_time": "2022-06-30T13:04:34.186Z"
   },
   {
    "duration": 23,
    "start_time": "2022-06-30T13:04:45.808Z"
   },
   {
    "duration": 59,
    "start_time": "2022-06-30T13:17:32.255Z"
   },
   {
    "duration": 6,
    "start_time": "2022-06-30T13:17:43.993Z"
   },
   {
    "duration": 8,
    "start_time": "2022-06-30T13:17:51.686Z"
   },
   {
    "duration": 158,
    "start_time": "2022-06-30T13:19:28.646Z"
   },
   {
    "duration": 11,
    "start_time": "2022-06-30T13:19:56.496Z"
   },
   {
    "duration": 18,
    "start_time": "2022-06-30T13:20:03.163Z"
   },
   {
    "duration": 22,
    "start_time": "2022-06-30T13:22:11.861Z"
   },
   {
    "duration": 51,
    "start_time": "2022-06-30T13:26:05.745Z"
   },
   {
    "duration": 40,
    "start_time": "2022-06-30T13:26:07.282Z"
   },
   {
    "duration": 64,
    "start_time": "2022-06-30T13:26:36.815Z"
   },
   {
    "duration": 24,
    "start_time": "2022-06-30T13:26:45.057Z"
   },
   {
    "duration": 23,
    "start_time": "2022-06-30T13:27:35.488Z"
   },
   {
    "duration": 36,
    "start_time": "2022-06-30T13:27:44.221Z"
   },
   {
    "duration": 1164,
    "start_time": "2022-07-03T16:53:42.796Z"
   },
   {
    "duration": 113,
    "start_time": "2022-07-03T16:53:43.962Z"
   },
   {
    "duration": 11,
    "start_time": "2022-07-03T16:53:44.077Z"
   },
   {
    "duration": 11,
    "start_time": "2022-07-03T16:53:44.089Z"
   },
   {
    "duration": 47,
    "start_time": "2022-07-03T16:53:44.102Z"
   },
   {
    "duration": 39,
    "start_time": "2022-07-03T16:53:44.150Z"
   },
   {
    "duration": 6,
    "start_time": "2022-07-03T17:17:18.131Z"
   },
   {
    "duration": 12,
    "start_time": "2022-07-03T17:17:29.743Z"
   },
   {
    "duration": 7,
    "start_time": "2022-07-03T17:19:34.125Z"
   },
   {
    "duration": 133,
    "start_time": "2022-07-03T17:36:13.318Z"
   },
   {
    "duration": 137,
    "start_time": "2022-07-03T17:36:21.100Z"
   },
   {
    "duration": 143,
    "start_time": "2022-07-03T17:39:10.709Z"
   },
   {
    "duration": 34,
    "start_time": "2022-07-03T17:39:54.558Z"
   },
   {
    "duration": 9,
    "start_time": "2022-07-03T17:43:22.092Z"
   },
   {
    "duration": 20,
    "start_time": "2022-07-03T17:43:39.601Z"
   },
   {
    "duration": 21,
    "start_time": "2022-07-03T18:03:36.738Z"
   },
   {
    "duration": 13,
    "start_time": "2022-07-03T18:04:08.841Z"
   },
   {
    "duration": 11,
    "start_time": "2022-07-03T18:04:15.722Z"
   },
   {
    "duration": 13,
    "start_time": "2022-07-03T18:06:06.647Z"
   },
   {
    "duration": 11,
    "start_time": "2022-07-03T18:06:08.838Z"
   },
   {
    "duration": 16,
    "start_time": "2022-07-03T18:09:16.938Z"
   },
   {
    "duration": 17,
    "start_time": "2022-07-03T18:09:20.601Z"
   },
   {
    "duration": 113,
    "start_time": "2022-07-03T18:09:45.917Z"
   },
   {
    "duration": 14,
    "start_time": "2022-07-03T18:10:08.452Z"
   },
   {
    "duration": 12,
    "start_time": "2022-07-03T18:10:11.008Z"
   },
   {
    "duration": 57,
    "start_time": "2022-07-03T18:12:52.313Z"
   },
   {
    "duration": 35,
    "start_time": "2022-07-03T18:13:31.846Z"
   },
   {
    "duration": 149,
    "start_time": "2022-07-03T18:21:11.707Z"
   },
   {
    "duration": 3,
    "start_time": "2022-07-03T18:21:24.451Z"
   },
   {
    "duration": 57,
    "start_time": "2022-07-03T18:21:24.479Z"
   },
   {
    "duration": 11,
    "start_time": "2022-07-03T18:21:24.538Z"
   },
   {
    "duration": 26,
    "start_time": "2022-07-03T18:21:24.550Z"
   },
   {
    "duration": 68,
    "start_time": "2022-07-03T18:21:24.578Z"
   },
   {
    "duration": 31,
    "start_time": "2022-07-03T18:21:24.648Z"
   },
   {
    "duration": 30,
    "start_time": "2022-07-03T18:21:24.688Z"
   },
   {
    "duration": 173,
    "start_time": "2022-07-03T18:21:24.721Z"
   },
   {
    "duration": 132,
    "start_time": "2022-07-03T18:21:24.896Z"
   },
   {
    "duration": 14,
    "start_time": "2022-07-03T18:21:25.029Z"
   },
   {
    "duration": 169,
    "start_time": "2022-07-03T18:22:01.856Z"
   },
   {
    "duration": 13,
    "start_time": "2022-07-03T18:22:44.191Z"
   },
   {
    "duration": 113,
    "start_time": "2022-07-03T18:23:01.122Z"
   },
   {
    "duration": 14,
    "start_time": "2022-07-03T18:23:02.323Z"
   },
   {
    "duration": 4,
    "start_time": "2022-07-03T18:23:31.427Z"
   },
   {
    "duration": 14,
    "start_time": "2022-07-03T18:23:32.550Z"
   },
   {
    "duration": 80,
    "start_time": "2022-07-03T18:23:45.208Z"
   },
   {
    "duration": 11,
    "start_time": "2022-07-03T18:24:02.603Z"
   },
   {
    "duration": 95,
    "start_time": "2022-07-03T18:24:14.998Z"
   },
   {
    "duration": 17,
    "start_time": "2022-07-03T18:24:30.397Z"
   },
   {
    "duration": 94,
    "start_time": "2022-07-03T18:24:38.407Z"
   },
   {
    "duration": 138,
    "start_time": "2022-07-03T18:24:48.803Z"
   },
   {
    "duration": 26,
    "start_time": "2022-07-03T18:24:54.584Z"
   },
   {
    "duration": 12,
    "start_time": "2022-07-03T18:26:44.605Z"
   },
   {
    "duration": 6,
    "start_time": "2022-07-03T18:27:46.210Z"
   },
   {
    "duration": 9,
    "start_time": "2022-07-03T18:27:47.085Z"
   },
   {
    "duration": 331,
    "start_time": "2022-07-03T18:27:58.810Z"
   },
   {
    "duration": 249,
    "start_time": "2022-07-03T18:31:14.825Z"
   },
   {
    "duration": 282,
    "start_time": "2022-07-03T18:36:01.451Z"
   },
   {
    "duration": 48,
    "start_time": "2022-07-03T18:37:31.398Z"
   },
   {
    "duration": 96,
    "start_time": "2022-07-03T18:37:41.754Z"
   },
   {
    "duration": 461,
    "start_time": "2022-07-03T18:38:04.595Z"
   },
   {
    "duration": 42,
    "start_time": "2022-07-03T18:38:32.735Z"
   },
   {
    "duration": 147,
    "start_time": "2022-07-03T18:40:29.833Z"
   },
   {
    "duration": 91,
    "start_time": "2022-07-03T18:40:40.988Z"
   },
   {
    "duration": 8,
    "start_time": "2022-07-03T18:41:17.786Z"
   },
   {
    "duration": 9,
    "start_time": "2022-07-03T18:41:21.055Z"
   },
   {
    "duration": 5,
    "start_time": "2022-07-03T18:41:21.636Z"
   },
   {
    "duration": 190,
    "start_time": "2022-07-03T18:41:22.551Z"
   },
   {
    "duration": 3,
    "start_time": "2022-07-03T18:42:06.805Z"
   },
   {
    "duration": 24,
    "start_time": "2022-07-03T18:42:06.809Z"
   },
   {
    "duration": 10,
    "start_time": "2022-07-03T18:42:06.835Z"
   },
   {
    "duration": 18,
    "start_time": "2022-07-03T18:42:06.847Z"
   },
   {
    "duration": 51,
    "start_time": "2022-07-03T18:42:06.867Z"
   },
   {
    "duration": 15,
    "start_time": "2022-07-03T18:42:06.920Z"
   },
   {
    "duration": 5,
    "start_time": "2022-07-03T18:42:06.937Z"
   },
   {
    "duration": 187,
    "start_time": "2022-07-03T18:42:06.943Z"
   },
   {
    "duration": 166,
    "start_time": "2022-07-03T18:42:07.132Z"
   },
   {
    "duration": 10,
    "start_time": "2022-07-03T18:42:07.301Z"
   },
   {
    "duration": 18,
    "start_time": "2022-07-03T18:42:07.314Z"
   },
   {
    "duration": 11,
    "start_time": "2022-07-03T18:42:07.335Z"
   },
   {
    "duration": 292,
    "start_time": "2022-07-03T18:42:07.348Z"
   },
   {
    "duration": 204,
    "start_time": "2022-07-03T18:42:07.642Z"
   },
   {
    "duration": 319,
    "start_time": "2022-07-03T18:53:17.975Z"
   },
   {
    "duration": 14,
    "start_time": "2022-07-03T18:55:20.193Z"
   },
   {
    "duration": 26,
    "start_time": "2022-07-03T18:55:28.393Z"
   },
   {
    "duration": 320,
    "start_time": "2022-07-03T18:57:37.610Z"
   },
   {
    "duration": 387,
    "start_time": "2022-07-03T18:57:58.256Z"
   },
   {
    "duration": 444,
    "start_time": "2022-07-03T18:58:58.678Z"
   },
   {
    "duration": 7,
    "start_time": "2022-07-03T19:11:10.707Z"
   },
   {
    "duration": 18,
    "start_time": "2022-07-03T19:13:33.716Z"
   },
   {
    "duration": 14,
    "start_time": "2022-07-03T19:17:13.387Z"
   },
   {
    "duration": 7,
    "start_time": "2022-07-03T19:17:26.102Z"
   },
   {
    "duration": 6,
    "start_time": "2022-07-03T19:18:10.619Z"
   },
   {
    "duration": 223,
    "start_time": "2022-07-03T19:18:55.003Z"
   },
   {
    "duration": 213,
    "start_time": "2022-07-03T19:20:21.525Z"
   },
   {
    "duration": 255,
    "start_time": "2022-07-03T19:20:50.742Z"
   },
   {
    "duration": 190,
    "start_time": "2022-07-03T19:24:44.937Z"
   },
   {
    "duration": 235,
    "start_time": "2022-07-03T19:26:30.603Z"
   },
   {
    "duration": 241,
    "start_time": "2022-07-03T19:26:40.176Z"
   },
   {
    "duration": 187,
    "start_time": "2022-07-03T19:26:52.345Z"
   },
   {
    "duration": 237,
    "start_time": "2022-07-03T19:27:39.240Z"
   },
   {
    "duration": 348,
    "start_time": "2022-07-03T19:33:39.084Z"
   },
   {
    "duration": 360,
    "start_time": "2022-07-03T19:34:26.540Z"
   },
   {
    "duration": 48,
    "start_time": "2022-07-04T04:13:21.263Z"
   },
   {
    "duration": 1285,
    "start_time": "2022-07-04T04:13:24.193Z"
   },
   {
    "duration": 159,
    "start_time": "2022-07-04T04:13:25.481Z"
   },
   {
    "duration": 13,
    "start_time": "2022-07-04T04:13:25.641Z"
   },
   {
    "duration": 12,
    "start_time": "2022-07-04T04:13:25.656Z"
   },
   {
    "duration": 109,
    "start_time": "2022-07-04T04:13:25.670Z"
   },
   {
    "duration": 6,
    "start_time": "2022-07-04T04:13:25.781Z"
   },
   {
    "duration": 77,
    "start_time": "2022-07-04T04:13:25.788Z"
   },
   {
    "duration": 5,
    "start_time": "2022-07-04T04:13:25.866Z"
   },
   {
    "duration": 8,
    "start_time": "2022-07-04T04:13:25.873Z"
   },
   {
    "duration": 166,
    "start_time": "2022-07-04T04:13:25.884Z"
   },
   {
    "duration": 132,
    "start_time": "2022-07-04T04:13:26.052Z"
   },
   {
    "duration": 6,
    "start_time": "2022-07-04T04:13:26.186Z"
   },
   {
    "duration": 9,
    "start_time": "2022-07-04T04:13:26.194Z"
   },
   {
    "duration": 5,
    "start_time": "2022-07-04T04:13:26.204Z"
   },
   {
    "duration": 285,
    "start_time": "2022-07-04T04:13:26.211Z"
   },
   {
    "duration": 212,
    "start_time": "2022-07-04T04:13:26.498Z"
   },
   {
    "duration": 377,
    "start_time": "2022-07-04T04:13:26.712Z"
   },
   {
    "duration": 186,
    "start_time": "2022-07-04T04:13:27.090Z"
   },
   {
    "duration": 283,
    "start_time": "2022-07-04T04:13:27.278Z"
   },
   {
    "duration": 12,
    "start_time": "2022-07-04T04:13:27.563Z"
   },
   {
    "duration": 6,
    "start_time": "2022-07-04T04:20:53.990Z"
   },
   {
    "duration": 110,
    "start_time": "2022-07-04T04:23:02.877Z"
   },
   {
    "duration": 115,
    "start_time": "2022-07-04T04:23:20.947Z"
   },
   {
    "duration": 11,
    "start_time": "2022-07-04T04:24:24.648Z"
   },
   {
    "duration": 4,
    "start_time": "2022-07-04T04:38:29.557Z"
   },
   {
    "duration": 5,
    "start_time": "2022-07-04T04:39:18.232Z"
   },
   {
    "duration": 141,
    "start_time": "2022-07-04T04:47:20.049Z"
   },
   {
    "duration": 124,
    "start_time": "2022-07-04T04:48:08.120Z"
   },
   {
    "duration": 237,
    "start_time": "2022-07-04T04:48:54.620Z"
   },
   {
    "duration": 169,
    "start_time": "2022-07-04T04:51:58.716Z"
   },
   {
    "duration": 155,
    "start_time": "2022-07-04T04:54:45.825Z"
   },
   {
    "duration": 169,
    "start_time": "2022-07-04T04:55:19.640Z"
   },
   {
    "duration": 5,
    "start_time": "2022-07-04T04:57:20.541Z"
   },
   {
    "duration": 5,
    "start_time": "2022-07-04T05:06:51.254Z"
   },
   {
    "duration": 8,
    "start_time": "2022-07-04T05:12:00.052Z"
   },
   {
    "duration": 5,
    "start_time": "2022-07-04T05:12:22.697Z"
   },
   {
    "duration": 249,
    "start_time": "2022-07-04T05:42:06.870Z"
   },
   {
    "duration": 64,
    "start_time": "2022-07-04T05:49:12.090Z"
   },
   {
    "duration": 10,
    "start_time": "2022-07-04T05:49:58.164Z"
   },
   {
    "duration": 7,
    "start_time": "2022-07-04T05:51:11.454Z"
   },
   {
    "duration": 8,
    "start_time": "2022-07-04T05:53:00.093Z"
   },
   {
    "duration": 8,
    "start_time": "2022-07-04T05:54:38.669Z"
   },
   {
    "duration": 11,
    "start_time": "2022-07-04T08:47:46.207Z"
   },
   {
    "duration": 10,
    "start_time": "2022-07-04T08:47:54.678Z"
   },
   {
    "duration": 37,
    "start_time": "2022-07-04T08:57:55.985Z"
   },
   {
    "duration": 2,
    "start_time": "2022-07-04T08:58:05.466Z"
   },
   {
    "duration": 43,
    "start_time": "2022-07-04T08:58:05.478Z"
   },
   {
    "duration": 12,
    "start_time": "2022-07-04T08:58:05.523Z"
   },
   {
    "duration": 20,
    "start_time": "2022-07-04T08:58:05.537Z"
   },
   {
    "duration": 57,
    "start_time": "2022-07-04T08:58:05.559Z"
   },
   {
    "duration": 6,
    "start_time": "2022-07-04T08:58:05.619Z"
   },
   {
    "duration": 26,
    "start_time": "2022-07-04T08:58:05.627Z"
   },
   {
    "duration": 5,
    "start_time": "2022-07-04T08:58:05.655Z"
   },
   {
    "duration": 10,
    "start_time": "2022-07-04T08:58:05.661Z"
   },
   {
    "duration": 184,
    "start_time": "2022-07-04T08:58:05.672Z"
   },
   {
    "duration": 141,
    "start_time": "2022-07-04T08:58:05.858Z"
   },
   {
    "duration": 7,
    "start_time": "2022-07-04T08:58:06.001Z"
   },
   {
    "duration": 11,
    "start_time": "2022-07-04T08:58:06.009Z"
   },
   {
    "duration": 21,
    "start_time": "2022-07-04T08:58:06.022Z"
   },
   {
    "duration": 211,
    "start_time": "2022-07-04T08:58:06.047Z"
   },
   {
    "duration": 202,
    "start_time": "2022-07-04T08:58:06.259Z"
   },
   {
    "duration": 328,
    "start_time": "2022-07-04T08:58:06.463Z"
   },
   {
    "duration": 210,
    "start_time": "2022-07-04T08:58:06.793Z"
   },
   {
    "duration": 352,
    "start_time": "2022-07-04T08:58:07.005Z"
   },
   {
    "duration": 13,
    "start_time": "2022-07-04T08:58:07.359Z"
   },
   {
    "duration": 188,
    "start_time": "2022-07-04T08:58:07.374Z"
   },
   {
    "duration": 5,
    "start_time": "2022-07-04T08:58:07.563Z"
   },
   {
    "duration": 184,
    "start_time": "2022-07-04T08:58:07.570Z"
   },
   {
    "duration": 6,
    "start_time": "2022-07-04T08:58:07.756Z"
   },
   {
    "duration": 41,
    "start_time": "2022-07-04T08:58:07.763Z"
   },
   {
    "duration": 35,
    "start_time": "2022-07-04T08:58:07.806Z"
   },
   {
    "duration": 13,
    "start_time": "2022-07-04T08:58:07.843Z"
   },
   {
    "duration": 12,
    "start_time": "2022-07-04T14:26:46.385Z"
   },
   {
    "duration": 6,
    "start_time": "2022-07-04T14:27:36.213Z"
   },
   {
    "duration": 9,
    "start_time": "2022-07-04T14:27:43.879Z"
   },
   {
    "duration": 8,
    "start_time": "2022-07-04T14:28:04.208Z"
   },
   {
    "duration": 14,
    "start_time": "2022-07-04T14:31:39.912Z"
   },
   {
    "duration": 18,
    "start_time": "2022-07-04T14:42:58.752Z"
   },
   {
    "duration": 15,
    "start_time": "2022-07-04T14:43:20.566Z"
   },
   {
    "duration": 92,
    "start_time": "2022-07-04T14:56:44.702Z"
   },
   {
    "duration": 80,
    "start_time": "2022-07-04T14:57:48.635Z"
   },
   {
    "duration": 82,
    "start_time": "2022-07-04T14:58:04.471Z"
   },
   {
    "duration": 86,
    "start_time": "2022-07-04T14:58:45.979Z"
   },
   {
    "duration": 1213,
    "start_time": "2022-07-04T14:58:57.660Z"
   },
   {
    "duration": 36,
    "start_time": "2022-07-04T15:04:36.831Z"
   },
   {
    "duration": 49,
    "start_time": "2022-07-04T15:04:48.672Z"
   },
   {
    "duration": 48,
    "start_time": "2022-07-04T15:06:00.214Z"
   },
   {
    "duration": 10,
    "start_time": "2022-07-04T15:08:59.536Z"
   },
   {
    "duration": 6,
    "start_time": "2022-07-04T18:31:49.056Z"
   },
   {
    "duration": 153,
    "start_time": "2022-07-04T18:32:01.112Z"
   },
   {
    "duration": 5,
    "start_time": "2022-07-04T18:32:30.759Z"
   },
   {
    "duration": 8,
    "start_time": "2022-07-04T18:42:39.072Z"
   },
   {
    "duration": 1275,
    "start_time": "2022-07-04T18:43:00.604Z"
   },
   {
    "duration": 121,
    "start_time": "2022-07-04T18:43:01.882Z"
   },
   {
    "duration": 17,
    "start_time": "2022-07-04T18:43:02.006Z"
   },
   {
    "duration": 30,
    "start_time": "2022-07-04T18:43:02.026Z"
   },
   {
    "duration": 77,
    "start_time": "2022-07-04T18:43:02.059Z"
   },
   {
    "duration": 9,
    "start_time": "2022-07-04T18:43:02.139Z"
   },
   {
    "duration": 32,
    "start_time": "2022-07-04T18:43:02.150Z"
   },
   {
    "duration": 6,
    "start_time": "2022-07-04T18:43:02.184Z"
   },
   {
    "duration": 17,
    "start_time": "2022-07-04T18:43:02.192Z"
   },
   {
    "duration": 237,
    "start_time": "2022-07-04T18:43:02.212Z"
   },
   {
    "duration": 191,
    "start_time": "2022-07-04T18:43:02.451Z"
   },
   {
    "duration": 13,
    "start_time": "2022-07-04T18:43:02.644Z"
   },
   {
    "duration": 28,
    "start_time": "2022-07-04T18:43:02.659Z"
   },
   {
    "duration": 27,
    "start_time": "2022-07-04T18:43:02.690Z"
   },
   {
    "duration": 350,
    "start_time": "2022-07-04T18:43:02.720Z"
   },
   {
    "duration": 214,
    "start_time": "2022-07-04T18:43:03.072Z"
   },
   {
    "duration": 331,
    "start_time": "2022-07-04T18:43:03.288Z"
   },
   {
    "duration": 251,
    "start_time": "2022-07-04T18:43:03.621Z"
   },
   {
    "duration": 321,
    "start_time": "2022-07-04T18:43:03.875Z"
   },
   {
    "duration": 13,
    "start_time": "2022-07-04T18:43:04.198Z"
   },
   {
    "duration": 232,
    "start_time": "2022-07-04T18:43:04.214Z"
   },
   {
    "duration": 7,
    "start_time": "2022-07-04T18:43:04.448Z"
   },
   {
    "duration": 250,
    "start_time": "2022-07-04T18:43:04.457Z"
   },
   {
    "duration": 7,
    "start_time": "2022-07-04T18:43:04.710Z"
   },
   {
    "duration": 60,
    "start_time": "2022-07-04T18:43:04.719Z"
   },
   {
    "duration": 9,
    "start_time": "2022-07-04T18:43:04.781Z"
   },
   {
    "duration": 23,
    "start_time": "2022-07-04T18:43:04.792Z"
   },
   {
    "duration": 32,
    "start_time": "2022-07-04T18:43:04.820Z"
   },
   {
    "duration": 54,
    "start_time": "2022-07-04T18:43:04.854Z"
   },
   {
    "duration": 33,
    "start_time": "2022-07-04T18:43:04.911Z"
   },
   {
    "duration": 23,
    "start_time": "2022-07-04T18:43:04.946Z"
   },
   {
    "duration": 13,
    "start_time": "2022-07-04T18:45:44.393Z"
   },
   {
    "duration": 18,
    "start_time": "2022-07-04T18:48:26.681Z"
   },
   {
    "duration": 11,
    "start_time": "2022-07-04T18:49:08.209Z"
   },
   {
    "duration": 17,
    "start_time": "2022-07-04T18:49:45.828Z"
   },
   {
    "duration": 153,
    "start_time": "2022-07-04T18:52:46.825Z"
   },
   {
    "duration": 29,
    "start_time": "2022-07-04T18:53:13.125Z"
   },
   {
    "duration": 11,
    "start_time": "2022-07-04T18:55:08.358Z"
   },
   {
    "duration": 29,
    "start_time": "2022-07-04T18:55:53.024Z"
   },
   {
    "duration": 6,
    "start_time": "2022-07-04T18:56:23.220Z"
   },
   {
    "duration": 1300,
    "start_time": "2022-07-07T07:55:54.185Z"
   },
   {
    "duration": 167,
    "start_time": "2022-07-07T07:55:55.488Z"
   },
   {
    "duration": 20,
    "start_time": "2022-07-07T07:55:55.658Z"
   },
   {
    "duration": 15,
    "start_time": "2022-07-07T07:55:55.681Z"
   },
   {
    "duration": 132,
    "start_time": "2022-07-07T07:55:55.698Z"
   },
   {
    "duration": 13,
    "start_time": "2022-07-07T07:55:55.833Z"
   },
   {
    "duration": 8,
    "start_time": "2022-07-07T07:55:55.848Z"
   },
   {
    "duration": 6,
    "start_time": "2022-07-07T07:55:55.858Z"
   },
   {
    "duration": 79,
    "start_time": "2022-07-07T07:55:55.866Z"
   },
   {
    "duration": 12,
    "start_time": "2022-07-07T07:55:55.947Z"
   },
   {
    "duration": 8,
    "start_time": "2022-07-07T07:55:55.960Z"
   },
   {
    "duration": 12,
    "start_time": "2022-07-07T07:55:55.970Z"
   },
   {
    "duration": 13,
    "start_time": "2022-07-07T07:55:55.983Z"
   },
   {
    "duration": 7,
    "start_time": "2022-07-07T07:55:55.998Z"
   },
   {
    "duration": 192,
    "start_time": "2022-07-07T07:55:56.006Z"
   },
   {
    "duration": 149,
    "start_time": "2022-07-07T07:55:56.200Z"
   },
   {
    "duration": 8,
    "start_time": "2022-07-07T07:55:56.355Z"
   },
   {
    "duration": 10,
    "start_time": "2022-07-07T07:55:56.365Z"
   },
   {
    "duration": 7,
    "start_time": "2022-07-07T07:55:56.377Z"
   },
   {
    "duration": 324,
    "start_time": "2022-07-07T07:55:56.385Z"
   },
   {
    "duration": 271,
    "start_time": "2022-07-07T07:55:56.712Z"
   },
   {
    "duration": 389,
    "start_time": "2022-07-07T07:55:56.986Z"
   },
   {
    "duration": 200,
    "start_time": "2022-07-07T07:55:57.377Z"
   },
   {
    "duration": 326,
    "start_time": "2022-07-07T07:55:57.580Z"
   },
   {
    "duration": 12,
    "start_time": "2022-07-07T07:55:57.908Z"
   },
   {
    "duration": 162,
    "start_time": "2022-07-07T07:55:57.922Z"
   },
   {
    "duration": 14,
    "start_time": "2022-07-07T07:55:58.086Z"
   },
   {
    "duration": 180,
    "start_time": "2022-07-07T07:55:58.103Z"
   },
   {
    "duration": 14,
    "start_time": "2022-07-07T07:55:58.284Z"
   },
   {
    "duration": 41,
    "start_time": "2022-07-07T07:55:58.300Z"
   },
   {
    "duration": 7,
    "start_time": "2022-07-07T07:55:58.343Z"
   },
   {
    "duration": 21,
    "start_time": "2022-07-07T07:55:58.352Z"
   },
   {
    "duration": 10,
    "start_time": "2022-07-07T07:55:58.400Z"
   },
   {
    "duration": 46,
    "start_time": "2022-07-07T07:55:58.413Z"
   },
   {
    "duration": 10,
    "start_time": "2022-07-07T07:55:58.461Z"
   },
   {
    "duration": 38,
    "start_time": "2022-07-07T07:55:58.472Z"
   },
   {
    "duration": 6,
    "start_time": "2022-07-07T08:15:59.465Z"
   },
   {
    "duration": 5,
    "start_time": "2022-07-07T08:16:15.930Z"
   },
   {
    "duration": 6,
    "start_time": "2022-07-07T08:36:57.529Z"
   },
   {
    "duration": 10,
    "start_time": "2022-07-07T08:37:02.330Z"
   },
   {
    "duration": 5,
    "start_time": "2022-07-07T08:38:13.191Z"
   },
   {
    "duration": 7,
    "start_time": "2022-07-07T08:38:18.146Z"
   },
   {
    "duration": 18,
    "start_time": "2022-07-07T08:42:01.592Z"
   },
   {
    "duration": 10,
    "start_time": "2022-07-07T08:42:21.366Z"
   },
   {
    "duration": 1128,
    "start_time": "2022-07-07T08:42:38.426Z"
   },
   {
    "duration": 102,
    "start_time": "2022-07-07T08:42:39.556Z"
   },
   {
    "duration": 20,
    "start_time": "2022-07-07T08:42:39.660Z"
   },
   {
    "duration": 28,
    "start_time": "2022-07-07T08:42:39.682Z"
   },
   {
    "duration": 26,
    "start_time": "2022-07-07T08:42:39.712Z"
   },
   {
    "duration": 13,
    "start_time": "2022-07-07T08:42:39.740Z"
   },
   {
    "duration": 9,
    "start_time": "2022-07-07T08:42:39.755Z"
   },
   {
    "duration": 11,
    "start_time": "2022-07-07T08:42:39.765Z"
   },
   {
    "duration": 65,
    "start_time": "2022-07-07T08:42:39.777Z"
   },
   {
    "duration": 11,
    "start_time": "2022-07-07T08:42:39.845Z"
   },
   {
    "duration": 6,
    "start_time": "2022-07-07T08:42:39.858Z"
   },
   {
    "duration": 9,
    "start_time": "2022-07-07T08:42:39.866Z"
   },
   {
    "duration": 12,
    "start_time": "2022-07-07T08:42:39.876Z"
   },
   {
    "duration": 20,
    "start_time": "2022-07-07T08:42:39.889Z"
   },
   {
    "duration": 10,
    "start_time": "2022-07-07T08:42:39.913Z"
   },
   {
    "duration": 8,
    "start_time": "2022-07-07T08:42:39.925Z"
   },
   {
    "duration": 201,
    "start_time": "2022-07-07T08:42:39.935Z"
   },
   {
    "duration": 157,
    "start_time": "2022-07-07T08:42:40.138Z"
   },
   {
    "duration": 8,
    "start_time": "2022-07-07T08:42:40.309Z"
   },
   {
    "duration": 15,
    "start_time": "2022-07-07T08:42:40.318Z"
   },
   {
    "duration": 9,
    "start_time": "2022-07-07T08:42:40.335Z"
   },
   {
    "duration": 308,
    "start_time": "2022-07-07T08:42:40.346Z"
   },
   {
    "duration": 198,
    "start_time": "2022-07-07T08:42:40.656Z"
   },
   {
    "duration": 332,
    "start_time": "2022-07-07T08:42:40.856Z"
   },
   {
    "duration": 206,
    "start_time": "2022-07-07T08:42:41.191Z"
   },
   {
    "duration": 325,
    "start_time": "2022-07-07T08:42:41.399Z"
   },
   {
    "duration": 13,
    "start_time": "2022-07-07T08:42:41.726Z"
   },
   {
    "duration": 182,
    "start_time": "2022-07-07T08:42:41.744Z"
   },
   {
    "duration": 4,
    "start_time": "2022-07-07T08:42:41.928Z"
   },
   {
    "duration": 177,
    "start_time": "2022-07-07T08:42:41.934Z"
   },
   {
    "duration": 5,
    "start_time": "2022-07-07T08:42:42.113Z"
   },
   {
    "duration": 42,
    "start_time": "2022-07-07T08:42:42.120Z"
   },
   {
    "duration": 8,
    "start_time": "2022-07-07T08:42:42.163Z"
   },
   {
    "duration": 33,
    "start_time": "2022-07-07T08:42:42.173Z"
   },
   {
    "duration": 8,
    "start_time": "2022-07-07T08:42:42.213Z"
   },
   {
    "duration": 47,
    "start_time": "2022-07-07T08:42:42.222Z"
   },
   {
    "duration": 35,
    "start_time": "2022-07-07T08:42:42.271Z"
   },
   {
    "duration": 17,
    "start_time": "2022-07-07T08:42:42.314Z"
   },
   {
    "duration": 15,
    "start_time": "2022-07-07T08:43:37.962Z"
   },
   {
    "duration": 10,
    "start_time": "2022-07-07T08:43:41.833Z"
   },
   {
    "duration": 3,
    "start_time": "2022-07-07T08:43:52.389Z"
   },
   {
    "duration": 51,
    "start_time": "2022-07-07T08:43:52.394Z"
   },
   {
    "duration": 11,
    "start_time": "2022-07-07T08:43:52.447Z"
   },
   {
    "duration": 13,
    "start_time": "2022-07-07T08:43:52.460Z"
   },
   {
    "duration": 33,
    "start_time": "2022-07-07T08:43:52.475Z"
   },
   {
    "duration": 15,
    "start_time": "2022-07-07T08:43:52.509Z"
   },
   {
    "duration": 8,
    "start_time": "2022-07-07T08:43:52.525Z"
   },
   {
    "duration": 10,
    "start_time": "2022-07-07T08:43:52.534Z"
   },
   {
    "duration": 61,
    "start_time": "2022-07-07T08:43:52.547Z"
   },
   {
    "duration": 13,
    "start_time": "2022-07-07T08:43:52.609Z"
   },
   {
    "duration": 9,
    "start_time": "2022-07-07T08:43:52.624Z"
   },
   {
    "duration": 7,
    "start_time": "2022-07-07T08:43:52.635Z"
   },
   {
    "duration": 11,
    "start_time": "2022-07-07T08:43:52.644Z"
   },
   {
    "duration": 44,
    "start_time": "2022-07-07T08:43:52.657Z"
   },
   {
    "duration": 15,
    "start_time": "2022-07-07T08:43:52.705Z"
   },
   {
    "duration": 10,
    "start_time": "2022-07-07T08:43:52.722Z"
   },
   {
    "duration": 203,
    "start_time": "2022-07-07T08:43:52.734Z"
   },
   {
    "duration": 140,
    "start_time": "2022-07-07T08:43:52.939Z"
   },
   {
    "duration": 18,
    "start_time": "2022-07-07T08:43:53.081Z"
   },
   {
    "duration": 16,
    "start_time": "2022-07-07T08:43:53.104Z"
   },
   {
    "duration": 9,
    "start_time": "2022-07-07T08:43:53.122Z"
   },
   {
    "duration": 221,
    "start_time": "2022-07-07T08:43:53.132Z"
   },
   {
    "duration": 299,
    "start_time": "2022-07-07T08:43:53.355Z"
   },
   {
    "duration": 334,
    "start_time": "2022-07-07T08:43:53.657Z"
   },
   {
    "duration": 220,
    "start_time": "2022-07-07T08:43:53.993Z"
   },
   {
    "duration": 302,
    "start_time": "2022-07-07T08:43:54.217Z"
   },
   {
    "duration": 12,
    "start_time": "2022-07-07T08:43:54.521Z"
   },
   {
    "duration": 182,
    "start_time": "2022-07-07T08:43:54.535Z"
   },
   {
    "duration": 6,
    "start_time": "2022-07-07T08:43:54.719Z"
   },
   {
    "duration": 169,
    "start_time": "2022-07-07T08:43:54.727Z"
   },
   {
    "duration": 13,
    "start_time": "2022-07-07T08:43:54.898Z"
   },
   {
    "duration": 49,
    "start_time": "2022-07-07T08:43:54.912Z"
   },
   {
    "duration": 7,
    "start_time": "2022-07-07T08:43:54.963Z"
   },
   {
    "duration": 11,
    "start_time": "2022-07-07T08:43:54.972Z"
   },
   {
    "duration": 8,
    "start_time": "2022-07-07T08:43:54.998Z"
   },
   {
    "duration": 53,
    "start_time": "2022-07-07T08:43:55.008Z"
   },
   {
    "duration": 9,
    "start_time": "2022-07-07T08:43:55.063Z"
   },
   {
    "duration": 36,
    "start_time": "2022-07-07T08:43:55.074Z"
   },
   {
    "duration": 15,
    "start_time": "2022-07-07T08:50:06.841Z"
   },
   {
    "duration": 7,
    "start_time": "2022-07-07T08:55:42.071Z"
   },
   {
    "duration": 11,
    "start_time": "2022-07-07T08:55:43.959Z"
   },
   {
    "duration": 7,
    "start_time": "2022-07-07T08:56:40.238Z"
   },
   {
    "duration": 9,
    "start_time": "2022-07-07T08:56:56.036Z"
   },
   {
    "duration": 100,
    "start_time": "2022-07-07T08:57:03.238Z"
   },
   {
    "duration": 9,
    "start_time": "2022-07-07T08:57:09.046Z"
   },
   {
    "duration": 14,
    "start_time": "2022-07-07T08:57:15.481Z"
   },
   {
    "duration": 12,
    "start_time": "2022-07-07T08:57:22.265Z"
   },
   {
    "duration": 8,
    "start_time": "2022-07-07T08:57:29.834Z"
   },
   {
    "duration": 1178,
    "start_time": "2022-07-07T08:57:44.388Z"
   },
   {
    "duration": 121,
    "start_time": "2022-07-07T08:57:45.569Z"
   },
   {
    "duration": 14,
    "start_time": "2022-07-07T08:57:45.692Z"
   },
   {
    "duration": 12,
    "start_time": "2022-07-07T08:57:45.709Z"
   },
   {
    "duration": 27,
    "start_time": "2022-07-07T08:57:45.724Z"
   },
   {
    "duration": 12,
    "start_time": "2022-07-07T08:57:45.753Z"
   },
   {
    "duration": 9,
    "start_time": "2022-07-07T08:57:45.767Z"
   },
   {
    "duration": 24,
    "start_time": "2022-07-07T08:57:45.778Z"
   },
   {
    "duration": 56,
    "start_time": "2022-07-07T08:57:45.804Z"
   },
   {
    "duration": 12,
    "start_time": "2022-07-07T08:57:45.863Z"
   },
   {
    "duration": 8,
    "start_time": "2022-07-07T08:57:45.876Z"
   },
   {
    "duration": 5,
    "start_time": "2022-07-07T08:57:45.886Z"
   },
   {
    "duration": 13,
    "start_time": "2022-07-07T08:57:45.893Z"
   },
   {
    "duration": 6,
    "start_time": "2022-07-07T08:57:45.908Z"
   },
   {
    "duration": 8,
    "start_time": "2022-07-07T08:57:45.916Z"
   },
   {
    "duration": 12,
    "start_time": "2022-07-07T08:57:45.926Z"
   },
   {
    "duration": 8,
    "start_time": "2022-07-07T08:57:45.941Z"
   },
   {
    "duration": 201,
    "start_time": "2022-07-07T08:57:45.951Z"
   },
   {
    "duration": 154,
    "start_time": "2022-07-07T08:57:46.154Z"
   },
   {
    "duration": 7,
    "start_time": "2022-07-07T08:57:46.310Z"
   },
   {
    "duration": 7,
    "start_time": "2022-07-07T08:57:46.319Z"
   },
   {
    "duration": 10,
    "start_time": "2022-07-07T08:57:46.328Z"
   },
   {
    "duration": 305,
    "start_time": "2022-07-07T08:57:46.340Z"
   },
   {
    "duration": 265,
    "start_time": "2022-07-07T08:57:46.647Z"
   },
   {
    "duration": 335,
    "start_time": "2022-07-07T08:57:46.914Z"
   },
   {
    "duration": 195,
    "start_time": "2022-07-07T08:57:47.251Z"
   },
   {
    "duration": 309,
    "start_time": "2022-07-07T08:57:47.448Z"
   },
   {
    "duration": 12,
    "start_time": "2022-07-07T08:57:47.760Z"
   },
   {
    "duration": 165,
    "start_time": "2022-07-07T08:57:47.774Z"
   },
   {
    "duration": 5,
    "start_time": "2022-07-07T08:57:47.940Z"
   },
   {
    "duration": 169,
    "start_time": "2022-07-07T08:57:47.947Z"
   },
   {
    "duration": 4,
    "start_time": "2022-07-07T08:57:48.119Z"
   },
   {
    "duration": 42,
    "start_time": "2022-07-07T08:57:48.125Z"
   },
   {
    "duration": 33,
    "start_time": "2022-07-07T08:57:48.169Z"
   },
   {
    "duration": 12,
    "start_time": "2022-07-07T08:57:48.204Z"
   },
   {
    "duration": 8,
    "start_time": "2022-07-07T08:57:48.218Z"
   },
   {
    "duration": 69,
    "start_time": "2022-07-07T08:57:48.229Z"
   },
   {
    "duration": 8,
    "start_time": "2022-07-07T08:57:48.300Z"
   },
   {
    "duration": 17,
    "start_time": "2022-07-07T08:57:48.310Z"
   },
   {
    "duration": 7,
    "start_time": "2022-07-07T08:59:04.961Z"
   },
   {
    "duration": 7,
    "start_time": "2022-07-07T08:59:11.872Z"
   },
   {
    "duration": 6,
    "start_time": "2022-07-07T08:59:46.567Z"
   },
   {
    "duration": 74,
    "start_time": "2022-07-07T08:59:52.599Z"
   },
   {
    "duration": 15,
    "start_time": "2022-07-07T08:59:58.875Z"
   },
   {
    "duration": 1130,
    "start_time": "2022-07-07T09:00:20.653Z"
   },
   {
    "duration": 112,
    "start_time": "2022-07-07T09:00:21.785Z"
   },
   {
    "duration": 14,
    "start_time": "2022-07-07T09:00:21.898Z"
   },
   {
    "duration": 13,
    "start_time": "2022-07-07T09:00:21.914Z"
   },
   {
    "duration": 27,
    "start_time": "2022-07-07T09:00:21.929Z"
   },
   {
    "duration": 12,
    "start_time": "2022-07-07T09:00:21.958Z"
   },
   {
    "duration": 8,
    "start_time": "2022-07-07T09:00:21.972Z"
   },
   {
    "duration": 6,
    "start_time": "2022-07-07T09:00:21.999Z"
   },
   {
    "duration": 56,
    "start_time": "2022-07-07T09:00:22.006Z"
   },
   {
    "duration": 17,
    "start_time": "2022-07-07T09:00:22.066Z"
   },
   {
    "duration": 9,
    "start_time": "2022-07-07T09:00:22.085Z"
   },
   {
    "duration": 8,
    "start_time": "2022-07-07T09:00:22.096Z"
   },
   {
    "duration": 17,
    "start_time": "2022-07-07T09:00:22.106Z"
   },
   {
    "duration": 9,
    "start_time": "2022-07-07T09:00:22.126Z"
   },
   {
    "duration": 3,
    "start_time": "2022-07-07T09:00:22.138Z"
   },
   {
    "duration": 14,
    "start_time": "2022-07-07T09:00:22.143Z"
   },
   {
    "duration": 7,
    "start_time": "2022-07-07T09:00:22.159Z"
   },
   {
    "duration": 212,
    "start_time": "2022-07-07T09:00:22.168Z"
   },
   {
    "duration": 155,
    "start_time": "2022-07-07T09:00:22.382Z"
   },
   {
    "duration": 10,
    "start_time": "2022-07-07T09:00:22.539Z"
   },
   {
    "duration": 12,
    "start_time": "2022-07-07T09:00:22.550Z"
   },
   {
    "duration": 11,
    "start_time": "2022-07-07T09:00:22.564Z"
   },
   {
    "duration": 288,
    "start_time": "2022-07-07T09:00:22.577Z"
   },
   {
    "duration": 199,
    "start_time": "2022-07-07T09:00:22.867Z"
   },
   {
    "duration": 336,
    "start_time": "2022-07-07T09:00:23.067Z"
   },
   {
    "duration": 202,
    "start_time": "2022-07-07T09:00:23.405Z"
   },
   {
    "duration": 309,
    "start_time": "2022-07-07T09:00:23.610Z"
   },
   {
    "duration": 13,
    "start_time": "2022-07-07T09:00:23.923Z"
   },
   {
    "duration": 188,
    "start_time": "2022-07-07T09:00:23.938Z"
   },
   {
    "duration": 5,
    "start_time": "2022-07-07T09:00:24.128Z"
   },
   {
    "duration": 179,
    "start_time": "2022-07-07T09:00:24.135Z"
   },
   {
    "duration": 5,
    "start_time": "2022-07-07T09:00:24.316Z"
   },
   {
    "duration": 42,
    "start_time": "2022-07-07T09:00:24.322Z"
   },
   {
    "duration": 34,
    "start_time": "2022-07-07T09:00:24.365Z"
   },
   {
    "duration": 12,
    "start_time": "2022-07-07T09:00:24.401Z"
   },
   {
    "duration": 9,
    "start_time": "2022-07-07T09:00:24.414Z"
   },
   {
    "duration": 74,
    "start_time": "2022-07-07T09:00:24.425Z"
   },
   {
    "duration": 9,
    "start_time": "2022-07-07T09:00:24.502Z"
   },
   {
    "duration": 19,
    "start_time": "2022-07-07T09:00:24.512Z"
   },
   {
    "duration": 7,
    "start_time": "2022-07-07T09:00:42.936Z"
   },
   {
    "duration": 4,
    "start_time": "2022-07-07T09:02:21.221Z"
   },
   {
    "duration": 11,
    "start_time": "2022-07-07T09:02:22.103Z"
   },
   {
    "duration": 104,
    "start_time": "2022-07-07T09:12:27.909Z"
   },
   {
    "duration": 19,
    "start_time": "2022-07-07T09:12:38.996Z"
   },
   {
    "duration": 5,
    "start_time": "2022-07-07T09:22:18.673Z"
   },
   {
    "duration": 7,
    "start_time": "2022-07-07T09:22:46.602Z"
   },
   {
    "duration": 10,
    "start_time": "2022-07-07T09:22:47.238Z"
   },
   {
    "duration": 6,
    "start_time": "2022-07-07T09:25:08.443Z"
   },
   {
    "duration": 12,
    "start_time": "2022-07-07T09:25:09.478Z"
   },
   {
    "duration": 1200,
    "start_time": "2022-07-07T09:25:15.490Z"
   },
   {
    "duration": 123,
    "start_time": "2022-07-07T09:25:16.693Z"
   },
   {
    "duration": 18,
    "start_time": "2022-07-07T09:25:16.819Z"
   },
   {
    "duration": 35,
    "start_time": "2022-07-07T09:25:16.841Z"
   },
   {
    "duration": 96,
    "start_time": "2022-07-07T09:25:16.879Z"
   },
   {
    "duration": 16,
    "start_time": "2022-07-07T09:25:16.978Z"
   },
   {
    "duration": 45,
    "start_time": "2022-07-07T09:25:16.997Z"
   },
   {
    "duration": 17,
    "start_time": "2022-07-07T09:25:17.044Z"
   },
   {
    "duration": 67,
    "start_time": "2022-07-07T09:25:17.063Z"
   },
   {
    "duration": 16,
    "start_time": "2022-07-07T09:25:17.135Z"
   },
   {
    "duration": 9,
    "start_time": "2022-07-07T09:25:17.154Z"
   },
   {
    "duration": 9,
    "start_time": "2022-07-07T09:25:17.166Z"
   },
   {
    "duration": 29,
    "start_time": "2022-07-07T09:25:17.178Z"
   },
   {
    "duration": 12,
    "start_time": "2022-07-07T09:25:17.208Z"
   },
   {
    "duration": 26,
    "start_time": "2022-07-07T09:25:17.222Z"
   },
   {
    "duration": 9,
    "start_time": "2022-07-07T09:25:17.251Z"
   },
   {
    "duration": 274,
    "start_time": "2022-07-07T09:25:17.263Z"
   },
   {
    "duration": 146,
    "start_time": "2022-07-07T09:25:17.539Z"
   },
   {
    "duration": 11,
    "start_time": "2022-07-07T09:25:17.687Z"
   },
   {
    "duration": 7,
    "start_time": "2022-07-07T09:25:17.700Z"
   },
   {
    "duration": 14,
    "start_time": "2022-07-07T09:25:17.709Z"
   },
   {
    "duration": 299,
    "start_time": "2022-07-07T09:25:17.725Z"
   },
   {
    "duration": 225,
    "start_time": "2022-07-07T09:25:18.026Z"
   },
   {
    "duration": 299,
    "start_time": "2022-07-07T09:25:18.253Z"
   },
   {
    "duration": 247,
    "start_time": "2022-07-07T09:25:18.554Z"
   },
   {
    "duration": 324,
    "start_time": "2022-07-07T09:25:18.803Z"
   },
   {
    "duration": 15,
    "start_time": "2022-07-07T09:25:19.130Z"
   },
   {
    "duration": 195,
    "start_time": "2022-07-07T09:25:19.150Z"
   },
   {
    "duration": 4,
    "start_time": "2022-07-07T09:25:19.348Z"
   },
   {
    "duration": 192,
    "start_time": "2022-07-07T09:25:19.354Z"
   },
   {
    "duration": 5,
    "start_time": "2022-07-07T09:25:19.548Z"
   },
   {
    "duration": 73,
    "start_time": "2022-07-07T09:25:19.555Z"
   },
   {
    "duration": 9,
    "start_time": "2022-07-07T09:25:19.629Z"
   },
   {
    "duration": 35,
    "start_time": "2022-07-07T09:25:19.640Z"
   },
   {
    "duration": 9,
    "start_time": "2022-07-07T09:25:19.678Z"
   },
   {
    "duration": 52,
    "start_time": "2022-07-07T09:25:19.688Z"
   },
   {
    "duration": 8,
    "start_time": "2022-07-07T09:25:19.742Z"
   },
   {
    "duration": 23,
    "start_time": "2022-07-07T09:25:19.752Z"
   },
   {
    "duration": 14,
    "start_time": "2022-07-07T09:31:03.404Z"
   },
   {
    "duration": 15,
    "start_time": "2022-07-07T09:31:30.552Z"
   },
   {
    "duration": 17,
    "start_time": "2022-07-07T09:31:53.863Z"
   },
   {
    "duration": 211,
    "start_time": "2022-07-07T09:35:17.596Z"
   },
   {
    "duration": 217,
    "start_time": "2022-07-07T09:36:39.795Z"
   },
   {
    "duration": 4,
    "start_time": "2022-07-07T09:40:51.647Z"
   },
   {
    "duration": 115,
    "start_time": "2022-07-07T09:43:58.384Z"
   },
   {
    "duration": 12,
    "start_time": "2022-07-07T09:44:26.746Z"
   },
   {
    "duration": 4,
    "start_time": "2022-07-07T09:44:36.175Z"
   },
   {
    "duration": 17,
    "start_time": "2022-07-07T09:44:36.743Z"
   },
   {
    "duration": 3,
    "start_time": "2022-07-07T09:44:46.800Z"
   },
   {
    "duration": 217,
    "start_time": "2022-07-07T09:44:48.161Z"
   },
   {
    "duration": 132,
    "start_time": "2022-07-07T09:45:05.846Z"
   },
   {
    "duration": 3,
    "start_time": "2022-07-07T09:45:29.368Z"
   },
   {
    "duration": 193,
    "start_time": "2022-07-07T09:45:30.169Z"
   },
   {
    "duration": 4,
    "start_time": "2022-07-07T09:45:46.266Z"
   },
   {
    "duration": 162,
    "start_time": "2022-07-07T09:45:46.958Z"
   },
   {
    "duration": 4,
    "start_time": "2022-07-07T09:46:44.852Z"
   },
   {
    "duration": 135,
    "start_time": "2022-07-07T09:46:45.648Z"
   },
   {
    "duration": 4,
    "start_time": "2022-07-07T09:47:40.472Z"
   },
   {
    "duration": 135,
    "start_time": "2022-07-07T09:47:42.657Z"
   },
   {
    "duration": 3,
    "start_time": "2022-07-07T09:48:34.571Z"
   },
   {
    "duration": 132,
    "start_time": "2022-07-07T09:48:35.371Z"
   },
   {
    "duration": 3,
    "start_time": "2022-07-07T09:49:00.442Z"
   },
   {
    "duration": 132,
    "start_time": "2022-07-07T09:49:01.449Z"
   },
   {
    "duration": 4,
    "start_time": "2022-07-07T09:50:12.726Z"
   },
   {
    "duration": 4,
    "start_time": "2022-07-07T09:50:56.021Z"
   },
   {
    "duration": 125,
    "start_time": "2022-07-07T09:50:57.224Z"
   },
   {
    "duration": 4,
    "start_time": "2022-07-07T09:51:51.903Z"
   },
   {
    "duration": 204,
    "start_time": "2022-07-07T09:51:53.328Z"
   },
   {
    "duration": 4,
    "start_time": "2022-07-07T09:52:25.037Z"
   },
   {
    "duration": 258,
    "start_time": "2022-07-07T09:52:25.780Z"
   },
   {
    "duration": 5,
    "start_time": "2022-07-07T09:53:06.579Z"
   },
   {
    "duration": 216,
    "start_time": "2022-07-07T09:53:07.334Z"
   },
   {
    "duration": 5,
    "start_time": "2022-07-07T09:54:03.719Z"
   },
   {
    "duration": 229,
    "start_time": "2022-07-07T09:54:04.361Z"
   },
   {
    "duration": 5,
    "start_time": "2022-07-07T09:54:17.109Z"
   },
   {
    "duration": 263,
    "start_time": "2022-07-07T09:54:19.341Z"
   },
   {
    "duration": 6,
    "start_time": "2022-07-07T09:55:12.354Z"
   },
   {
    "duration": 414,
    "start_time": "2022-07-07T09:55:12.940Z"
   },
   {
    "duration": 4,
    "start_time": "2022-07-07T10:02:30.635Z"
   },
   {
    "duration": 226,
    "start_time": "2022-07-07T10:02:34.883Z"
   },
   {
    "duration": 13,
    "start_time": "2022-07-07T10:04:20.650Z"
   },
   {
    "duration": 215,
    "start_time": "2022-07-07T10:05:07.063Z"
   },
   {
    "duration": 317,
    "start_time": "2022-07-07T10:15:13.765Z"
   },
   {
    "duration": 339,
    "start_time": "2022-07-07T10:16:16.808Z"
   },
   {
    "duration": 233,
    "start_time": "2022-07-07T10:24:31.459Z"
   },
   {
    "duration": 222,
    "start_time": "2022-07-07T10:24:53.131Z"
   },
   {
    "duration": 212,
    "start_time": "2022-07-07T10:25:11.369Z"
   },
   {
    "duration": 221,
    "start_time": "2022-07-07T10:26:32.431Z"
   },
   {
    "duration": 206,
    "start_time": "2022-07-07T10:27:37.047Z"
   },
   {
    "duration": 241,
    "start_time": "2022-07-07T10:27:55.800Z"
   },
   {
    "duration": 223,
    "start_time": "2022-07-07T10:32:26.335Z"
   },
   {
    "duration": 336,
    "start_time": "2022-07-07T10:38:35.460Z"
   },
   {
    "duration": 293,
    "start_time": "2022-07-07T10:40:01.131Z"
   },
   {
    "duration": 351,
    "start_time": "2022-07-07T10:41:56.496Z"
   },
   {
    "duration": 350,
    "start_time": "2022-07-07T10:42:08.062Z"
   },
   {
    "duration": 423,
    "start_time": "2022-07-07T10:42:58.748Z"
   },
   {
    "duration": 318,
    "start_time": "2022-07-07T10:43:21.597Z"
   },
   {
    "duration": 330,
    "start_time": "2022-07-07T10:43:39.885Z"
   },
   {
    "duration": 354,
    "start_time": "2022-07-07T10:44:33.865Z"
   },
   {
    "duration": 300,
    "start_time": "2022-07-07T10:44:43.135Z"
   },
   {
    "duration": 4,
    "start_time": "2022-07-07T10:56:27.966Z"
   },
   {
    "duration": 5,
    "start_time": "2022-07-07T11:04:06.140Z"
   },
   {
    "duration": 5,
    "start_time": "2022-07-07T11:04:27.153Z"
   },
   {
    "duration": 5,
    "start_time": "2022-07-07T11:04:59.639Z"
   },
   {
    "duration": 5,
    "start_time": "2022-07-07T11:05:22.384Z"
   },
   {
    "duration": 14,
    "start_time": "2022-07-07T11:05:42.510Z"
   },
   {
    "duration": 9,
    "start_time": "2022-07-07T11:07:33.530Z"
   },
   {
    "duration": 8,
    "start_time": "2022-07-07T11:07:50.738Z"
   },
   {
    "duration": 9,
    "start_time": "2022-07-07T11:12:11.068Z"
   },
   {
    "duration": 9,
    "start_time": "2022-07-07T11:12:16.310Z"
   },
   {
    "duration": 10,
    "start_time": "2022-07-07T11:17:06.692Z"
   },
   {
    "duration": 10,
    "start_time": "2022-07-07T11:18:15.963Z"
   },
   {
    "duration": 10,
    "start_time": "2022-07-07T11:25:02.156Z"
   },
   {
    "duration": 7,
    "start_time": "2022-07-07T11:30:50.542Z"
   },
   {
    "duration": 52,
    "start_time": "2022-07-07T11:30:58.295Z"
   },
   {
    "duration": 9,
    "start_time": "2022-07-07T11:31:21.055Z"
   },
   {
    "duration": 21,
    "start_time": "2022-07-07T11:32:46.666Z"
   },
   {
    "duration": 8,
    "start_time": "2022-07-07T17:03:10.200Z"
   },
   {
    "duration": 10,
    "start_time": "2022-07-07T17:03:22.762Z"
   },
   {
    "duration": 1106,
    "start_time": "2022-07-07T17:03:50.068Z"
   },
   {
    "duration": 93,
    "start_time": "2022-07-07T17:03:51.176Z"
   },
   {
    "duration": 13,
    "start_time": "2022-07-07T17:03:51.270Z"
   },
   {
    "duration": 20,
    "start_time": "2022-07-07T17:03:51.285Z"
   },
   {
    "duration": 24,
    "start_time": "2022-07-07T17:03:51.307Z"
   },
   {
    "duration": 12,
    "start_time": "2022-07-07T17:03:51.333Z"
   },
   {
    "duration": 8,
    "start_time": "2022-07-07T17:03:51.347Z"
   },
   {
    "duration": 8,
    "start_time": "2022-07-07T17:03:51.357Z"
   },
   {
    "duration": 55,
    "start_time": "2022-07-07T17:03:51.367Z"
   },
   {
    "duration": 11,
    "start_time": "2022-07-07T17:03:51.426Z"
   },
   {
    "duration": 7,
    "start_time": "2022-07-07T17:03:51.439Z"
   },
   {
    "duration": 6,
    "start_time": "2022-07-07T17:03:51.448Z"
   },
   {
    "duration": 11,
    "start_time": "2022-07-07T17:03:51.456Z"
   },
   {
    "duration": 4,
    "start_time": "2022-07-07T17:03:51.469Z"
   },
   {
    "duration": 9,
    "start_time": "2022-07-07T17:03:51.499Z"
   },
   {
    "duration": 6,
    "start_time": "2022-07-07T17:03:51.510Z"
   },
   {
    "duration": 205,
    "start_time": "2022-07-07T17:03:51.517Z"
   },
   {
    "duration": 147,
    "start_time": "2022-07-07T17:03:51.724Z"
   },
   {
    "duration": 14,
    "start_time": "2022-07-07T17:03:51.872Z"
   },
   {
    "duration": 6,
    "start_time": "2022-07-07T17:03:51.899Z"
   },
   {
    "duration": 8,
    "start_time": "2022-07-07T17:03:51.906Z"
   },
   {
    "duration": 6,
    "start_time": "2022-07-07T17:03:51.916Z"
   },
   {
    "duration": 317,
    "start_time": "2022-07-07T17:03:51.923Z"
   },
   {
    "duration": 218,
    "start_time": "2022-07-07T17:03:52.242Z"
   },
   {
    "duration": 349,
    "start_time": "2022-07-07T17:03:52.462Z"
   },
   {
    "duration": 246,
    "start_time": "2022-07-07T17:03:52.813Z"
   },
   {
    "duration": 328,
    "start_time": "2022-07-07T17:03:53.061Z"
   },
   {
    "duration": 13,
    "start_time": "2022-07-07T17:03:53.397Z"
   },
   {
    "duration": 164,
    "start_time": "2022-07-07T17:03:53.412Z"
   },
   {
    "duration": 5,
    "start_time": "2022-07-07T17:03:53.577Z"
   },
   {
    "duration": 178,
    "start_time": "2022-07-07T17:03:53.584Z"
   },
   {
    "duration": 4,
    "start_time": "2022-07-07T17:03:53.764Z"
   },
   {
    "duration": 53,
    "start_time": "2022-07-07T17:03:53.770Z"
   },
   {
    "duration": 9,
    "start_time": "2022-07-07T17:03:53.824Z"
   },
   {
    "duration": 14,
    "start_time": "2022-07-07T17:03:53.834Z"
   },
   {
    "duration": 8,
    "start_time": "2022-07-07T17:03:53.850Z"
   },
   {
    "duration": 68,
    "start_time": "2022-07-07T17:03:53.860Z"
   },
   {
    "duration": 8,
    "start_time": "2022-07-07T17:03:53.930Z"
   },
   {
    "duration": 18,
    "start_time": "2022-07-07T17:03:53.939Z"
   },
   {
    "duration": 9,
    "start_time": "2022-07-07T17:05:38.372Z"
   },
   {
    "duration": 75,
    "start_time": "2022-07-07T17:12:46.833Z"
   },
   {
    "duration": 73,
    "start_time": "2022-07-07T17:13:29.047Z"
   },
   {
    "duration": 5,
    "start_time": "2022-07-07T17:13:38.159Z"
   },
   {
    "duration": 10,
    "start_time": "2022-07-07T17:13:42.228Z"
   },
   {
    "duration": 1451,
    "start_time": "2022-07-07T17:28:38.289Z"
   },
   {
    "duration": 14,
    "start_time": "2022-07-07T17:32:56.066Z"
   },
   {
    "duration": 12,
    "start_time": "2022-07-07T17:34:11.110Z"
   },
   {
    "duration": 1365,
    "start_time": "2022-07-07T17:34:49.127Z"
   },
   {
    "duration": 15494,
    "start_time": "2022-07-07T17:35:10.008Z"
   },
   {
    "duration": 2612,
    "start_time": "2022-07-07T17:36:02.688Z"
   },
   {
    "duration": 1544,
    "start_time": "2022-07-07T17:36:55.928Z"
   },
   {
    "duration": 5,
    "start_time": "2022-07-07T17:42:26.092Z"
   },
   {
    "duration": 10,
    "start_time": "2022-07-07T17:42:27.966Z"
   },
   {
    "duration": 7,
    "start_time": "2022-07-07T17:42:43.659Z"
   },
   {
    "duration": 10,
    "start_time": "2022-07-07T17:42:45.951Z"
   },
   {
    "duration": 1057,
    "start_time": "2022-07-07T17:42:53.829Z"
   },
   {
    "duration": 95,
    "start_time": "2022-07-07T17:42:54.889Z"
   },
   {
    "duration": 12,
    "start_time": "2022-07-07T17:42:54.986Z"
   },
   {
    "duration": 11,
    "start_time": "2022-07-07T17:42:55.000Z"
   },
   {
    "duration": 28,
    "start_time": "2022-07-07T17:42:55.013Z"
   },
   {
    "duration": 12,
    "start_time": "2022-07-07T17:42:55.042Z"
   },
   {
    "duration": 13,
    "start_time": "2022-07-07T17:42:55.056Z"
   },
   {
    "duration": 9,
    "start_time": "2022-07-07T17:42:55.071Z"
   },
   {
    "duration": 55,
    "start_time": "2022-07-07T17:42:55.082Z"
   },
   {
    "duration": 19,
    "start_time": "2022-07-07T17:42:55.139Z"
   },
   {
    "duration": 12,
    "start_time": "2022-07-07T17:42:55.160Z"
   },
   {
    "duration": 8,
    "start_time": "2022-07-07T17:42:55.173Z"
   },
   {
    "duration": 15,
    "start_time": "2022-07-07T17:42:55.183Z"
   },
   {
    "duration": 5,
    "start_time": "2022-07-07T17:42:55.199Z"
   },
   {
    "duration": 15,
    "start_time": "2022-07-07T17:42:55.206Z"
   },
   {
    "duration": 6,
    "start_time": "2022-07-07T17:42:55.223Z"
   },
   {
    "duration": 190,
    "start_time": "2022-07-07T17:42:55.231Z"
   },
   {
    "duration": 130,
    "start_time": "2022-07-07T17:42:55.422Z"
   },
   {
    "duration": 13,
    "start_time": "2022-07-07T17:42:55.554Z"
   },
   {
    "duration": 7,
    "start_time": "2022-07-07T17:42:55.569Z"
   },
   {
    "duration": 22,
    "start_time": "2022-07-07T17:42:55.577Z"
   },
   {
    "duration": 4,
    "start_time": "2022-07-07T17:42:55.602Z"
   },
   {
    "duration": 334,
    "start_time": "2022-07-07T17:42:55.608Z"
   },
   {
    "duration": 227,
    "start_time": "2022-07-07T17:42:55.944Z"
   },
   {
    "duration": 328,
    "start_time": "2022-07-07T17:42:56.173Z"
   },
   {
    "duration": 226,
    "start_time": "2022-07-07T17:42:56.503Z"
   },
   {
    "duration": 375,
    "start_time": "2022-07-07T17:42:56.733Z"
   },
   {
    "duration": 13,
    "start_time": "2022-07-07T17:42:57.111Z"
   },
   {
    "duration": 166,
    "start_time": "2022-07-07T17:42:57.126Z"
   },
   {
    "duration": 6,
    "start_time": "2022-07-07T17:42:57.294Z"
   },
   {
    "duration": 166,
    "start_time": "2022-07-07T17:42:57.302Z"
   },
   {
    "duration": 5,
    "start_time": "2022-07-07T17:42:57.470Z"
   },
   {
    "duration": 50,
    "start_time": "2022-07-07T17:42:57.477Z"
   },
   {
    "duration": 8,
    "start_time": "2022-07-07T17:42:57.529Z"
   },
   {
    "duration": 13,
    "start_time": "2022-07-07T17:42:57.538Z"
   },
   {
    "duration": 6,
    "start_time": "2022-07-07T17:42:57.553Z"
   },
   {
    "duration": 73,
    "start_time": "2022-07-07T17:42:57.561Z"
   },
   {
    "duration": 9,
    "start_time": "2022-07-07T17:42:57.636Z"
   },
   {
    "duration": 14,
    "start_time": "2022-07-07T17:42:57.647Z"
   },
   {
    "duration": 7,
    "start_time": "2022-07-07T18:23:42.782Z"
   },
   {
    "duration": 110,
    "start_time": "2022-07-07T18:24:17.958Z"
   },
   {
    "duration": 1166,
    "start_time": "2022-07-07T18:34:06.085Z"
   },
   {
    "duration": 96,
    "start_time": "2022-07-07T18:34:07.253Z"
   },
   {
    "duration": 16,
    "start_time": "2022-07-07T18:34:07.351Z"
   },
   {
    "duration": 12,
    "start_time": "2022-07-07T18:34:07.370Z"
   },
   {
    "duration": 24,
    "start_time": "2022-07-07T18:34:07.399Z"
   },
   {
    "duration": 13,
    "start_time": "2022-07-07T18:34:07.426Z"
   },
   {
    "duration": 7,
    "start_time": "2022-07-07T18:34:07.441Z"
   },
   {
    "duration": 9,
    "start_time": "2022-07-07T18:34:07.450Z"
   },
   {
    "duration": 55,
    "start_time": "2022-07-07T18:34:07.461Z"
   },
   {
    "duration": 12,
    "start_time": "2022-07-07T18:34:07.518Z"
   },
   {
    "duration": 11,
    "start_time": "2022-07-07T18:34:07.532Z"
   },
   {
    "duration": 6,
    "start_time": "2022-07-07T18:34:07.545Z"
   },
   {
    "duration": 13,
    "start_time": "2022-07-07T18:34:07.552Z"
   },
   {
    "duration": 33,
    "start_time": "2022-07-07T18:34:07.568Z"
   },
   {
    "duration": 3,
    "start_time": "2022-07-07T18:34:07.604Z"
   },
   {
    "duration": 15,
    "start_time": "2022-07-07T18:34:07.609Z"
   },
   {
    "duration": 14,
    "start_time": "2022-07-07T18:34:07.627Z"
   },
   {
    "duration": 208,
    "start_time": "2022-07-07T18:34:07.644Z"
   },
   {
    "duration": 176,
    "start_time": "2022-07-07T18:34:07.853Z"
   },
   {
    "duration": 21,
    "start_time": "2022-07-07T18:34:08.031Z"
   },
   {
    "duration": 10,
    "start_time": "2022-07-07T18:34:08.054Z"
   },
   {
    "duration": 11,
    "start_time": "2022-07-07T18:34:08.066Z"
   },
   {
    "duration": 19,
    "start_time": "2022-07-07T18:34:08.080Z"
   },
   {
    "duration": 330,
    "start_time": "2022-07-07T18:34:08.102Z"
   },
   {
    "duration": 216,
    "start_time": "2022-07-07T18:34:08.434Z"
   },
   {
    "duration": 353,
    "start_time": "2022-07-07T18:34:08.652Z"
   },
   {
    "duration": 243,
    "start_time": "2022-07-07T18:34:09.007Z"
   },
   {
    "duration": 357,
    "start_time": "2022-07-07T18:34:09.252Z"
   },
   {
    "duration": 14,
    "start_time": "2022-07-07T18:34:09.612Z"
   },
   {
    "duration": 173,
    "start_time": "2022-07-07T18:34:09.628Z"
   },
   {
    "duration": 5,
    "start_time": "2022-07-07T18:34:09.803Z"
   },
   {
    "duration": 167,
    "start_time": "2022-07-07T18:34:09.810Z"
   },
   {
    "duration": 5,
    "start_time": "2022-07-07T18:34:09.979Z"
   },
   {
    "duration": 43,
    "start_time": "2022-07-07T18:34:09.998Z"
   },
   {
    "duration": 8,
    "start_time": "2022-07-07T18:34:10.044Z"
   },
   {
    "duration": 44,
    "start_time": "2022-07-07T18:34:10.055Z"
   },
   {
    "duration": 7,
    "start_time": "2022-07-07T18:34:10.101Z"
   },
   {
    "duration": 44,
    "start_time": "2022-07-07T18:34:10.110Z"
   },
   {
    "duration": 9,
    "start_time": "2022-07-07T18:34:10.156Z"
   },
   {
    "duration": 43,
    "start_time": "2022-07-07T18:34:10.167Z"
   },
   {
    "duration": 16,
    "start_time": "2022-07-07T18:35:18.055Z"
   },
   {
    "duration": 105,
    "start_time": "2022-07-07T18:48:03.936Z"
   },
   {
    "duration": 11,
    "start_time": "2022-07-07T18:48:50.368Z"
   },
   {
    "duration": 1094,
    "start_time": "2022-07-07T18:49:43.748Z"
   },
   {
    "duration": 96,
    "start_time": "2022-07-07T18:49:44.844Z"
   },
   {
    "duration": 13,
    "start_time": "2022-07-07T18:49:44.942Z"
   },
   {
    "duration": 12,
    "start_time": "2022-07-07T18:49:44.957Z"
   },
   {
    "duration": 28,
    "start_time": "2022-07-07T18:49:44.971Z"
   },
   {
    "duration": 14,
    "start_time": "2022-07-07T18:49:45.000Z"
   },
   {
    "duration": 13,
    "start_time": "2022-07-07T18:49:45.015Z"
   },
   {
    "duration": 9,
    "start_time": "2022-07-07T18:49:45.030Z"
   },
   {
    "duration": 65,
    "start_time": "2022-07-07T18:49:45.041Z"
   },
   {
    "duration": 11,
    "start_time": "2022-07-07T18:49:45.107Z"
   },
   {
    "duration": 7,
    "start_time": "2022-07-07T18:49:45.120Z"
   },
   {
    "duration": 11,
    "start_time": "2022-07-07T18:49:45.129Z"
   },
   {
    "duration": 12,
    "start_time": "2022-07-07T18:49:45.142Z"
   },
   {
    "duration": 117,
    "start_time": "2022-07-07T18:49:45.157Z"
   },
   {
    "duration": 0,
    "start_time": "2022-07-07T18:49:45.275Z"
   },
   {
    "duration": 0,
    "start_time": "2022-07-07T18:49:45.276Z"
   },
   {
    "duration": 0,
    "start_time": "2022-07-07T18:49:45.278Z"
   },
   {
    "duration": 0,
    "start_time": "2022-07-07T18:49:45.279Z"
   },
   {
    "duration": 0,
    "start_time": "2022-07-07T18:49:45.280Z"
   },
   {
    "duration": 0,
    "start_time": "2022-07-07T18:49:45.281Z"
   },
   {
    "duration": 0,
    "start_time": "2022-07-07T18:49:45.298Z"
   },
   {
    "duration": 0,
    "start_time": "2022-07-07T18:49:45.299Z"
   },
   {
    "duration": 0,
    "start_time": "2022-07-07T18:49:45.300Z"
   },
   {
    "duration": 0,
    "start_time": "2022-07-07T18:49:45.301Z"
   },
   {
    "duration": 0,
    "start_time": "2022-07-07T18:49:45.302Z"
   },
   {
    "duration": 0,
    "start_time": "2022-07-07T18:49:45.303Z"
   },
   {
    "duration": 0,
    "start_time": "2022-07-07T18:49:45.303Z"
   },
   {
    "duration": 0,
    "start_time": "2022-07-07T18:49:45.305Z"
   },
   {
    "duration": 0,
    "start_time": "2022-07-07T18:49:45.306Z"
   },
   {
    "duration": 0,
    "start_time": "2022-07-07T18:49:45.306Z"
   },
   {
    "duration": 0,
    "start_time": "2022-07-07T18:49:45.308Z"
   },
   {
    "duration": 0,
    "start_time": "2022-07-07T18:49:45.309Z"
   },
   {
    "duration": 0,
    "start_time": "2022-07-07T18:49:45.309Z"
   },
   {
    "duration": 0,
    "start_time": "2022-07-07T18:49:45.310Z"
   },
   {
    "duration": 0,
    "start_time": "2022-07-07T18:49:45.311Z"
   },
   {
    "duration": 0,
    "start_time": "2022-07-07T18:49:45.312Z"
   },
   {
    "duration": 0,
    "start_time": "2022-07-07T18:49:45.313Z"
   },
   {
    "duration": 0,
    "start_time": "2022-07-07T18:49:45.314Z"
   },
   {
    "duration": 0,
    "start_time": "2022-07-07T18:49:45.315Z"
   },
   {
    "duration": 0,
    "start_time": "2022-07-07T18:49:45.316Z"
   },
   {
    "duration": 10,
    "start_time": "2022-07-07T18:50:46.993Z"
   },
   {
    "duration": 12,
    "start_time": "2022-07-07T19:31:45.442Z"
   },
   {
    "duration": 77,
    "start_time": "2022-07-07T19:35:00.685Z"
   },
   {
    "duration": 102,
    "start_time": "2022-07-07T19:37:01.979Z"
   },
   {
    "duration": 7,
    "start_time": "2022-07-07T20:00:46.057Z"
   },
   {
    "duration": 9,
    "start_time": "2022-07-07T20:00:51.384Z"
   },
   {
    "duration": 20,
    "start_time": "2022-07-07T20:02:30.824Z"
   },
   {
    "duration": 19,
    "start_time": "2022-07-07T20:02:46.408Z"
   },
   {
    "duration": 16,
    "start_time": "2022-07-07T20:04:41.908Z"
   },
   {
    "duration": 12,
    "start_time": "2022-07-07T20:06:00.249Z"
   },
   {
    "duration": 1143,
    "start_time": "2022-07-07T20:06:11.560Z"
   },
   {
    "duration": 97,
    "start_time": "2022-07-07T20:06:12.705Z"
   },
   {
    "duration": 12,
    "start_time": "2022-07-07T20:06:12.803Z"
   },
   {
    "duration": 11,
    "start_time": "2022-07-07T20:06:12.817Z"
   },
   {
    "duration": 24,
    "start_time": "2022-07-07T20:06:12.831Z"
   },
   {
    "duration": 13,
    "start_time": "2022-07-07T20:06:12.857Z"
   },
   {
    "duration": 10,
    "start_time": "2022-07-07T20:06:12.872Z"
   },
   {
    "duration": 6,
    "start_time": "2022-07-07T20:06:12.899Z"
   },
   {
    "duration": 58,
    "start_time": "2022-07-07T20:06:12.907Z"
   },
   {
    "duration": 12,
    "start_time": "2022-07-07T20:06:12.968Z"
   },
   {
    "duration": 9,
    "start_time": "2022-07-07T20:06:12.982Z"
   },
   {
    "duration": 7,
    "start_time": "2022-07-07T20:06:12.993Z"
   },
   {
    "duration": 12,
    "start_time": "2022-07-07T20:06:13.001Z"
   },
   {
    "duration": 8,
    "start_time": "2022-07-07T20:06:13.015Z"
   },
   {
    "duration": 9,
    "start_time": "2022-07-07T20:06:13.024Z"
   },
   {
    "duration": 6,
    "start_time": "2022-07-07T20:06:13.035Z"
   },
   {
    "duration": 110,
    "start_time": "2022-07-07T20:06:13.043Z"
   },
   {
    "duration": 0,
    "start_time": "2022-07-07T20:06:13.155Z"
   },
   {
    "duration": 0,
    "start_time": "2022-07-07T20:06:13.156Z"
   },
   {
    "duration": 0,
    "start_time": "2022-07-07T20:06:13.157Z"
   },
   {
    "duration": 0,
    "start_time": "2022-07-07T20:06:13.158Z"
   },
   {
    "duration": 0,
    "start_time": "2022-07-07T20:06:13.159Z"
   },
   {
    "duration": 0,
    "start_time": "2022-07-07T20:06:13.160Z"
   },
   {
    "duration": 0,
    "start_time": "2022-07-07T20:06:13.161Z"
   },
   {
    "duration": 0,
    "start_time": "2022-07-07T20:06:13.162Z"
   },
   {
    "duration": 0,
    "start_time": "2022-07-07T20:06:13.163Z"
   },
   {
    "duration": 0,
    "start_time": "2022-07-07T20:06:13.165Z"
   },
   {
    "duration": 0,
    "start_time": "2022-07-07T20:06:13.166Z"
   },
   {
    "duration": 0,
    "start_time": "2022-07-07T20:06:13.168Z"
   },
   {
    "duration": 0,
    "start_time": "2022-07-07T20:06:13.198Z"
   },
   {
    "duration": 0,
    "start_time": "2022-07-07T20:06:13.201Z"
   },
   {
    "duration": 0,
    "start_time": "2022-07-07T20:06:13.202Z"
   },
   {
    "duration": 0,
    "start_time": "2022-07-07T20:06:13.203Z"
   },
   {
    "duration": 0,
    "start_time": "2022-07-07T20:06:13.205Z"
   },
   {
    "duration": 0,
    "start_time": "2022-07-07T20:06:13.207Z"
   },
   {
    "duration": 0,
    "start_time": "2022-07-07T20:06:13.208Z"
   },
   {
    "duration": 0,
    "start_time": "2022-07-07T20:06:13.210Z"
   },
   {
    "duration": 0,
    "start_time": "2022-07-07T20:06:13.211Z"
   },
   {
    "duration": 0,
    "start_time": "2022-07-07T20:06:13.212Z"
   },
   {
    "duration": 0,
    "start_time": "2022-07-07T20:06:13.213Z"
   },
   {
    "duration": 0,
    "start_time": "2022-07-07T20:06:13.215Z"
   },
   {
    "duration": 20,
    "start_time": "2022-07-07T20:06:44.601Z"
   },
   {
    "duration": 8,
    "start_time": "2022-07-07T20:09:39.338Z"
   },
   {
    "duration": 15,
    "start_time": "2022-07-07T20:09:40.518Z"
   },
   {
    "duration": 10,
    "start_time": "2022-07-07T20:09:54.236Z"
   },
   {
    "duration": 1121,
    "start_time": "2022-07-07T20:10:16.839Z"
   },
   {
    "duration": 100,
    "start_time": "2022-07-07T20:10:17.962Z"
   },
   {
    "duration": 18,
    "start_time": "2022-07-07T20:10:18.064Z"
   },
   {
    "duration": 31,
    "start_time": "2022-07-07T20:10:18.085Z"
   },
   {
    "duration": 24,
    "start_time": "2022-07-07T20:10:18.118Z"
   },
   {
    "duration": 12,
    "start_time": "2022-07-07T20:10:18.144Z"
   },
   {
    "duration": 8,
    "start_time": "2022-07-07T20:10:18.157Z"
   },
   {
    "duration": 9,
    "start_time": "2022-07-07T20:10:18.167Z"
   },
   {
    "duration": 65,
    "start_time": "2022-07-07T20:10:18.178Z"
   },
   {
    "duration": 11,
    "start_time": "2022-07-07T20:10:18.246Z"
   },
   {
    "duration": 9,
    "start_time": "2022-07-07T20:10:18.259Z"
   },
   {
    "duration": 10,
    "start_time": "2022-07-07T20:10:18.270Z"
   },
   {
    "duration": 11,
    "start_time": "2022-07-07T20:10:18.282Z"
   },
   {
    "duration": 10,
    "start_time": "2022-07-07T20:10:18.295Z"
   },
   {
    "duration": 21,
    "start_time": "2022-07-07T20:10:18.307Z"
   },
   {
    "duration": 15,
    "start_time": "2022-07-07T20:10:18.330Z"
   },
   {
    "duration": 11,
    "start_time": "2022-07-07T20:10:18.347Z"
   },
   {
    "duration": 5,
    "start_time": "2022-07-07T20:10:18.360Z"
   },
   {
    "duration": 195,
    "start_time": "2022-07-07T20:10:18.367Z"
   },
   {
    "duration": 150,
    "start_time": "2022-07-07T20:10:18.563Z"
   },
   {
    "duration": 14,
    "start_time": "2022-07-07T20:10:18.715Z"
   },
   {
    "duration": 5,
    "start_time": "2022-07-07T20:10:18.731Z"
   },
   {
    "duration": 9,
    "start_time": "2022-07-07T20:10:18.738Z"
   },
   {
    "duration": 5,
    "start_time": "2022-07-07T20:10:18.748Z"
   },
   {
    "duration": 361,
    "start_time": "2022-07-07T20:10:18.755Z"
   },
   {
    "duration": 231,
    "start_time": "2022-07-07T20:10:19.118Z"
   },
   {
    "duration": 324,
    "start_time": "2022-07-07T20:10:19.351Z"
   },
   {
    "duration": 241,
    "start_time": "2022-07-07T20:10:19.679Z"
   },
   {
    "duration": 325,
    "start_time": "2022-07-07T20:10:19.922Z"
   },
   {
    "duration": 13,
    "start_time": "2022-07-07T20:10:20.249Z"
   },
   {
    "duration": 182,
    "start_time": "2022-07-07T20:10:20.264Z"
   },
   {
    "duration": 5,
    "start_time": "2022-07-07T20:10:20.448Z"
   },
   {
    "duration": 182,
    "start_time": "2022-07-07T20:10:20.454Z"
   },
   {
    "duration": 5,
    "start_time": "2022-07-07T20:10:20.638Z"
   },
   {
    "duration": 60,
    "start_time": "2022-07-07T20:10:20.644Z"
   },
   {
    "duration": 13,
    "start_time": "2022-07-07T20:10:20.707Z"
   },
   {
    "duration": 10,
    "start_time": "2022-07-07T20:10:20.722Z"
   },
   {
    "duration": 8,
    "start_time": "2022-07-07T20:10:20.734Z"
   },
   {
    "duration": 71,
    "start_time": "2022-07-07T20:10:20.744Z"
   },
   {
    "duration": 8,
    "start_time": "2022-07-07T20:10:20.817Z"
   },
   {
    "duration": 21,
    "start_time": "2022-07-07T20:10:20.827Z"
   },
   {
    "duration": 15,
    "start_time": "2022-07-07T20:11:31.536Z"
   },
   {
    "duration": 1116,
    "start_time": "2022-07-07T20:11:52.714Z"
   },
   {
    "duration": 96,
    "start_time": "2022-07-07T20:11:53.832Z"
   },
   {
    "duration": 13,
    "start_time": "2022-07-07T20:11:53.931Z"
   },
   {
    "duration": 12,
    "start_time": "2022-07-07T20:11:53.946Z"
   },
   {
    "duration": 29,
    "start_time": "2022-07-07T20:11:53.960Z"
   },
   {
    "duration": 20,
    "start_time": "2022-07-07T20:11:54.001Z"
   },
   {
    "duration": 8,
    "start_time": "2022-07-07T20:11:54.023Z"
   },
   {
    "duration": 9,
    "start_time": "2022-07-07T20:11:54.033Z"
   },
   {
    "duration": 68,
    "start_time": "2022-07-07T20:11:54.043Z"
   },
   {
    "duration": 16,
    "start_time": "2022-07-07T20:11:54.119Z"
   },
   {
    "duration": 7,
    "start_time": "2022-07-07T20:11:54.137Z"
   },
   {
    "duration": 7,
    "start_time": "2022-07-07T20:11:54.146Z"
   },
   {
    "duration": 15,
    "start_time": "2022-07-07T20:11:54.156Z"
   },
   {
    "duration": 35,
    "start_time": "2022-07-07T20:11:54.173Z"
   },
   {
    "duration": 12,
    "start_time": "2022-07-07T20:11:54.210Z"
   },
   {
    "duration": 13,
    "start_time": "2022-07-07T20:11:54.224Z"
   },
   {
    "duration": 11,
    "start_time": "2022-07-07T20:11:54.239Z"
   },
   {
    "duration": 8,
    "start_time": "2022-07-07T20:11:54.252Z"
   },
   {
    "duration": 206,
    "start_time": "2022-07-07T20:11:54.262Z"
   },
   {
    "duration": 165,
    "start_time": "2022-07-07T20:11:54.470Z"
   },
   {
    "duration": 15,
    "start_time": "2022-07-07T20:11:54.637Z"
   },
   {
    "duration": 10,
    "start_time": "2022-07-07T20:11:54.654Z"
   },
   {
    "duration": 7,
    "start_time": "2022-07-07T20:11:54.666Z"
   },
   {
    "duration": 6,
    "start_time": "2022-07-07T20:11:54.674Z"
   },
   {
    "duration": 334,
    "start_time": "2022-07-07T20:11:54.682Z"
   },
   {
    "duration": 246,
    "start_time": "2022-07-07T20:11:55.018Z"
   },
   {
    "duration": 427,
    "start_time": "2022-07-07T20:11:55.267Z"
   },
   {
    "duration": 268,
    "start_time": "2022-07-07T20:11:55.698Z"
   },
   {
    "duration": 348,
    "start_time": "2022-07-07T20:11:55.968Z"
   },
   {
    "duration": 13,
    "start_time": "2022-07-07T20:11:56.318Z"
   },
   {
    "duration": 180,
    "start_time": "2022-07-07T20:11:56.332Z"
   },
   {
    "duration": 4,
    "start_time": "2022-07-07T20:11:56.514Z"
   },
   {
    "duration": 220,
    "start_time": "2022-07-07T20:11:56.520Z"
   },
   {
    "duration": 7,
    "start_time": "2022-07-07T20:11:56.747Z"
   },
   {
    "duration": 63,
    "start_time": "2022-07-07T20:11:56.757Z"
   },
   {
    "duration": 34,
    "start_time": "2022-07-07T20:11:56.825Z"
   },
   {
    "duration": 18,
    "start_time": "2022-07-07T20:11:56.861Z"
   },
   {
    "duration": 19,
    "start_time": "2022-07-07T20:11:56.881Z"
   },
   {
    "duration": 84,
    "start_time": "2022-07-07T20:11:56.902Z"
   },
   {
    "duration": 12,
    "start_time": "2022-07-07T20:11:56.989Z"
   },
   {
    "duration": 46,
    "start_time": "2022-07-07T20:11:57.005Z"
   },
   {
    "duration": 116,
    "start_time": "2022-07-07T20:22:19.646Z"
   },
   {
    "duration": 199,
    "start_time": "2022-07-07T20:22:54.102Z"
   },
   {
    "duration": 316,
    "start_time": "2022-07-07T20:23:45.120Z"
   },
   {
    "duration": 245,
    "start_time": "2022-07-07T20:26:24.855Z"
   },
   {
    "duration": 12,
    "start_time": "2022-07-07T20:27:12.272Z"
   },
   {
    "duration": 1086,
    "start_time": "2022-07-07T20:27:50.302Z"
   },
   {
    "duration": 97,
    "start_time": "2022-07-07T20:27:51.389Z"
   },
   {
    "duration": 14,
    "start_time": "2022-07-07T20:27:51.488Z"
   },
   {
    "duration": 13,
    "start_time": "2022-07-07T20:27:51.506Z"
   },
   {
    "duration": 29,
    "start_time": "2022-07-07T20:27:51.521Z"
   },
   {
    "duration": 12,
    "start_time": "2022-07-07T20:27:51.553Z"
   },
   {
    "duration": 11,
    "start_time": "2022-07-07T20:27:51.568Z"
   },
   {
    "duration": 17,
    "start_time": "2022-07-07T20:27:51.581Z"
   },
   {
    "duration": 56,
    "start_time": "2022-07-07T20:27:51.600Z"
   },
   {
    "duration": 11,
    "start_time": "2022-07-07T20:27:51.658Z"
   },
   {
    "duration": 7,
    "start_time": "2022-07-07T20:27:51.671Z"
   },
   {
    "duration": 7,
    "start_time": "2022-07-07T20:27:51.679Z"
   },
   {
    "duration": 11,
    "start_time": "2022-07-07T20:27:51.689Z"
   },
   {
    "duration": 7,
    "start_time": "2022-07-07T20:27:51.702Z"
   },
   {
    "duration": 4,
    "start_time": "2022-07-07T20:27:51.711Z"
   },
   {
    "duration": 10,
    "start_time": "2022-07-07T20:27:51.717Z"
   },
   {
    "duration": 13,
    "start_time": "2022-07-07T20:27:51.729Z"
   },
   {
    "duration": 8,
    "start_time": "2022-07-07T20:27:51.744Z"
   },
   {
    "duration": 190,
    "start_time": "2022-07-07T20:27:51.753Z"
   },
   {
    "duration": 142,
    "start_time": "2022-07-07T20:27:51.945Z"
   },
   {
    "duration": 20,
    "start_time": "2022-07-07T20:27:52.089Z"
   },
   {
    "duration": 5,
    "start_time": "2022-07-07T20:27:52.110Z"
   },
   {
    "duration": 12,
    "start_time": "2022-07-07T20:27:52.117Z"
   },
   {
    "duration": 10,
    "start_time": "2022-07-07T20:27:52.130Z"
   },
   {
    "duration": 313,
    "start_time": "2022-07-07T20:27:52.142Z"
   },
   {
    "duration": 216,
    "start_time": "2022-07-07T20:27:52.457Z"
   },
   {
    "duration": 336,
    "start_time": "2022-07-07T20:27:52.675Z"
   },
   {
    "duration": 232,
    "start_time": "2022-07-07T20:27:53.013Z"
   },
   {
    "duration": 365,
    "start_time": "2022-07-07T20:27:53.247Z"
   },
   {
    "duration": 16,
    "start_time": "2022-07-07T20:27:53.614Z"
   },
   {
    "duration": 186,
    "start_time": "2022-07-07T20:27:53.633Z"
   },
   {
    "duration": 4,
    "start_time": "2022-07-07T20:27:53.821Z"
   },
   {
    "duration": 173,
    "start_time": "2022-07-07T20:27:53.827Z"
   },
   {
    "duration": 4,
    "start_time": "2022-07-07T20:27:54.002Z"
   },
   {
    "duration": 51,
    "start_time": "2022-07-07T20:27:54.008Z"
   },
   {
    "duration": 8,
    "start_time": "2022-07-07T20:27:54.060Z"
   },
   {
    "duration": 31,
    "start_time": "2022-07-07T20:27:54.070Z"
   },
   {
    "duration": 9,
    "start_time": "2022-07-07T20:27:54.103Z"
   },
   {
    "duration": 51,
    "start_time": "2022-07-07T20:27:54.114Z"
   },
   {
    "duration": 8,
    "start_time": "2022-07-07T20:27:54.169Z"
   },
   {
    "duration": 32,
    "start_time": "2022-07-07T20:27:54.179Z"
   },
   {
    "duration": 148,
    "start_time": "2022-07-07T20:31:59.019Z"
   },
   {
    "duration": 169,
    "start_time": "2022-07-07T20:32:11.203Z"
   },
   {
    "duration": 227,
    "start_time": "2022-07-07T20:32:28.082Z"
   },
   {
    "duration": 170,
    "start_time": "2022-07-07T20:32:49.683Z"
   },
   {
    "duration": 5,
    "start_time": "2022-07-07T20:34:52.492Z"
   },
   {
    "duration": 4,
    "start_time": "2022-07-07T20:36:00.021Z"
   },
   {
    "duration": 8,
    "start_time": "2022-07-07T20:37:12.733Z"
   },
   {
    "duration": 12,
    "start_time": "2022-07-07T20:43:55.101Z"
   },
   {
    "duration": 15,
    "start_time": "2022-07-07T20:44:52.812Z"
   },
   {
    "duration": 7,
    "start_time": "2022-07-07T20:49:34.422Z"
   },
   {
    "duration": 42,
    "start_time": "2022-07-07T20:49:44.615Z"
   },
   {
    "duration": 10,
    "start_time": "2022-07-07T20:50:05.892Z"
   },
   {
    "duration": 9,
    "start_time": "2022-07-07T20:50:30.317Z"
   },
   {
    "duration": 9,
    "start_time": "2022-07-07T20:54:48.285Z"
   },
   {
    "duration": 1143,
    "start_time": "2022-07-07T20:54:55.812Z"
   },
   {
    "duration": 95,
    "start_time": "2022-07-07T20:54:56.957Z"
   },
   {
    "duration": 17,
    "start_time": "2022-07-07T20:54:57.054Z"
   },
   {
    "duration": 30,
    "start_time": "2022-07-07T20:54:57.073Z"
   },
   {
    "duration": 24,
    "start_time": "2022-07-07T20:54:57.104Z"
   },
   {
    "duration": 11,
    "start_time": "2022-07-07T20:54:57.130Z"
   },
   {
    "duration": 8,
    "start_time": "2022-07-07T20:54:57.143Z"
   },
   {
    "duration": 10,
    "start_time": "2022-07-07T20:54:57.153Z"
   },
   {
    "duration": 58,
    "start_time": "2022-07-07T20:54:57.164Z"
   },
   {
    "duration": 11,
    "start_time": "2022-07-07T20:54:57.226Z"
   },
   {
    "duration": 7,
    "start_time": "2022-07-07T20:54:57.239Z"
   },
   {
    "duration": 8,
    "start_time": "2022-07-07T20:54:57.248Z"
   },
   {
    "duration": 17,
    "start_time": "2022-07-07T20:54:57.258Z"
   },
   {
    "duration": 25,
    "start_time": "2022-07-07T20:54:57.277Z"
   },
   {
    "duration": 5,
    "start_time": "2022-07-07T20:54:57.304Z"
   },
   {
    "duration": 14,
    "start_time": "2022-07-07T20:54:57.311Z"
   },
   {
    "duration": 13,
    "start_time": "2022-07-07T20:54:57.327Z"
   },
   {
    "duration": 6,
    "start_time": "2022-07-07T20:54:57.342Z"
   },
   {
    "duration": 205,
    "start_time": "2022-07-07T20:54:57.350Z"
   },
   {
    "duration": 148,
    "start_time": "2022-07-07T20:54:57.557Z"
   },
   {
    "duration": 26,
    "start_time": "2022-07-07T20:54:57.707Z"
   },
   {
    "duration": 6,
    "start_time": "2022-07-07T20:54:57.735Z"
   },
   {
    "duration": 12,
    "start_time": "2022-07-07T20:54:57.742Z"
   },
   {
    "duration": 10,
    "start_time": "2022-07-07T20:54:57.755Z"
   },
   {
    "duration": 290,
    "start_time": "2022-07-07T20:54:57.767Z"
   },
   {
    "duration": 229,
    "start_time": "2022-07-07T20:54:58.059Z"
   },
   {
    "duration": 336,
    "start_time": "2022-07-07T20:54:58.290Z"
   },
   {
    "duration": 222,
    "start_time": "2022-07-07T20:54:58.629Z"
   },
   {
    "duration": 365,
    "start_time": "2022-07-07T20:54:58.853Z"
   },
   {
    "duration": 14,
    "start_time": "2022-07-07T20:54:59.219Z"
   },
   {
    "duration": 171,
    "start_time": "2022-07-07T20:54:59.236Z"
   },
   {
    "duration": 5,
    "start_time": "2022-07-07T20:54:59.409Z"
   },
   {
    "duration": 160,
    "start_time": "2022-07-07T20:54:59.416Z"
   },
   {
    "duration": 5,
    "start_time": "2022-07-07T20:54:59.578Z"
   },
   {
    "duration": 42,
    "start_time": "2022-07-07T20:54:59.598Z"
   },
   {
    "duration": 8,
    "start_time": "2022-07-07T20:54:59.642Z"
   },
   {
    "duration": 16,
    "start_time": "2022-07-07T20:54:59.652Z"
   },
   {
    "duration": 30,
    "start_time": "2022-07-07T20:54:59.670Z"
   },
   {
    "duration": 48,
    "start_time": "2022-07-07T20:54:59.702Z"
   },
   {
    "duration": 8,
    "start_time": "2022-07-07T20:54:59.752Z"
   },
   {
    "duration": 40,
    "start_time": "2022-07-07T20:54:59.762Z"
   },
   {
    "duration": 7,
    "start_time": "2022-07-07T20:57:04.711Z"
   },
   {
    "duration": 53,
    "start_time": "2022-07-07T20:57:06.796Z"
   },
   {
    "duration": 8,
    "start_time": "2022-07-07T20:57:12.006Z"
   },
   {
    "duration": 8,
    "start_time": "2022-07-07T20:57:43.504Z"
   },
   {
    "duration": 50,
    "start_time": "2022-07-07T20:57:44.079Z"
   },
   {
    "duration": 12,
    "start_time": "2022-07-07T20:57:48.328Z"
   },
   {
    "duration": 17,
    "start_time": "2022-07-07T21:00:58.943Z"
   },
   {
    "duration": 15,
    "start_time": "2022-07-07T21:02:06.911Z"
   },
   {
    "duration": 20,
    "start_time": "2022-07-07T21:03:24.294Z"
   },
   {
    "duration": 1119,
    "start_time": "2022-07-07T21:30:07.816Z"
   },
   {
    "duration": 110,
    "start_time": "2022-07-07T21:30:08.937Z"
   },
   {
    "duration": 18,
    "start_time": "2022-07-07T21:30:09.050Z"
   },
   {
    "duration": 13,
    "start_time": "2022-07-07T21:30:09.070Z"
   },
   {
    "duration": 35,
    "start_time": "2022-07-07T21:30:09.084Z"
   },
   {
    "duration": 15,
    "start_time": "2022-07-07T21:30:09.121Z"
   },
   {
    "duration": 19,
    "start_time": "2022-07-07T21:30:09.138Z"
   },
   {
    "duration": 18,
    "start_time": "2022-07-07T21:30:09.159Z"
   },
   {
    "duration": 61,
    "start_time": "2022-07-07T21:30:09.179Z"
   },
   {
    "duration": 12,
    "start_time": "2022-07-07T21:30:09.244Z"
   },
   {
    "duration": 30,
    "start_time": "2022-07-07T21:30:09.259Z"
   },
   {
    "duration": 16,
    "start_time": "2022-07-07T21:30:09.292Z"
   },
   {
    "duration": 16,
    "start_time": "2022-07-07T21:30:09.309Z"
   },
   {
    "duration": 16,
    "start_time": "2022-07-07T21:30:09.327Z"
   },
   {
    "duration": 7,
    "start_time": "2022-07-07T21:30:09.346Z"
   },
   {
    "duration": 14,
    "start_time": "2022-07-07T21:30:09.356Z"
   },
   {
    "duration": 18,
    "start_time": "2022-07-07T21:30:09.373Z"
   },
   {
    "duration": 14,
    "start_time": "2022-07-07T21:30:09.393Z"
   },
   {
    "duration": 233,
    "start_time": "2022-07-07T21:30:09.409Z"
   },
   {
    "duration": 167,
    "start_time": "2022-07-07T21:30:09.645Z"
   },
   {
    "duration": 17,
    "start_time": "2022-07-07T21:30:09.814Z"
   },
   {
    "duration": 18,
    "start_time": "2022-07-07T21:30:09.833Z"
   },
   {
    "duration": 9,
    "start_time": "2022-07-07T21:30:09.853Z"
   },
   {
    "duration": 6,
    "start_time": "2022-07-07T21:30:09.864Z"
   },
   {
    "duration": 327,
    "start_time": "2022-07-07T21:30:09.872Z"
   },
   {
    "duration": 233,
    "start_time": "2022-07-07T21:30:10.201Z"
   },
   {
    "duration": 336,
    "start_time": "2022-07-07T21:30:10.436Z"
   },
   {
    "duration": 297,
    "start_time": "2022-07-07T21:30:10.776Z"
   },
   {
    "duration": 347,
    "start_time": "2022-07-07T21:30:11.075Z"
   },
   {
    "duration": 17,
    "start_time": "2022-07-07T21:30:11.425Z"
   },
   {
    "duration": 291,
    "start_time": "2022-07-07T21:30:11.444Z"
   },
   {
    "duration": 5,
    "start_time": "2022-07-07T21:30:11.738Z"
   },
   {
    "duration": 176,
    "start_time": "2022-07-07T21:30:11.746Z"
   },
   {
    "duration": 5,
    "start_time": "2022-07-07T21:30:11.925Z"
   },
   {
    "duration": 83,
    "start_time": "2022-07-07T21:30:11.931Z"
   },
   {
    "duration": 10,
    "start_time": "2022-07-07T21:30:12.017Z"
   },
   {
    "duration": 22,
    "start_time": "2022-07-07T21:30:12.029Z"
   },
   {
    "duration": 15,
    "start_time": "2022-07-07T21:30:12.052Z"
   },
   {
    "duration": 84,
    "start_time": "2022-07-07T21:30:12.069Z"
   },
   {
    "duration": 9,
    "start_time": "2022-07-07T21:30:12.155Z"
   },
   {
    "duration": 34,
    "start_time": "2022-07-07T21:30:12.167Z"
   },
   {
    "duration": 1182,
    "start_time": "2022-07-08T03:42:44.710Z"
   },
   {
    "duration": 127,
    "start_time": "2022-07-08T03:42:45.895Z"
   },
   {
    "duration": 25,
    "start_time": "2022-07-08T03:42:46.025Z"
   },
   {
    "duration": 12,
    "start_time": "2022-07-08T03:42:46.053Z"
   },
   {
    "duration": 46,
    "start_time": "2022-07-08T03:42:46.067Z"
   },
   {
    "duration": 24,
    "start_time": "2022-07-08T03:42:46.115Z"
   },
   {
    "duration": 32,
    "start_time": "2022-07-08T03:42:46.153Z"
   },
   {
    "duration": 12,
    "start_time": "2022-07-08T03:42:46.186Z"
   },
   {
    "duration": 89,
    "start_time": "2022-07-08T03:42:46.200Z"
   },
   {
    "duration": 17,
    "start_time": "2022-07-08T03:42:46.293Z"
   },
   {
    "duration": 49,
    "start_time": "2022-07-08T03:42:46.313Z"
   },
   {
    "duration": 8,
    "start_time": "2022-07-08T03:42:46.364Z"
   },
   {
    "duration": 16,
    "start_time": "2022-07-08T03:42:46.374Z"
   },
   {
    "duration": 13,
    "start_time": "2022-07-08T03:42:46.393Z"
   },
   {
    "duration": 5,
    "start_time": "2022-07-08T03:42:46.408Z"
   },
   {
    "duration": 19,
    "start_time": "2022-07-08T03:42:46.415Z"
   },
   {
    "duration": 23,
    "start_time": "2022-07-08T03:42:46.437Z"
   },
   {
    "duration": 7,
    "start_time": "2022-07-08T03:42:46.462Z"
   },
   {
    "duration": 192,
    "start_time": "2022-07-08T03:42:46.471Z"
   },
   {
    "duration": 163,
    "start_time": "2022-07-08T03:42:46.665Z"
   },
   {
    "duration": 43,
    "start_time": "2022-07-08T03:42:46.830Z"
   },
   {
    "duration": 16,
    "start_time": "2022-07-08T03:42:46.876Z"
   },
   {
    "duration": 14,
    "start_time": "2022-07-08T03:42:46.894Z"
   },
   {
    "duration": 15,
    "start_time": "2022-07-08T03:42:46.910Z"
   },
   {
    "duration": 903,
    "start_time": "2022-07-08T03:42:46.927Z"
   },
   {
    "duration": 503,
    "start_time": "2022-07-08T03:42:47.832Z"
   },
   {
    "duration": 686,
    "start_time": "2022-07-08T03:42:48.343Z"
   },
   {
    "duration": 372,
    "start_time": "2022-07-08T03:42:49.034Z"
   },
   {
    "duration": 327,
    "start_time": "2022-07-08T03:42:49.408Z"
   },
   {
    "duration": 16,
    "start_time": "2022-07-08T03:42:49.744Z"
   },
   {
    "duration": 167,
    "start_time": "2022-07-08T03:42:49.762Z"
   },
   {
    "duration": 5,
    "start_time": "2022-07-08T03:42:49.932Z"
   },
   {
    "duration": 180,
    "start_time": "2022-07-08T03:42:49.938Z"
   },
   {
    "duration": 5,
    "start_time": "2022-07-08T03:42:50.120Z"
   },
   {
    "duration": 62,
    "start_time": "2022-07-08T03:42:50.128Z"
   },
   {
    "duration": 8,
    "start_time": "2022-07-08T03:42:50.192Z"
   },
   {
    "duration": 15,
    "start_time": "2022-07-08T03:42:50.202Z"
   },
   {
    "duration": 11,
    "start_time": "2022-07-08T03:42:50.219Z"
   },
   {
    "duration": 60,
    "start_time": "2022-07-08T03:42:50.233Z"
   },
   {
    "duration": 10,
    "start_time": "2022-07-08T03:42:50.295Z"
   },
   {
    "duration": 24,
    "start_time": "2022-07-08T03:42:50.306Z"
   },
   {
    "duration": 51,
    "start_time": "2022-07-08T06:38:15.619Z"
   },
   {
    "duration": 1267,
    "start_time": "2022-07-08T06:38:20.266Z"
   },
   {
    "duration": 99,
    "start_time": "2022-07-08T06:38:21.535Z"
   },
   {
    "duration": 11,
    "start_time": "2022-07-08T06:38:21.635Z"
   },
   {
    "duration": 16,
    "start_time": "2022-07-08T06:38:21.648Z"
   },
   {
    "duration": 39,
    "start_time": "2022-07-08T06:38:21.665Z"
   },
   {
    "duration": 10,
    "start_time": "2022-07-08T06:38:21.705Z"
   },
   {
    "duration": 9,
    "start_time": "2022-07-08T06:38:21.717Z"
   },
   {
    "duration": 6,
    "start_time": "2022-07-08T06:38:21.728Z"
   },
   {
    "duration": 56,
    "start_time": "2022-07-08T06:38:21.736Z"
   },
   {
    "duration": 9,
    "start_time": "2022-07-08T06:38:21.794Z"
   },
   {
    "duration": 13,
    "start_time": "2022-07-08T06:38:21.805Z"
   },
   {
    "duration": 9,
    "start_time": "2022-07-08T06:38:21.819Z"
   },
   {
    "duration": 10,
    "start_time": "2022-07-08T06:38:21.830Z"
   },
   {
    "duration": 6,
    "start_time": "2022-07-08T06:38:21.842Z"
   },
   {
    "duration": 5,
    "start_time": "2022-07-08T06:38:21.850Z"
   },
   {
    "duration": 11,
    "start_time": "2022-07-08T06:38:21.856Z"
   },
   {
    "duration": 9,
    "start_time": "2022-07-08T06:38:21.869Z"
   },
   {
    "duration": 5,
    "start_time": "2022-07-08T06:38:21.880Z"
   },
   {
    "duration": 167,
    "start_time": "2022-07-08T06:38:21.887Z"
   },
   {
    "duration": 127,
    "start_time": "2022-07-08T06:38:22.056Z"
   },
   {
    "duration": 14,
    "start_time": "2022-07-08T06:38:22.185Z"
   },
   {
    "duration": 11,
    "start_time": "2022-07-08T06:38:22.200Z"
   },
   {
    "duration": 8,
    "start_time": "2022-07-08T06:38:22.213Z"
   },
   {
    "duration": 6,
    "start_time": "2022-07-08T06:38:22.222Z"
   },
   {
    "duration": 267,
    "start_time": "2022-07-08T06:38:22.229Z"
   },
   {
    "duration": 237,
    "start_time": "2022-07-08T06:38:22.498Z"
   },
   {
    "duration": 369,
    "start_time": "2022-07-08T06:38:22.737Z"
   },
   {
    "duration": 197,
    "start_time": "2022-07-08T06:38:23.109Z"
   },
   {
    "duration": 273,
    "start_time": "2022-07-08T06:38:23.308Z"
   },
   {
    "duration": 11,
    "start_time": "2022-07-08T06:38:23.582Z"
   },
   {
    "duration": 151,
    "start_time": "2022-07-08T06:38:23.594Z"
   },
   {
    "duration": 4,
    "start_time": "2022-07-08T06:38:23.747Z"
   },
   {
    "duration": 144,
    "start_time": "2022-07-08T06:38:23.752Z"
   },
   {
    "duration": 4,
    "start_time": "2022-07-08T06:38:23.898Z"
   },
   {
    "duration": 37,
    "start_time": "2022-07-08T06:38:23.904Z"
   },
   {
    "duration": 25,
    "start_time": "2022-07-08T06:38:23.943Z"
   },
   {
    "duration": 10,
    "start_time": "2022-07-08T06:38:23.970Z"
   },
   {
    "duration": 6,
    "start_time": "2022-07-08T06:38:23.981Z"
   },
   {
    "duration": 36,
    "start_time": "2022-07-08T06:38:23.989Z"
   },
   {
    "duration": 7,
    "start_time": "2022-07-08T06:38:24.027Z"
   },
   {
    "duration": 13,
    "start_time": "2022-07-08T06:38:24.064Z"
   },
   {
    "duration": 11,
    "start_time": "2022-07-08T06:52:17.365Z"
   },
   {
    "duration": 11,
    "start_time": "2022-07-08T06:57:28.658Z"
   },
   {
    "duration": 11,
    "start_time": "2022-07-08T06:57:34.575Z"
   },
   {
    "duration": 11,
    "start_time": "2022-07-08T06:57:40.539Z"
   },
   {
    "duration": 68,
    "start_time": "2022-07-08T07:10:06.852Z"
   },
   {
    "duration": 280,
    "start_time": "2022-07-08T07:11:07.626Z"
   },
   {
    "duration": 15,
    "start_time": "2022-07-08T07:11:47.219Z"
   },
   {
    "duration": 5,
    "start_time": "2022-07-08T07:13:55.482Z"
   },
   {
    "duration": 12,
    "start_time": "2022-07-08T07:14:00.365Z"
   },
   {
    "duration": 11,
    "start_time": "2022-07-08T07:25:43.801Z"
   },
   {
    "duration": 12,
    "start_time": "2022-07-08T08:10:50.122Z"
   },
   {
    "duration": 14,
    "start_time": "2022-07-08T08:11:03.581Z"
   },
   {
    "duration": 47,
    "start_time": "2022-07-08T08:12:04.786Z"
   },
   {
    "duration": 20,
    "start_time": "2022-07-08T08:12:29.103Z"
   },
   {
    "duration": 17,
    "start_time": "2022-07-08T08:12:36.065Z"
   },
   {
    "duration": 6,
    "start_time": "2022-07-08T08:12:52.485Z"
   },
   {
    "duration": 9,
    "start_time": "2022-07-08T08:13:02.265Z"
   },
   {
    "duration": 6,
    "start_time": "2022-07-08T08:14:30.075Z"
   },
   {
    "duration": 9,
    "start_time": "2022-07-08T08:14:36.287Z"
   },
   {
    "duration": 850,
    "start_time": "2022-07-08T08:14:41.274Z"
   },
   {
    "duration": 9,
    "start_time": "2022-07-08T08:17:16.382Z"
   },
   {
    "duration": 6,
    "start_time": "2022-07-08T08:17:30.897Z"
   },
   {
    "duration": 8,
    "start_time": "2022-07-08T08:17:33.793Z"
   },
   {
    "duration": 9,
    "start_time": "2022-07-08T08:17:35.450Z"
   },
   {
    "duration": 789,
    "start_time": "2022-07-08T08:17:37.070Z"
   },
   {
    "duration": 16,
    "start_time": "2022-07-08T08:19:12.952Z"
   },
   {
    "duration": 843,
    "start_time": "2022-07-08T08:27:49.327Z"
   },
   {
    "duration": 187,
    "start_time": "2022-07-08T08:31:08.781Z"
   },
   {
    "duration": 220,
    "start_time": "2022-07-08T08:31:43.407Z"
   },
   {
    "duration": 4,
    "start_time": "2022-07-08T08:32:58.122Z"
   },
   {
    "duration": 216,
    "start_time": "2022-07-08T08:33:04.773Z"
   },
   {
    "duration": 5,
    "start_time": "2022-07-08T08:34:28.866Z"
   },
   {
    "duration": 134,
    "start_time": "2022-07-08T08:34:39.762Z"
   },
   {
    "duration": 149,
    "start_time": "2022-07-08T08:35:00.608Z"
   },
   {
    "duration": 141,
    "start_time": "2022-07-08T08:35:05.640Z"
   },
   {
    "duration": 13,
    "start_time": "2022-07-08T08:35:44.948Z"
   },
   {
    "duration": 9,
    "start_time": "2022-07-08T08:36:07.763Z"
   },
   {
    "duration": 1043,
    "start_time": "2022-07-08T08:36:21.259Z"
   },
   {
    "duration": 84,
    "start_time": "2022-07-08T08:36:22.304Z"
   },
   {
    "duration": 12,
    "start_time": "2022-07-08T08:36:22.390Z"
   },
   {
    "duration": 11,
    "start_time": "2022-07-08T08:36:22.404Z"
   },
   {
    "duration": 24,
    "start_time": "2022-07-08T08:36:22.416Z"
   },
   {
    "duration": 29,
    "start_time": "2022-07-08T08:36:22.442Z"
   },
   {
    "duration": 11,
    "start_time": "2022-07-08T08:36:22.472Z"
   },
   {
    "duration": 7,
    "start_time": "2022-07-08T08:36:22.484Z"
   },
   {
    "duration": 6,
    "start_time": "2022-07-08T08:36:22.493Z"
   },
   {
    "duration": 38,
    "start_time": "2022-07-08T08:36:22.502Z"
   },
   {
    "duration": 21,
    "start_time": "2022-07-08T08:36:22.543Z"
   },
   {
    "duration": 6,
    "start_time": "2022-07-08T08:36:22.566Z"
   },
   {
    "duration": 18,
    "start_time": "2022-07-08T08:36:22.574Z"
   },
   {
    "duration": 19,
    "start_time": "2022-07-08T08:36:22.594Z"
   },
   {
    "duration": 10,
    "start_time": "2022-07-08T08:36:22.615Z"
   },
   {
    "duration": 5,
    "start_time": "2022-07-08T08:36:22.627Z"
   },
   {
    "duration": 14,
    "start_time": "2022-07-08T08:36:22.635Z"
   },
   {
    "duration": 12,
    "start_time": "2022-07-08T08:36:22.664Z"
   },
   {
    "duration": 12,
    "start_time": "2022-07-08T08:36:22.678Z"
   },
   {
    "duration": 180,
    "start_time": "2022-07-08T08:36:22.692Z"
   },
   {
    "duration": 119,
    "start_time": "2022-07-08T08:36:22.874Z"
   },
   {
    "duration": 12,
    "start_time": "2022-07-08T08:36:22.995Z"
   },
   {
    "duration": 21,
    "start_time": "2022-07-08T08:36:23.009Z"
   },
   {
    "duration": 22,
    "start_time": "2022-07-08T08:36:23.032Z"
   },
   {
    "duration": 36,
    "start_time": "2022-07-08T08:36:23.056Z"
   },
   {
    "duration": 273,
    "start_time": "2022-07-08T08:36:23.094Z"
   },
   {
    "duration": 203,
    "start_time": "2022-07-08T08:36:23.368Z"
   },
   {
    "duration": 310,
    "start_time": "2022-07-08T08:36:23.574Z"
   },
   {
    "duration": 215,
    "start_time": "2022-07-08T08:36:23.886Z"
   },
   {
    "duration": 277,
    "start_time": "2022-07-08T08:36:24.103Z"
   },
   {
    "duration": 11,
    "start_time": "2022-07-08T08:36:24.382Z"
   },
   {
    "duration": 164,
    "start_time": "2022-07-08T08:36:24.395Z"
   },
   {
    "duration": 5,
    "start_time": "2022-07-08T08:36:24.563Z"
   },
   {
    "duration": 150,
    "start_time": "2022-07-08T08:36:24.569Z"
   },
   {
    "duration": 149,
    "start_time": "2022-07-08T08:36:24.720Z"
   },
   {
    "duration": 4,
    "start_time": "2022-07-08T08:36:24.870Z"
   },
   {
    "duration": 40,
    "start_time": "2022-07-08T08:36:24.876Z"
   },
   {
    "duration": 6,
    "start_time": "2022-07-08T08:36:24.918Z"
   },
   {
    "duration": 10,
    "start_time": "2022-07-08T08:36:24.926Z"
   },
   {
    "duration": 32,
    "start_time": "2022-07-08T08:36:24.937Z"
   },
   {
    "duration": 44,
    "start_time": "2022-07-08T08:36:24.971Z"
   },
   {
    "duration": 8,
    "start_time": "2022-07-08T08:36:25.016Z"
   },
   {
    "duration": 16,
    "start_time": "2022-07-08T08:36:25.025Z"
   },
   {
    "duration": 140,
    "start_time": "2022-07-08T08:40:23.136Z"
   },
   {
    "duration": 221,
    "start_time": "2022-07-08T08:41:24.411Z"
   },
   {
    "duration": 122,
    "start_time": "2022-07-08T08:41:56.671Z"
   },
   {
    "duration": 8,
    "start_time": "2022-07-08T08:55:35.152Z"
   },
   {
    "duration": 9,
    "start_time": "2022-07-08T08:56:51.361Z"
   },
   {
    "duration": 21,
    "start_time": "2022-07-08T15:12:01.277Z"
   },
   {
    "duration": 93,
    "start_time": "2022-07-08T15:13:44.265Z"
   },
   {
    "duration": 4,
    "start_time": "2022-07-08T15:13:48.766Z"
   },
   {
    "duration": 22,
    "start_time": "2022-07-08T15:13:48.773Z"
   },
   {
    "duration": 12,
    "start_time": "2022-07-08T15:13:48.797Z"
   },
   {
    "duration": 15,
    "start_time": "2022-07-08T15:13:48.810Z"
   },
   {
    "duration": 20,
    "start_time": "2022-07-08T15:13:48.827Z"
   },
   {
    "duration": 34,
    "start_time": "2022-07-08T15:13:48.849Z"
   },
   {
    "duration": 14,
    "start_time": "2022-07-08T15:13:48.885Z"
   },
   {
    "duration": 8,
    "start_time": "2022-07-08T15:13:48.901Z"
   },
   {
    "duration": 6,
    "start_time": "2022-07-08T15:13:48.911Z"
   },
   {
    "duration": 55,
    "start_time": "2022-07-08T15:13:48.919Z"
   },
   {
    "duration": 16,
    "start_time": "2022-07-08T15:13:48.977Z"
   },
   {
    "duration": 9,
    "start_time": "2022-07-08T15:13:48.995Z"
   },
   {
    "duration": 8,
    "start_time": "2022-07-08T15:13:49.006Z"
   },
   {
    "duration": 10,
    "start_time": "2022-07-08T15:13:49.016Z"
   },
   {
    "duration": 36,
    "start_time": "2022-07-08T15:13:49.028Z"
   },
   {
    "duration": 17,
    "start_time": "2022-07-08T15:13:49.066Z"
   },
   {
    "duration": 5,
    "start_time": "2022-07-08T15:13:49.084Z"
   },
   {
    "duration": 11,
    "start_time": "2022-07-08T15:13:49.091Z"
   },
   {
    "duration": 10,
    "start_time": "2022-07-08T15:13:49.103Z"
   },
   {
    "duration": 6,
    "start_time": "2022-07-08T15:13:49.114Z"
   },
   {
    "duration": 183,
    "start_time": "2022-07-08T15:13:49.121Z"
   },
   {
    "duration": 132,
    "start_time": "2022-07-08T15:13:49.306Z"
   },
   {
    "duration": 24,
    "start_time": "2022-07-08T15:13:49.440Z"
   },
   {
    "duration": 4,
    "start_time": "2022-07-08T15:13:49.466Z"
   },
   {
    "duration": 6,
    "start_time": "2022-07-08T15:13:49.472Z"
   },
   {
    "duration": 8,
    "start_time": "2022-07-08T15:13:49.480Z"
   },
   {
    "duration": 219,
    "start_time": "2022-07-08T15:13:49.490Z"
   },
   {
    "duration": 198,
    "start_time": "2022-07-08T15:13:49.712Z"
   },
   {
    "duration": 274,
    "start_time": "2022-07-08T15:13:49.912Z"
   },
   {
    "duration": 214,
    "start_time": "2022-07-08T15:13:50.188Z"
   },
   {
    "duration": 299,
    "start_time": "2022-07-08T15:13:50.404Z"
   },
   {
    "duration": 12,
    "start_time": "2022-07-08T15:13:50.705Z"
   },
   {
    "duration": 172,
    "start_time": "2022-07-08T15:13:50.720Z"
   },
   {
    "duration": 5,
    "start_time": "2022-07-08T15:13:50.895Z"
   },
   {
    "duration": 153,
    "start_time": "2022-07-08T15:13:50.902Z"
   },
   {
    "duration": 132,
    "start_time": "2022-07-08T15:13:51.063Z"
   },
   {
    "duration": 4,
    "start_time": "2022-07-08T15:13:51.197Z"
   },
   {
    "duration": 42,
    "start_time": "2022-07-08T15:13:51.202Z"
   },
   {
    "duration": 25,
    "start_time": "2022-07-08T15:13:51.246Z"
   },
   {
    "duration": 11,
    "start_time": "2022-07-08T15:13:51.272Z"
   },
   {
    "duration": 13,
    "start_time": "2022-07-08T15:13:51.285Z"
   },
   {
    "duration": 71,
    "start_time": "2022-07-08T15:13:51.299Z"
   },
   {
    "duration": 9,
    "start_time": "2022-07-08T15:13:51.372Z"
   },
   {
    "duration": 19,
    "start_time": "2022-07-08T15:13:51.384Z"
   },
   {
    "duration": 8,
    "start_time": "2022-07-08T15:16:20.601Z"
   },
   {
    "duration": 1049,
    "start_time": "2022-07-08T15:16:55.643Z"
   },
   {
    "duration": 81,
    "start_time": "2022-07-08T15:16:56.694Z"
   },
   {
    "duration": 13,
    "start_time": "2022-07-08T15:16:56.777Z"
   },
   {
    "duration": 17,
    "start_time": "2022-07-08T15:16:56.793Z"
   },
   {
    "duration": 19,
    "start_time": "2022-07-08T15:16:56.812Z"
   },
   {
    "duration": 19,
    "start_time": "2022-07-08T15:16:56.832Z"
   },
   {
    "duration": 18,
    "start_time": "2022-07-08T15:16:56.852Z"
   },
   {
    "duration": 7,
    "start_time": "2022-07-08T15:16:56.872Z"
   },
   {
    "duration": 8,
    "start_time": "2022-07-08T15:16:56.880Z"
   },
   {
    "duration": 37,
    "start_time": "2022-07-08T15:16:56.891Z"
   },
   {
    "duration": 10,
    "start_time": "2022-07-08T15:16:56.930Z"
   },
   {
    "duration": 9,
    "start_time": "2022-07-08T15:16:56.942Z"
   },
   {
    "duration": 6,
    "start_time": "2022-07-08T15:16:56.964Z"
   },
   {
    "duration": 11,
    "start_time": "2022-07-08T15:16:56.972Z"
   },
   {
    "duration": 6,
    "start_time": "2022-07-08T15:16:56.984Z"
   },
   {
    "duration": 17,
    "start_time": "2022-07-08T15:16:56.992Z"
   },
   {
    "duration": 15,
    "start_time": "2022-07-08T15:16:57.010Z"
   },
   {
    "duration": 38,
    "start_time": "2022-07-08T15:16:57.027Z"
   },
   {
    "duration": 9,
    "start_time": "2022-07-08T15:16:57.067Z"
   },
   {
    "duration": 21,
    "start_time": "2022-07-08T15:16:57.077Z"
   },
   {
    "duration": 7,
    "start_time": "2022-07-08T15:16:57.099Z"
   },
   {
    "duration": 175,
    "start_time": "2022-07-08T15:16:57.108Z"
   },
   {
    "duration": 137,
    "start_time": "2022-07-08T15:16:57.285Z"
   },
   {
    "duration": 13,
    "start_time": "2022-07-08T15:16:57.424Z"
   },
   {
    "duration": 9,
    "start_time": "2022-07-08T15:16:57.439Z"
   },
   {
    "duration": 18,
    "start_time": "2022-07-08T15:16:57.449Z"
   },
   {
    "duration": 6,
    "start_time": "2022-07-08T15:16:57.468Z"
   },
   {
    "duration": 273,
    "start_time": "2022-07-08T15:16:57.478Z"
   },
   {
    "duration": 211,
    "start_time": "2022-07-08T15:16:57.753Z"
   },
   {
    "duration": 292,
    "start_time": "2022-07-08T15:16:57.966Z"
   },
   {
    "duration": 206,
    "start_time": "2022-07-08T15:16:58.264Z"
   },
   {
    "duration": 293,
    "start_time": "2022-07-08T15:16:58.472Z"
   },
   {
    "duration": 12,
    "start_time": "2022-07-08T15:16:58.768Z"
   },
   {
    "duration": 158,
    "start_time": "2022-07-08T15:16:58.782Z"
   },
   {
    "duration": 5,
    "start_time": "2022-07-08T15:16:58.942Z"
   },
   {
    "duration": 156,
    "start_time": "2022-07-08T15:16:58.949Z"
   },
   {
    "duration": 143,
    "start_time": "2022-07-08T15:16:59.107Z"
   },
   {
    "duration": 4,
    "start_time": "2022-07-08T15:16:59.251Z"
   },
   {
    "duration": 40,
    "start_time": "2022-07-08T15:16:59.257Z"
   },
   {
    "duration": 7,
    "start_time": "2022-07-08T15:16:59.299Z"
   },
   {
    "duration": 14,
    "start_time": "2022-07-08T15:16:59.308Z"
   },
   {
    "duration": 6,
    "start_time": "2022-07-08T15:16:59.325Z"
   },
   {
    "duration": 61,
    "start_time": "2022-07-08T15:16:59.333Z"
   },
   {
    "duration": 8,
    "start_time": "2022-07-08T15:16:59.396Z"
   },
   {
    "duration": 17,
    "start_time": "2022-07-08T15:16:59.406Z"
   },
   {
    "duration": 7,
    "start_time": "2022-07-08T15:18:39.013Z"
   },
   {
    "duration": 956,
    "start_time": "2022-07-08T15:18:58.820Z"
   },
   {
    "duration": 78,
    "start_time": "2022-07-08T15:18:59.778Z"
   },
   {
    "duration": 11,
    "start_time": "2022-07-08T15:18:59.858Z"
   },
   {
    "duration": 11,
    "start_time": "2022-07-08T15:18:59.871Z"
   },
   {
    "duration": 13,
    "start_time": "2022-07-08T15:18:59.883Z"
   },
   {
    "duration": 18,
    "start_time": "2022-07-08T15:18:59.898Z"
   },
   {
    "duration": 11,
    "start_time": "2022-07-08T15:18:59.917Z"
   },
   {
    "duration": 7,
    "start_time": "2022-07-08T15:18:59.929Z"
   },
   {
    "duration": 6,
    "start_time": "2022-07-08T15:18:59.938Z"
   },
   {
    "duration": 36,
    "start_time": "2022-07-08T15:18:59.965Z"
   },
   {
    "duration": 10,
    "start_time": "2022-07-08T15:19:00.002Z"
   },
   {
    "duration": 30,
    "start_time": "2022-07-08T15:19:00.013Z"
   },
   {
    "duration": 8,
    "start_time": "2022-07-08T15:19:00.045Z"
   },
   {
    "duration": 19,
    "start_time": "2022-07-08T15:19:00.055Z"
   },
   {
    "duration": 12,
    "start_time": "2022-07-08T15:19:00.076Z"
   },
   {
    "duration": 20,
    "start_time": "2022-07-08T15:19:00.090Z"
   },
   {
    "duration": 100,
    "start_time": "2022-07-08T15:19:00.112Z"
   },
   {
    "duration": 0,
    "start_time": "2022-07-08T15:19:00.214Z"
   },
   {
    "duration": 1,
    "start_time": "2022-07-08T15:19:00.215Z"
   },
   {
    "duration": 0,
    "start_time": "2022-07-08T15:19:00.216Z"
   },
   {
    "duration": 0,
    "start_time": "2022-07-08T15:19:00.217Z"
   },
   {
    "duration": 0,
    "start_time": "2022-07-08T15:19:00.218Z"
   },
   {
    "duration": 0,
    "start_time": "2022-07-08T15:19:00.219Z"
   },
   {
    "duration": 0,
    "start_time": "2022-07-08T15:19:00.220Z"
   },
   {
    "duration": 0,
    "start_time": "2022-07-08T15:19:00.221Z"
   },
   {
    "duration": 0,
    "start_time": "2022-07-08T15:19:00.222Z"
   },
   {
    "duration": 0,
    "start_time": "2022-07-08T15:19:00.223Z"
   },
   {
    "duration": 0,
    "start_time": "2022-07-08T15:19:00.224Z"
   },
   {
    "duration": 0,
    "start_time": "2022-07-08T15:19:00.225Z"
   },
   {
    "duration": 0,
    "start_time": "2022-07-08T15:19:00.226Z"
   },
   {
    "duration": 0,
    "start_time": "2022-07-08T15:19:00.227Z"
   },
   {
    "duration": 0,
    "start_time": "2022-07-08T15:19:00.228Z"
   },
   {
    "duration": 0,
    "start_time": "2022-07-08T15:19:00.229Z"
   },
   {
    "duration": 0,
    "start_time": "2022-07-08T15:19:00.230Z"
   },
   {
    "duration": 0,
    "start_time": "2022-07-08T15:19:00.231Z"
   },
   {
    "duration": 0,
    "start_time": "2022-07-08T15:19:00.267Z"
   },
   {
    "duration": 0,
    "start_time": "2022-07-08T15:19:00.268Z"
   },
   {
    "duration": 0,
    "start_time": "2022-07-08T15:19:00.269Z"
   },
   {
    "duration": 0,
    "start_time": "2022-07-08T15:19:00.270Z"
   },
   {
    "duration": 0,
    "start_time": "2022-07-08T15:19:00.271Z"
   },
   {
    "duration": 0,
    "start_time": "2022-07-08T15:19:00.272Z"
   },
   {
    "duration": 0,
    "start_time": "2022-07-08T15:19:00.273Z"
   },
   {
    "duration": 0,
    "start_time": "2022-07-08T15:19:00.274Z"
   },
   {
    "duration": 0,
    "start_time": "2022-07-08T15:19:00.275Z"
   },
   {
    "duration": 0,
    "start_time": "2022-07-08T15:19:00.276Z"
   },
   {
    "duration": 8,
    "start_time": "2022-07-08T15:19:27.008Z"
   },
   {
    "duration": 12,
    "start_time": "2022-07-08T15:20:09.417Z"
   },
   {
    "duration": 5,
    "start_time": "2022-07-08T15:20:17.982Z"
   },
   {
    "duration": 9,
    "start_time": "2022-07-08T15:22:07.956Z"
   },
   {
    "duration": 9,
    "start_time": "2022-07-08T15:24:27.718Z"
   },
   {
    "duration": 8,
    "start_time": "2022-07-08T15:25:59.719Z"
   },
   {
    "duration": 8,
    "start_time": "2022-07-08T15:26:20.607Z"
   },
   {
    "duration": 1029,
    "start_time": "2022-07-08T15:27:26.264Z"
   },
   {
    "duration": 82,
    "start_time": "2022-07-08T15:27:27.296Z"
   },
   {
    "duration": 14,
    "start_time": "2022-07-08T15:27:27.380Z"
   },
   {
    "duration": 24,
    "start_time": "2022-07-08T15:27:27.396Z"
   },
   {
    "duration": 17,
    "start_time": "2022-07-08T15:27:27.422Z"
   },
   {
    "duration": 24,
    "start_time": "2022-07-08T15:27:27.441Z"
   },
   {
    "duration": 11,
    "start_time": "2022-07-08T15:27:27.467Z"
   },
   {
    "duration": 9,
    "start_time": "2022-07-08T15:27:27.479Z"
   },
   {
    "duration": 9,
    "start_time": "2022-07-08T15:27:27.489Z"
   },
   {
    "duration": 47,
    "start_time": "2022-07-08T15:27:27.501Z"
   },
   {
    "duration": 13,
    "start_time": "2022-07-08T15:27:27.550Z"
   },
   {
    "duration": 5,
    "start_time": "2022-07-08T15:27:27.565Z"
   },
   {
    "duration": 5,
    "start_time": "2022-07-08T15:27:27.572Z"
   },
   {
    "duration": 10,
    "start_time": "2022-07-08T15:27:27.579Z"
   },
   {
    "duration": 4,
    "start_time": "2022-07-08T15:27:27.590Z"
   },
   {
    "duration": 13,
    "start_time": "2022-07-08T15:27:27.595Z"
   },
   {
    "duration": 7,
    "start_time": "2022-07-08T15:27:27.609Z"
   },
   {
    "duration": 47,
    "start_time": "2022-07-08T15:27:27.617Z"
   },
   {
    "duration": 15,
    "start_time": "2022-07-08T15:27:27.665Z"
   },
   {
    "duration": 10,
    "start_time": "2022-07-08T15:27:27.681Z"
   },
   {
    "duration": 13,
    "start_time": "2022-07-08T15:27:27.692Z"
   },
   {
    "duration": 173,
    "start_time": "2022-07-08T15:27:27.706Z"
   },
   {
    "duration": 130,
    "start_time": "2022-07-08T15:27:27.881Z"
   },
   {
    "duration": 13,
    "start_time": "2022-07-08T15:27:28.013Z"
   },
   {
    "duration": 11,
    "start_time": "2022-07-08T15:27:28.027Z"
   },
   {
    "duration": 9,
    "start_time": "2022-07-08T15:27:28.040Z"
   },
   {
    "duration": 3,
    "start_time": "2022-07-08T15:27:28.063Z"
   },
   {
    "duration": 285,
    "start_time": "2022-07-08T15:27:28.070Z"
   },
   {
    "duration": 215,
    "start_time": "2022-07-08T15:27:28.356Z"
   },
   {
    "duration": 303,
    "start_time": "2022-07-08T15:27:28.573Z"
   },
   {
    "duration": 207,
    "start_time": "2022-07-08T15:27:28.878Z"
   },
   {
    "duration": 282,
    "start_time": "2022-07-08T15:27:29.087Z"
   },
   {
    "duration": 13,
    "start_time": "2022-07-08T15:27:29.371Z"
   },
   {
    "duration": 167,
    "start_time": "2022-07-08T15:27:29.385Z"
   },
   {
    "duration": 10,
    "start_time": "2022-07-08T15:27:29.554Z"
   },
   {
    "duration": 150,
    "start_time": "2022-07-08T15:27:29.566Z"
   },
   {
    "duration": 132,
    "start_time": "2022-07-08T15:27:29.718Z"
   },
   {
    "duration": 11,
    "start_time": "2022-07-08T15:27:29.852Z"
   },
   {
    "duration": 36,
    "start_time": "2022-07-08T15:27:29.865Z"
   },
   {
    "duration": 7,
    "start_time": "2022-07-08T15:27:29.903Z"
   },
   {
    "duration": 14,
    "start_time": "2022-07-08T15:27:29.912Z"
   },
   {
    "duration": 14,
    "start_time": "2022-07-08T15:27:29.927Z"
   },
   {
    "duration": 56,
    "start_time": "2022-07-08T15:27:29.943Z"
   },
   {
    "duration": 7,
    "start_time": "2022-07-08T15:27:30.001Z"
   },
   {
    "duration": 26,
    "start_time": "2022-07-08T15:27:30.009Z"
   },
   {
    "duration": 99,
    "start_time": "2022-07-08T15:29:08.352Z"
   },
   {
    "duration": 13,
    "start_time": "2022-07-08T15:29:24.654Z"
   },
   {
    "duration": 13,
    "start_time": "2022-07-08T15:29:45.249Z"
   },
   {
    "duration": 968,
    "start_time": "2022-07-08T15:30:18.519Z"
   },
   {
    "duration": 93,
    "start_time": "2022-07-08T15:30:19.489Z"
   },
   {
    "duration": 15,
    "start_time": "2022-07-08T15:30:19.584Z"
   },
   {
    "duration": 14,
    "start_time": "2022-07-08T15:30:19.602Z"
   },
   {
    "duration": 25,
    "start_time": "2022-07-08T15:30:19.617Z"
   },
   {
    "duration": 30,
    "start_time": "2022-07-08T15:30:19.645Z"
   },
   {
    "duration": 13,
    "start_time": "2022-07-08T15:30:19.677Z"
   },
   {
    "duration": 17,
    "start_time": "2022-07-08T15:30:19.692Z"
   },
   {
    "duration": 14,
    "start_time": "2022-07-08T15:30:19.711Z"
   },
   {
    "duration": 49,
    "start_time": "2022-07-08T15:30:19.728Z"
   },
   {
    "duration": 10,
    "start_time": "2022-07-08T15:30:19.779Z"
   },
   {
    "duration": 8,
    "start_time": "2022-07-08T15:30:19.791Z"
   },
   {
    "duration": 8,
    "start_time": "2022-07-08T15:30:19.800Z"
   },
   {
    "duration": 11,
    "start_time": "2022-07-08T15:30:19.809Z"
   },
   {
    "duration": 5,
    "start_time": "2022-07-08T15:30:19.821Z"
   },
   {
    "duration": 13,
    "start_time": "2022-07-08T15:30:19.827Z"
   },
   {
    "duration": 23,
    "start_time": "2022-07-08T15:30:19.842Z"
   },
   {
    "duration": 109,
    "start_time": "2022-07-08T15:30:19.866Z"
   },
   {
    "duration": 0,
    "start_time": "2022-07-08T15:30:19.977Z"
   },
   {
    "duration": 0,
    "start_time": "2022-07-08T15:30:19.979Z"
   },
   {
    "duration": 0,
    "start_time": "2022-07-08T15:30:19.980Z"
   },
   {
    "duration": 0,
    "start_time": "2022-07-08T15:30:19.981Z"
   },
   {
    "duration": 0,
    "start_time": "2022-07-08T15:30:19.982Z"
   },
   {
    "duration": 0,
    "start_time": "2022-07-08T15:30:19.984Z"
   },
   {
    "duration": 0,
    "start_time": "2022-07-08T15:30:19.985Z"
   },
   {
    "duration": 0,
    "start_time": "2022-07-08T15:30:19.986Z"
   },
   {
    "duration": 0,
    "start_time": "2022-07-08T15:30:19.987Z"
   },
   {
    "duration": 0,
    "start_time": "2022-07-08T15:30:19.988Z"
   },
   {
    "duration": 0,
    "start_time": "2022-07-08T15:30:19.989Z"
   },
   {
    "duration": 0,
    "start_time": "2022-07-08T15:30:19.991Z"
   },
   {
    "duration": 0,
    "start_time": "2022-07-08T15:30:19.991Z"
   },
   {
    "duration": 0,
    "start_time": "2022-07-08T15:30:19.992Z"
   },
   {
    "duration": 0,
    "start_time": "2022-07-08T15:30:19.993Z"
   },
   {
    "duration": 0,
    "start_time": "2022-07-08T15:30:19.994Z"
   },
   {
    "duration": 0,
    "start_time": "2022-07-08T15:30:19.996Z"
   },
   {
    "duration": 0,
    "start_time": "2022-07-08T15:30:19.996Z"
   },
   {
    "duration": 0,
    "start_time": "2022-07-08T15:30:19.997Z"
   },
   {
    "duration": 0,
    "start_time": "2022-07-08T15:30:19.998Z"
   },
   {
    "duration": 0,
    "start_time": "2022-07-08T15:30:19.999Z"
   },
   {
    "duration": 0,
    "start_time": "2022-07-08T15:30:20.000Z"
   },
   {
    "duration": 0,
    "start_time": "2022-07-08T15:30:20.002Z"
   },
   {
    "duration": 0,
    "start_time": "2022-07-08T15:30:20.003Z"
   },
   {
    "duration": 0,
    "start_time": "2022-07-08T15:30:20.004Z"
   },
   {
    "duration": 0,
    "start_time": "2022-07-08T15:30:20.005Z"
   },
   {
    "duration": 0,
    "start_time": "2022-07-08T15:30:20.005Z"
   },
   {
    "duration": 0,
    "start_time": "2022-07-08T15:30:20.006Z"
   },
   {
    "duration": 14,
    "start_time": "2022-07-08T15:31:33.680Z"
   },
   {
    "duration": 10,
    "start_time": "2022-07-08T15:34:14.991Z"
   },
   {
    "duration": 7,
    "start_time": "2022-07-08T15:34:26.788Z"
   },
   {
    "duration": 11,
    "start_time": "2022-07-08T15:34:35.849Z"
   },
   {
    "duration": 12,
    "start_time": "2022-07-08T15:49:44.508Z"
   },
   {
    "duration": 1319,
    "start_time": "2022-07-08T15:50:27.777Z"
   },
   {
    "duration": 1095,
    "start_time": "2022-07-08T15:50:44.142Z"
   },
   {
    "duration": 86,
    "start_time": "2022-07-08T15:50:45.239Z"
   },
   {
    "duration": 13,
    "start_time": "2022-07-08T15:50:45.326Z"
   },
   {
    "duration": 11,
    "start_time": "2022-07-08T15:50:45.340Z"
   },
   {
    "duration": 17,
    "start_time": "2022-07-08T15:50:45.366Z"
   },
   {
    "duration": 21,
    "start_time": "2022-07-08T15:50:45.385Z"
   },
   {
    "duration": 12,
    "start_time": "2022-07-08T15:50:45.408Z"
   },
   {
    "duration": 6,
    "start_time": "2022-07-08T15:50:45.422Z"
   },
   {
    "duration": 10,
    "start_time": "2022-07-08T15:50:45.430Z"
   },
   {
    "duration": 45,
    "start_time": "2022-07-08T15:50:45.466Z"
   },
   {
    "duration": 12,
    "start_time": "2022-07-08T15:50:45.513Z"
   },
   {
    "duration": 5,
    "start_time": "2022-07-08T15:50:45.527Z"
   },
   {
    "duration": 7,
    "start_time": "2022-07-08T15:50:45.533Z"
   },
   {
    "duration": 12,
    "start_time": "2022-07-08T15:50:45.541Z"
   },
   {
    "duration": 13,
    "start_time": "2022-07-08T15:50:45.565Z"
   },
   {
    "duration": 16,
    "start_time": "2022-07-08T15:50:45.582Z"
   },
   {
    "duration": 11,
    "start_time": "2022-07-08T15:50:45.600Z"
   },
   {
    "duration": 12,
    "start_time": "2022-07-08T15:50:45.612Z"
   },
   {
    "duration": 8,
    "start_time": "2022-07-08T15:50:45.625Z"
   },
   {
    "duration": 11,
    "start_time": "2022-07-08T15:50:45.634Z"
   },
   {
    "duration": 39,
    "start_time": "2022-07-08T15:50:45.646Z"
   },
   {
    "duration": 8,
    "start_time": "2022-07-08T15:50:45.686Z"
   },
   {
    "duration": 157,
    "start_time": "2022-07-08T15:50:45.695Z"
   },
   {
    "duration": 123,
    "start_time": "2022-07-08T15:50:45.853Z"
   },
   {
    "duration": 13,
    "start_time": "2022-07-08T15:50:45.979Z"
   },
   {
    "duration": 9,
    "start_time": "2022-07-08T15:50:45.994Z"
   },
   {
    "duration": 10,
    "start_time": "2022-07-08T15:50:46.005Z"
   },
   {
    "duration": 4,
    "start_time": "2022-07-08T15:50:46.019Z"
   },
   {
    "duration": 321,
    "start_time": "2022-07-08T15:50:46.024Z"
   },
   {
    "duration": 209,
    "start_time": "2022-07-08T15:50:46.347Z"
   },
   {
    "duration": 323,
    "start_time": "2022-07-08T15:50:46.557Z"
   },
   {
    "duration": 216,
    "start_time": "2022-07-08T15:50:46.882Z"
   },
   {
    "duration": 297,
    "start_time": "2022-07-08T15:50:47.100Z"
   },
   {
    "duration": 24,
    "start_time": "2022-07-08T15:50:47.399Z"
   },
   {
    "duration": 190,
    "start_time": "2022-07-08T15:50:47.426Z"
   },
   {
    "duration": 5,
    "start_time": "2022-07-08T15:50:47.619Z"
   },
   {
    "duration": 164,
    "start_time": "2022-07-08T15:50:47.626Z"
   },
   {
    "duration": 155,
    "start_time": "2022-07-08T15:50:47.792Z"
   },
   {
    "duration": 10,
    "start_time": "2022-07-08T15:50:47.949Z"
   },
   {
    "duration": 56,
    "start_time": "2022-07-08T15:50:47.961Z"
   },
   {
    "duration": 9,
    "start_time": "2022-07-08T15:50:48.019Z"
   },
   {
    "duration": 15,
    "start_time": "2022-07-08T15:50:48.030Z"
   },
   {
    "duration": 32,
    "start_time": "2022-07-08T15:50:48.047Z"
   },
   {
    "duration": 41,
    "start_time": "2022-07-08T15:50:48.082Z"
   },
   {
    "duration": 11,
    "start_time": "2022-07-08T15:50:48.125Z"
   },
   {
    "duration": 36,
    "start_time": "2022-07-08T15:50:48.138Z"
   },
   {
    "duration": 1201,
    "start_time": "2022-07-08T15:51:15.199Z"
   },
   {
    "duration": 1087,
    "start_time": "2022-07-08T15:51:21.810Z"
   },
   {
    "duration": 89,
    "start_time": "2022-07-08T15:51:22.899Z"
   },
   {
    "duration": 12,
    "start_time": "2022-07-08T15:51:22.989Z"
   },
   {
    "duration": 10,
    "start_time": "2022-07-08T15:51:23.003Z"
   },
   {
    "duration": 12,
    "start_time": "2022-07-08T15:51:23.015Z"
   },
   {
    "duration": 24,
    "start_time": "2022-07-08T15:51:23.029Z"
   },
   {
    "duration": 23,
    "start_time": "2022-07-08T15:51:23.055Z"
   },
   {
    "duration": 15,
    "start_time": "2022-07-08T15:51:23.079Z"
   },
   {
    "duration": 8,
    "start_time": "2022-07-08T15:51:23.096Z"
   },
   {
    "duration": 36,
    "start_time": "2022-07-08T15:51:23.106Z"
   },
   {
    "duration": 10,
    "start_time": "2022-07-08T15:51:23.144Z"
   },
   {
    "duration": 28,
    "start_time": "2022-07-08T15:51:23.156Z"
   },
   {
    "duration": 8,
    "start_time": "2022-07-08T15:51:23.186Z"
   },
   {
    "duration": 10,
    "start_time": "2022-07-08T15:51:23.197Z"
   },
   {
    "duration": 4,
    "start_time": "2022-07-08T15:51:23.208Z"
   },
   {
    "duration": 13,
    "start_time": "2022-07-08T15:51:23.213Z"
   },
   {
    "duration": 10,
    "start_time": "2022-07-08T15:51:23.228Z"
   },
   {
    "duration": 30,
    "start_time": "2022-07-08T15:51:23.239Z"
   },
   {
    "duration": 6,
    "start_time": "2022-07-08T15:51:23.270Z"
   },
   {
    "duration": 18,
    "start_time": "2022-07-08T15:51:23.280Z"
   },
   {
    "duration": 14,
    "start_time": "2022-07-08T15:51:23.300Z"
   },
   {
    "duration": 5,
    "start_time": "2022-07-08T15:51:23.316Z"
   },
   {
    "duration": 178,
    "start_time": "2022-07-08T15:51:23.323Z"
   },
   {
    "duration": 134,
    "start_time": "2022-07-08T15:51:23.503Z"
   },
   {
    "duration": 11,
    "start_time": "2022-07-08T15:51:23.639Z"
   },
   {
    "duration": 14,
    "start_time": "2022-07-08T15:51:23.665Z"
   },
   {
    "duration": 10,
    "start_time": "2022-07-08T15:51:23.681Z"
   },
   {
    "duration": 6,
    "start_time": "2022-07-08T15:51:23.693Z"
   },
   {
    "duration": 278,
    "start_time": "2022-07-08T15:51:23.700Z"
   },
   {
    "duration": 206,
    "start_time": "2022-07-08T15:51:23.980Z"
   },
   {
    "duration": 307,
    "start_time": "2022-07-08T15:51:24.188Z"
   },
   {
    "duration": 215,
    "start_time": "2022-07-08T15:51:24.498Z"
   },
   {
    "duration": 340,
    "start_time": "2022-07-08T15:51:24.715Z"
   },
   {
    "duration": 24,
    "start_time": "2022-07-08T15:51:25.056Z"
   },
   {
    "duration": 157,
    "start_time": "2022-07-08T15:51:25.083Z"
   },
   {
    "duration": 4,
    "start_time": "2022-07-08T15:51:25.241Z"
   },
   {
    "duration": 164,
    "start_time": "2022-07-08T15:51:25.246Z"
   },
   {
    "duration": 140,
    "start_time": "2022-07-08T15:51:25.413Z"
   },
   {
    "duration": 23,
    "start_time": "2022-07-08T15:51:25.555Z"
   },
   {
    "duration": 34,
    "start_time": "2022-07-08T15:51:25.580Z"
   },
   {
    "duration": 7,
    "start_time": "2022-07-08T15:51:25.618Z"
   },
   {
    "duration": 11,
    "start_time": "2022-07-08T15:51:25.627Z"
   },
   {
    "duration": 27,
    "start_time": "2022-07-08T15:51:25.640Z"
   },
   {
    "duration": 42,
    "start_time": "2022-07-08T15:51:25.669Z"
   },
   {
    "duration": 7,
    "start_time": "2022-07-08T15:51:25.713Z"
   },
   {
    "duration": 14,
    "start_time": "2022-07-08T15:51:25.722Z"
   },
   {
    "duration": 5,
    "start_time": "2022-07-08T15:52:08.607Z"
   },
   {
    "duration": 29,
    "start_time": "2022-07-08T15:52:08.614Z"
   },
   {
    "duration": 15,
    "start_time": "2022-07-08T15:52:08.645Z"
   },
   {
    "duration": 34,
    "start_time": "2022-07-08T15:52:08.663Z"
   },
   {
    "duration": 17,
    "start_time": "2022-07-08T15:52:08.699Z"
   },
   {
    "duration": 21,
    "start_time": "2022-07-08T15:52:08.719Z"
   },
   {
    "duration": 14,
    "start_time": "2022-07-08T15:52:08.741Z"
   },
   {
    "duration": 11,
    "start_time": "2022-07-08T15:52:08.765Z"
   },
   {
    "duration": 15,
    "start_time": "2022-07-08T15:52:08.778Z"
   },
   {
    "duration": 46,
    "start_time": "2022-07-08T15:52:08.795Z"
   },
   {
    "duration": 14,
    "start_time": "2022-07-08T15:52:08.843Z"
   },
   {
    "duration": 25,
    "start_time": "2022-07-08T15:52:08.863Z"
   },
   {
    "duration": 9,
    "start_time": "2022-07-08T15:52:08.890Z"
   },
   {
    "duration": 14,
    "start_time": "2022-07-08T15:52:08.900Z"
   },
   {
    "duration": 6,
    "start_time": "2022-07-08T15:52:08.916Z"
   },
   {
    "duration": 14,
    "start_time": "2022-07-08T15:52:08.924Z"
   },
   {
    "duration": 38,
    "start_time": "2022-07-08T15:52:08.940Z"
   },
   {
    "duration": 5,
    "start_time": "2022-07-08T15:52:08.982Z"
   },
   {
    "duration": 14,
    "start_time": "2022-07-08T15:52:08.988Z"
   },
   {
    "duration": 12,
    "start_time": "2022-07-08T15:52:09.004Z"
   },
   {
    "duration": 12,
    "start_time": "2022-07-08T15:52:09.017Z"
   },
   {
    "duration": 182,
    "start_time": "2022-07-08T15:52:09.031Z"
   },
   {
    "duration": 120,
    "start_time": "2022-07-08T15:52:09.214Z"
   },
   {
    "duration": 13,
    "start_time": "2022-07-08T15:52:09.335Z"
   },
   {
    "duration": 30,
    "start_time": "2022-07-08T15:52:09.349Z"
   },
   {
    "duration": 16,
    "start_time": "2022-07-08T15:52:09.383Z"
   },
   {
    "duration": 12,
    "start_time": "2022-07-08T15:52:09.401Z"
   },
   {
    "duration": 291,
    "start_time": "2022-07-08T15:52:09.414Z"
   },
   {
    "duration": 213,
    "start_time": "2022-07-08T15:52:09.707Z"
   },
   {
    "duration": 300,
    "start_time": "2022-07-08T15:52:09.923Z"
   },
   {
    "duration": 223,
    "start_time": "2022-07-08T15:52:10.224Z"
   },
   {
    "duration": 350,
    "start_time": "2022-07-08T15:52:10.449Z"
   },
   {
    "duration": 13,
    "start_time": "2022-07-08T15:52:10.801Z"
   },
   {
    "duration": 175,
    "start_time": "2022-07-08T15:52:10.815Z"
   },
   {
    "duration": 3,
    "start_time": "2022-07-08T15:52:10.992Z"
   },
   {
    "duration": 168,
    "start_time": "2022-07-08T15:52:10.997Z"
   },
   {
    "duration": 138,
    "start_time": "2022-07-08T15:52:11.169Z"
   },
   {
    "duration": 4,
    "start_time": "2022-07-08T15:52:11.309Z"
   },
   {
    "duration": 60,
    "start_time": "2022-07-08T15:52:11.315Z"
   },
   {
    "duration": 9,
    "start_time": "2022-07-08T15:52:11.376Z"
   },
   {
    "duration": 14,
    "start_time": "2022-07-08T15:52:11.387Z"
   },
   {
    "duration": 10,
    "start_time": "2022-07-08T15:52:11.403Z"
   },
   {
    "duration": 65,
    "start_time": "2022-07-08T15:52:11.415Z"
   },
   {
    "duration": 10,
    "start_time": "2022-07-08T15:52:11.482Z"
   },
   {
    "duration": 17,
    "start_time": "2022-07-08T15:52:11.494Z"
   },
   {
    "duration": 12,
    "start_time": "2022-07-08T16:01:34.642Z"
   },
   {
    "duration": 1101,
    "start_time": "2022-07-08T16:18:19.277Z"
   },
   {
    "duration": 99,
    "start_time": "2022-07-08T16:18:20.380Z"
   },
   {
    "duration": 13,
    "start_time": "2022-07-08T16:18:20.480Z"
   },
   {
    "duration": 10,
    "start_time": "2022-07-08T16:18:20.495Z"
   },
   {
    "duration": 9,
    "start_time": "2022-07-08T16:18:20.507Z"
   },
   {
    "duration": 19,
    "start_time": "2022-07-08T16:18:20.517Z"
   },
   {
    "duration": 10,
    "start_time": "2022-07-08T16:18:20.537Z"
   },
   {
    "duration": 27,
    "start_time": "2022-07-08T16:18:20.549Z"
   },
   {
    "duration": 8,
    "start_time": "2022-07-08T16:18:20.578Z"
   },
   {
    "duration": 36,
    "start_time": "2022-07-08T16:18:20.587Z"
   },
   {
    "duration": 9,
    "start_time": "2022-07-08T16:18:20.625Z"
   },
   {
    "duration": 12,
    "start_time": "2022-07-08T16:18:20.636Z"
   },
   {
    "duration": 9,
    "start_time": "2022-07-08T16:18:20.650Z"
   },
   {
    "duration": 29,
    "start_time": "2022-07-08T16:18:20.662Z"
   },
   {
    "duration": 5,
    "start_time": "2022-07-08T16:18:20.693Z"
   },
   {
    "duration": 22,
    "start_time": "2022-07-08T16:18:20.700Z"
   },
   {
    "duration": 18,
    "start_time": "2022-07-08T16:18:20.725Z"
   },
   {
    "duration": 9,
    "start_time": "2022-07-08T16:18:20.745Z"
   },
   {
    "duration": 22,
    "start_time": "2022-07-08T16:18:20.756Z"
   },
   {
    "duration": 12,
    "start_time": "2022-07-08T16:18:20.780Z"
   },
   {
    "duration": 158,
    "start_time": "2022-07-08T16:18:20.793Z"
   },
   {
    "duration": 126,
    "start_time": "2022-07-08T16:18:20.953Z"
   },
   {
    "duration": 11,
    "start_time": "2022-07-08T16:18:21.081Z"
   },
   {
    "duration": 8,
    "start_time": "2022-07-08T16:18:21.094Z"
   },
   {
    "duration": 10,
    "start_time": "2022-07-08T16:18:21.103Z"
   },
   {
    "duration": 8,
    "start_time": "2022-07-08T16:18:21.115Z"
   },
   {
    "duration": 290,
    "start_time": "2022-07-08T16:18:21.125Z"
   },
   {
    "duration": 201,
    "start_time": "2022-07-08T16:18:21.417Z"
   },
   {
    "duration": 297,
    "start_time": "2022-07-08T16:18:21.620Z"
   },
   {
    "duration": 209,
    "start_time": "2022-07-08T16:18:21.919Z"
   },
   {
    "duration": 320,
    "start_time": "2022-07-08T16:18:22.130Z"
   },
   {
    "duration": 26,
    "start_time": "2022-07-08T16:18:22.452Z"
   },
   {
    "duration": 171,
    "start_time": "2022-07-08T16:18:22.480Z"
   },
   {
    "duration": 20,
    "start_time": "2022-07-08T16:18:22.653Z"
   },
   {
    "duration": 180,
    "start_time": "2022-07-08T16:18:22.675Z"
   },
   {
    "duration": 140,
    "start_time": "2022-07-08T16:18:22.857Z"
   },
   {
    "duration": 4,
    "start_time": "2022-07-08T16:18:22.998Z"
   },
   {
    "duration": 36,
    "start_time": "2022-07-08T16:18:23.004Z"
   },
   {
    "duration": 29,
    "start_time": "2022-07-08T16:18:23.042Z"
   },
   {
    "duration": 11,
    "start_time": "2022-07-08T16:18:23.076Z"
   },
   {
    "duration": 9,
    "start_time": "2022-07-08T16:18:23.091Z"
   },
   {
    "duration": 37,
    "start_time": "2022-07-08T16:18:23.102Z"
   },
   {
    "duration": 8,
    "start_time": "2022-07-08T16:18:23.140Z"
   },
   {
    "duration": 20,
    "start_time": "2022-07-08T16:18:23.167Z"
   },
   {
    "duration": 140,
    "start_time": "2022-07-08T16:21:13.296Z"
   },
   {
    "duration": 200,
    "start_time": "2022-07-08T16:21:29.604Z"
   },
   {
    "duration": 128,
    "start_time": "2022-07-08T16:21:55.681Z"
   },
   {
    "duration": 131,
    "start_time": "2022-07-08T16:22:25.493Z"
   },
   {
    "duration": 149,
    "start_time": "2022-07-08T16:22:40.583Z"
   },
   {
    "duration": 137,
    "start_time": "2022-07-08T16:23:06.778Z"
   },
   {
    "duration": 151,
    "start_time": "2022-07-08T16:23:28.550Z"
   },
   {
    "duration": 131,
    "start_time": "2022-07-08T16:24:06.106Z"
   },
   {
    "duration": 1282,
    "start_time": "2022-07-09T07:50:35.304Z"
   },
   {
    "duration": 101,
    "start_time": "2022-07-09T07:50:36.589Z"
   },
   {
    "duration": 21,
    "start_time": "2022-07-09T07:50:36.691Z"
   },
   {
    "duration": 35,
    "start_time": "2022-07-09T07:50:36.716Z"
   },
   {
    "duration": 22,
    "start_time": "2022-07-09T07:50:36.753Z"
   },
   {
    "duration": 24,
    "start_time": "2022-07-09T07:50:36.777Z"
   },
   {
    "duration": 13,
    "start_time": "2022-07-09T07:50:36.804Z"
   },
   {
    "duration": 32,
    "start_time": "2022-07-09T07:50:36.820Z"
   },
   {
    "duration": 11,
    "start_time": "2022-07-09T07:50:36.855Z"
   },
   {
    "duration": 42,
    "start_time": "2022-07-09T07:50:36.869Z"
   },
   {
    "duration": 15,
    "start_time": "2022-07-09T07:50:36.913Z"
   },
   {
    "duration": 26,
    "start_time": "2022-07-09T07:50:36.930Z"
   },
   {
    "duration": 21,
    "start_time": "2022-07-09T07:50:36.958Z"
   },
   {
    "duration": 27,
    "start_time": "2022-07-09T07:50:36.982Z"
   },
   {
    "duration": 5,
    "start_time": "2022-07-09T07:50:37.011Z"
   },
   {
    "duration": 20,
    "start_time": "2022-07-09T07:50:37.018Z"
   },
   {
    "duration": 21,
    "start_time": "2022-07-09T07:50:37.047Z"
   },
   {
    "duration": 16,
    "start_time": "2022-07-09T07:50:37.070Z"
   },
   {
    "duration": 16,
    "start_time": "2022-07-09T07:50:37.088Z"
   },
   {
    "duration": 7,
    "start_time": "2022-07-09T07:50:37.107Z"
   },
   {
    "duration": 286,
    "start_time": "2022-07-09T07:50:37.116Z"
   },
   {
    "duration": 204,
    "start_time": "2022-07-09T07:50:37.404Z"
   },
   {
    "duration": 36,
    "start_time": "2022-07-09T07:50:37.611Z"
   },
   {
    "duration": 14,
    "start_time": "2022-07-09T07:50:37.651Z"
   },
   {
    "duration": 10,
    "start_time": "2022-07-09T07:50:37.668Z"
   },
   {
    "duration": 5,
    "start_time": "2022-07-09T07:50:37.681Z"
   },
   {
    "duration": 977,
    "start_time": "2022-07-09T07:50:37.689Z"
   },
   {
    "duration": 601,
    "start_time": "2022-07-09T07:50:38.672Z"
   },
   {
    "duration": 517,
    "start_time": "2022-07-09T07:50:39.276Z"
   },
   {
    "duration": 611,
    "start_time": "2022-07-09T07:50:39.847Z"
   },
   {
    "duration": 466,
    "start_time": "2022-07-09T07:50:40.461Z"
   },
   {
    "duration": 29,
    "start_time": "2022-07-09T07:50:40.929Z"
   },
   {
    "duration": 239,
    "start_time": "2022-07-09T07:50:40.963Z"
   },
   {
    "duration": 7,
    "start_time": "2022-07-09T07:50:41.204Z"
   },
   {
    "duration": 196,
    "start_time": "2022-07-09T07:50:41.213Z"
   },
   {
    "duration": 182,
    "start_time": "2022-07-09T07:50:41.411Z"
   },
   {
    "duration": 5,
    "start_time": "2022-07-09T07:50:41.595Z"
   },
   {
    "duration": 69,
    "start_time": "2022-07-09T07:50:41.603Z"
   },
   {
    "duration": 10,
    "start_time": "2022-07-09T07:50:41.674Z"
   },
   {
    "duration": 14,
    "start_time": "2022-07-09T07:50:41.686Z"
   },
   {
    "duration": 17,
    "start_time": "2022-07-09T07:50:41.702Z"
   },
   {
    "duration": 68,
    "start_time": "2022-07-09T07:50:41.721Z"
   },
   {
    "duration": 13,
    "start_time": "2022-07-09T07:50:41.792Z"
   },
   {
    "duration": 44,
    "start_time": "2022-07-09T07:50:41.808Z"
   },
   {
    "duration": 64,
    "start_time": "2022-07-09T07:52:35.763Z"
   }
  ],
  "kernelspec": {
   "display_name": "Python 3 (ipykernel)",
   "language": "python",
   "name": "python3"
  },
  "language_info": {
   "codemirror_mode": {
    "name": "ipython",
    "version": 3
   },
   "file_extension": ".py",
   "mimetype": "text/x-python",
   "name": "python",
   "nbconvert_exporter": "python",
   "pygments_lexer": "ipython3",
   "version": "3.9.13"
  },
  "toc": {
   "base_numbering": 1,
   "nav_menu": {},
   "number_sections": true,
   "sideBar": true,
   "skip_h1_title": true,
   "title_cell": "Table of Contents",
   "title_sidebar": "Contents",
   "toc_cell": false,
   "toc_position": {
    "height": "calc(100% - 180px)",
    "left": "10px",
    "top": "150px",
    "width": "302.391px"
   },
   "toc_section_display": true,
   "toc_window_display": true
  }
 },
 "nbformat": 4,
 "nbformat_minor": 2
}
